{
 "cells": [
  {
   "cell_type": "markdown",
   "metadata": {},
   "source": [
    "### Importing libraries"
   ]
  },
  {
   "cell_type": "code",
   "execution_count": 1,
   "metadata": {},
   "outputs": [],
   "source": [
    "import numpy as np\n",
    "import pandas as pd\n",
    "import random\n",
    "import math\n",
    "\n",
    "from sklearn import preprocessing # normalization library\n"
   ]
  },
  {
   "cell_type": "markdown",
   "metadata": {},
   "source": [
    "### Robot Data\n",
    "Pioneer 3dx"
   ]
  },
  {
   "cell_type": "code",
   "execution_count": 3,
   "metadata": {},
   "outputs": [],
   "source": [
    "\n",
    "LMr=381e-3\n",
    "R=195e-3\n",
    "\n",
    "v_max= 1\n",
    "v_min=0.5\n",
    "\n",
    "Lt_max=1.2\n",
    "Lt_min=0.3"
   ]
  },
  {
   "cell_type": "markdown",
   "metadata": {},
   "source": [
    "### Obstacle circle \n",
    "\n",
    "Sensor range data: $[dmin_1\\quad dmax_1]\\quad m$ \n",
    "\n",
    "Heading angle data: $[-\\pi\\quad\\pi]\\quad rad$ \n"
   ]
  },
  {
   "cell_type": "code",
   "execution_count": 4,
   "metadata": {},
   "outputs": [],
   "source": [
    "min_d1=0.3\n",
    "max_d1=1"
   ]
  },
  {
   "cell_type": "code",
   "execution_count": 5,
   "metadata": {},
   "outputs": [
    {
     "name": "stdout",
     "output_type": "stream",
     "text": [
      "Raw data : [[0.562  0.8656 0.6433]\n",
      " [0.6864 0.6097 0.8191]]\n",
      "Normalized data : [[0.37421384 0.80820938 0.49042584]\n",
      " [0.55202973 0.44221968 0.74164047]]\n"
     ]
    }
   ],
   "source": [
    "# Sensor Data gen \n",
    "Obs_Data=[round(random.uniform(min_d1, max_d1),4) for _ in range(3000*3)]\n",
    "Obs_Data_M=np.array(Obs_Data).reshape(3000,3)\n",
    "\n",
    "print('Raw data :',Obs_Data_M[:2,:])\n",
    "\n",
    "normalizer=preprocessing.MinMaxScaler()\n",
    "Obs_Data_Norm=normalizer.fit_transform(Obs_Data_M)\n",
    "print('Normalized data :',Obs_Data_Norm[:2,:])\n"
   ]
  },
  {
   "cell_type": "code",
   "execution_count": 6,
   "metadata": {},
   "outputs": [
    {
     "name": "stdout",
     "output_type": "stream",
     "text": [
      "Angle data : [[-1.1116]\n",
      " [-0.0755]]\n"
     ]
    }
   ],
   "source": [
    "# HA data gen\n",
    "\n",
    "HA_Data=[round(random.uniform(-math.pi, math.pi),4) for _ in range(3000)]\n",
    "HA_Data=np.array(HA_Data).reshape(3000,1)\n",
    "print('Angle data :',HA_Data[:2])"
   ]
  },
  {
   "cell_type": "code",
   "execution_count": 23,
   "metadata": {},
   "outputs": [],
   "source": [
    "C1_Normal_Data=np.hstack((Obs_Data_Norm,HA_Data))"
   ]
  },
  {
   "cell_type": "markdown",
   "metadata": {},
   "source": [
    "### Special Data for small angles and near obstacle"
   ]
  },
  {
   "cell_type": "code",
   "execution_count": 22,
   "metadata": {},
   "outputs": [
    {
     "name": "stdout",
     "output_type": "stream",
     "text": [
      "Raw data : [[0.3413 0.3263 0.3922]\n",
      " [0.383  0.301  0.3892]]\n",
      "Normalized data : [[0.05874786 0.03689931 0.13160903]\n",
      " [0.11835334 0.0007151  0.12732209]]\n"
     ]
    }
   ],
   "source": [
    "Obs_Data_Near=[round(random.uniform(min_d1,max_d1-0.6),4) for _ in range(1000*3)]\n",
    "Obs_Data_M_Near=np.array(Obs_Data_Near).reshape(1000,3)\n",
    "\n",
    "print('Raw data :',Obs_Data_M_Near[:2,:])\n",
    "\n",
    "\n",
    "Norm_Near=normalizer.fit(Obs_Data_M)\n",
    "Obs_Data_Near=Norm_Near.transform(Obs_Data_M_Near)\n",
    "\n",
    "print('Normalized data :',Obs_Data_Near[:2,:])\n"
   ]
  },
  {
   "cell_type": "markdown",
   "metadata": {},
   "source": [
    "Small angles"
   ]
  },
  {
   "cell_type": "code",
   "execution_count": 37,
   "metadata": {},
   "outputs": [
    {
     "name": "stdout",
     "output_type": "stream",
     "text": [
      "Angle data : [[-0.481 ]\n",
      " [ 0.0463]]\n"
     ]
    }
   ],
   "source": [
    "Small_Theta_Data=[round(random.uniform(-0.5, 0.5),4) for _ in range(1000)]\n",
    "Small_Theta_Array=np.array(Small_Theta_Data).reshape(1000,1)\n",
    "print('Angle data :',Small_Theta_Array[:2])"
   ]
  },
  {
   "cell_type": "markdown",
   "metadata": {},
   "source": [
    "Stack small"
   ]
  },
  {
   "cell_type": "code",
   "execution_count": null,
   "metadata": {},
   "outputs": [],
   "source": []
  },
  {
   "cell_type": "code",
   "execution_count": null,
   "metadata": {},
   "outputs": [],
   "source": [
    "# Stack All\n",
    "\n",
    "St_train_C1=np.hstack((Obs_Data_Norm,HA_Data))\n",
    "\n"
   ]
  },
  {
   "cell_type": "markdown",
   "metadata": {},
   "source": [
    "### Inverse Kinematic Model\n",
    "\n",
    "$$\\omega_{R/L}=\\left( 1\\pm\\frac{L_{MR}}{2L_T}\\right)\\frac{v}{R}$$"
   ]
  },
  {
   "cell_type": "markdown",
   "metadata": {},
   "source": [
    "Fist Case: Left sensor nearest, objective angle +"
   ]
  },
  {
   "cell_type": "code",
   "execution_count": 8,
   "metadata": {},
   "outputs": [
    {
     "name": "stdout",
     "output_type": "stream",
     "text": [
      "Ltp:  0.57\n",
      "vel:  0.65\n",
      "Right Wheel vel:  -0.0088\n",
      "Left Wheel vel:  6.6754\n"
     ]
    }
   ],
   "source": [
    "odp=0.3\n",
    "tethad=3\n",
    "S=-1\n",
    "Lt_p=round((odp*(Lt_max-Lt_min)+Lt_min),4)\n",
    "print('Ltp: ',Lt_p)\n",
    "V_p=round(((odp)*(v_max-v_min)+v_min),4)\n",
    "print('vel: ',V_p)\n",
    "W_R=round((1+((LMr*tethad*S)/(2*Lt_p)))*(V_p/R),4)\n",
    "W_L=round((1-((LMr*tethad*S)/(2*Lt_p)))*(V_p/R),4)\n",
    "print('Right Wheel vel: ',W_R)\n",
    "print('Left Wheel vel: ',W_L)"
   ]
  },
  {
   "cell_type": "markdown",
   "metadata": {},
   "source": [
    "Second Case: Left sensor nearest, objective angle -"
   ]
  },
  {
   "cell_type": "code",
   "execution_count": null,
   "metadata": {},
   "outputs": [],
   "source": [
    "\n",
    "odp=0.1\n",
    "tethad=-3\n",
    "S=0.5\n",
    "Lt_p=round((odp*(Lt_max-Lt_min)+Lt_min),4)\n",
    "print('Ltp: ',Lt_p)\n",
    "V_p=round(((odp)*(v_max-v_min)+v_min),4)\n",
    "print('vel: ',V_p)\n",
    "W_R=round((1+((LMr*tethad*S)/(2*Lt_p)))*(V_p/R),4)\n",
    "W_L=round((1-((LMr*tethad*S)/(2*Lt_p)))*(V_p/R),4)\n",
    "print('Right Wheel vel: ',W_R)\n",
    "print('Left Wheel vel: ',W_L)"
   ]
  },
  {
   "cell_type": "markdown",
   "metadata": {},
   "source": [
    "Third case: Right sensor nearest, objective angle +"
   ]
  },
  {
   "cell_type": "code",
   "execution_count": null,
   "metadata": {},
   "outputs": [],
   "source": [
    "odp=0.114049\n",
    "tethad=0.3\n",
    "S=0.5\n",
    "Lt_p=round((odp*(Lt_max-Lt_min)+Lt_min),4)\n",
    "print('Ltp: ',Lt_p)\n",
    "V_p=round(((odp)*(v_max-v_min)+v_min),4)\n",
    "print('vel: ',V_p)\n",
    "W_R=round((1+((LMr*tethad*S)/(2*Lt_p)))*(V_p/R),4)\n",
    "W_L=round((1-((LMr*tethad*S)/(2*Lt_p)))*(V_p/R),4)\n",
    "print('Right Wheel vel: ',W_R)\n",
    "print('Left Wheel vel: ',W_L)"
   ]
  },
  {
   "cell_type": "markdown",
   "metadata": {},
   "source": [
    "Fourth case: Right sensor nearest, objective angle -"
   ]
  },
  {
   "cell_type": "code",
   "execution_count": null,
   "metadata": {},
   "outputs": [],
   "source": [
    "odp=0.209947\n",
    "tethad=-1.6546\n",
    "S=-1\n",
    "Lt_p=round((odp*(Lt_max-Lt_min)+Lt_min),4)\n",
    "print('Ltp: ',Lt_p)\n",
    "V_p=round(((odp)*(v_max-v_min)+v_min),4)\n",
    "print('vel: ',V_p)\n",
    "W_R=round((1+((LMr*tethad*S)/(2*Lt_p)))*(V_p/R),4)\n",
    "W_L=round((1-((LMr*tethad*S)/(2*Lt_p)))*(V_p/R),4)\n",
    "print('Right Wheel vel: ',W_R)\n",
    "print('Left Wheel vel: ',W_L)"
   ]
  },
  {
   "cell_type": "markdown",
   "metadata": {},
   "source": [
    "Fifth case: Front sensor nearest, objective angle +"
   ]
  },
  {
   "cell_type": "code",
   "execution_count": null,
   "metadata": {},
   "outputs": [],
   "source": [
    "odp=0.01\n",
    "tethad=0.3\n",
    "S=-1\n",
    "Lt_p=round((odp*(Lt_max-Lt_min)+Lt_min),4)\n",
    "print('Ltp: ',Lt_p)\n",
    "V_p=round(((odp)*(v_max-v_min)+v_min),4)\n",
    "print('vel: ',V_p)\n",
    "W_R=round((1+((LMr*tethad*S)/(2*Lt_p)))*(V_p/R),4)\n",
    "W_L=round((1-((LMr*tethad*S)/(2*Lt_p)))*(V_p/R),4)\n",
    "print('Right Wheel vel: ',W_R)\n",
    "print('Left Wheel vel: ',W_L)"
   ]
  },
  {
   "cell_type": "markdown",
   "metadata": {},
   "source": [
    "Sixth case: Front sensor nearest, objective angle -"
   ]
  },
  {
   "cell_type": "code",
   "execution_count": null,
   "metadata": {},
   "outputs": [],
   "source": [
    "odp=0.01\n",
    "tethad=-3\n",
    "S=-1\n",
    "Lt_p=round((odp*(Lt_max-Lt_min)+Lt_min),4)\n",
    "print('Ltp: ',Lt_p)\n",
    "V_p=round(((odp)*(v_max-v_min)+v_min),4)\n",
    "print('vel: ',V_p)\n",
    "W_R=round((1+((LMr*tethad*S)/(2*Lt_p)))*(V_p/R),4)\n",
    "W_L=round((1-((LMr*tethad*S)/(2*Lt_p)))*(V_p/R),4)\n",
    "print('Right Wheel vel: ',W_R)\n",
    "print('Left Wheel vel: ',W_L)"
   ]
  },
  {
   "cell_type": "markdown",
   "metadata": {},
   "source": [
    "### Dataset Creation"
   ]
  },
  {
   "cell_type": "code",
   "execution_count": null,
   "metadata": {},
   "outputs": [],
   "source": [
    "Df_C1['Min Value']=Df_C1[['LD','FD','RD']].min(axis=1)\n",
    "Df_C1.sample(6)\n"
   ]
  },
  {
   "cell_type": "markdown",
   "metadata": {},
   "source": [
    "### Left Wheel Evaluation"
   ]
  },
  {
   "cell_type": "code",
   "execution_count": null,
   "metadata": {},
   "outputs": [],
   "source": [
    "def lw_eval(df):\n",
    "    if df['Min Value']== df['LD'] and df['HA']>0:\n",
    "        Sf=-1\n",
    "        odpf=df['LD']\n",
    "    elif df['Min Value']== df['LD'] and df['HA']<0:\n",
    "        Sf=0.5\n",
    "        odpf=df['LD']\n",
    "    elif df['Min Value']== df['RD'] and df['HA']>0:\n",
    "        Sf=0.5\n",
    "        odpf=df['RD']\n",
    "    elif df['Min Value']== df['RD'] and df['HA']<0:\n",
    "        Sf=-1\n",
    "        odpf=df['RD']\n",
    "    elif df['Min Value']== df['FD'] and df['HA']>0:\n",
    "        Sf=-1\n",
    "        odpf=df['FD']\n",
    "    elif df['Min Value']== df['FD'] and df['HA']<0:\n",
    "        Sf=-1\n",
    "        odpf=df['FD']\n",
    "    \n",
    "        \n",
    "      \n",
    "    if odpf==0:\n",
    "      odpf=0.001\n",
    "      \n",
    "    tethad=df['HA']\n",
    "    \n",
    "    \n",
    "    Lt_p=round((odpf*(Lt_max-Lt_min)+Lt_min),4)\n",
    "    V_p=round(((odpf)*(v_max-v_min)+v_min),4)\n",
    "\n",
    "    \n",
    "    return round((1-((LMr*tethad*Sf)/(2*Lt_p)))*(V_p/R),4)\n",
    "\n",
    "def rw_eval(df):\n",
    "    if df['Min Value']== df['LD'] and df['HA']>0:\n",
    "        Sf=-1\n",
    "        odpf=df['LD']\n",
    "    elif df['Min Value']== df['LD'] and df['HA']<0:\n",
    "        Sf=0.5\n",
    "        odpf=df['LD']\n",
    "    elif df['Min Value']== df['RD'] and df['HA']>0:\n",
    "        Sf=0.5\n",
    "        odpf=df['RD']\n",
    "    elif df['Min Value']== df['RD'] and df['HA']<0:\n",
    "        Sf=-1\n",
    "        odpf=df['RD']\n",
    "    elif df['Min Value']== df['FD'] and df['HA']>0:\n",
    "        Sf=-1\n",
    "        odpf=df['FD']\n",
    "    elif df['Min Value']== df['FD'] and df['HA']<0:\n",
    "        Sf=-1\n",
    "        odpf=df['FD']\n",
    "      \n",
    "      \n",
    "    if odpf==0:\n",
    "      odpf=0.001\n",
    "      \n",
    "    tethad=df['HA']\n",
    "   \n",
    "    \n",
    "    Lt_p=round((odpf*(Lt_max-Lt_min)+Lt_min),4)\n",
    "    V_p=round(((odpf)*(v_max-v_min)+v_min),4)\n",
    "\n",
    "    \n",
    "    return round((1+((LMr*tethad*Sf)/(2*Lt_p)))*(V_p/R),4)\n",
    "        \n",
    "\n",
    "Df_C1=Df_C1.assign(W_L=Df_C1.apply(lw_eval,axis=1))\n",
    "\n",
    "Df_C1=Df_C1.assign(W_R=Df_C1.apply(rw_eval,axis=1))\n",
    "\n",
    "Df_C1.sample(6)\n",
    "\n",
    "\n",
    "\n",
    "        "
   ]
  },
  {
   "cell_type": "markdown",
   "metadata": {},
   "source": [
    "Extract WL to train "
   ]
  },
  {
   "cell_type": "code",
   "execution_count": null,
   "metadata": {},
   "outputs": [],
   "source": [
    "Df_C1_Train=Df_C1[['LD','FD','RD','HA','W_L']]\n",
    "Df_C1_Train.sample(6)"
   ]
  },
  {
   "cell_type": "code",
   "execution_count": null,
   "metadata": {},
   "outputs": [],
   "source": [
    "Df_C1_Train.to_csv('Df_C1_Train_L_2.csv',index=False)"
   ]
  },
  {
   "cell_type": "markdown",
   "metadata": {},
   "source": [
    "Extract WR to train "
   ]
  },
  {
   "cell_type": "code",
   "execution_count": null,
   "metadata": {},
   "outputs": [],
   "source": [
    "Df_C1_TrainR=Df_C1[['LD','FD','RD','HA','W_R']]\n",
    "Df_C1_TrainR.sample(6)"
   ]
  },
  {
   "cell_type": "code",
   "execution_count": null,
   "metadata": {},
   "outputs": [],
   "source": [
    "Df_C1_TrainR.to_csv('Df_C1_Train_R_2.csv',index=False)"
   ]
  },
  {
   "cell_type": "markdown",
   "metadata": {},
   "source": [
    "## No obstacle circle"
   ]
  },
  {
   "cell_type": "markdown",
   "metadata": {},
   "source": [
    "### Angle Data Generation"
   ]
  },
  {
   "cell_type": "code",
   "execution_count": null,
   "metadata": {},
   "outputs": [],
   "source": [
    "HA_Data_2=[round(random.uniform(-math.pi, math.pi),4) for _ in range(3000)]\n",
    "HA_Data_2=np.array(HA_Data).reshape(3000,1)\n",
    "print('Angle data :',HA_Data_2[:2])"
   ]
  },
  {
   "cell_type": "code",
   "execution_count": null,
   "metadata": {},
   "outputs": [],
   "source": [
    "Df_C2=pd.DataFrame(HA_Data_2,columns=[['HA']])\n",
    "Df_C2.sample(6)"
   ]
  },
  {
   "cell_type": "markdown",
   "metadata": {},
   "source": [
    "### Evaluation   Right and Left Wheel"
   ]
  },
  {
   "cell_type": "code",
   "execution_count": null,
   "metadata": {},
   "outputs": [],
   "source": [
    "Lt_2=1.2\n",
    "v_max=1\n",
    "\n",
    "def lw_eval_NO(df):\n",
    "    Sf1=-1\n",
    "    haf=df['HA']\n",
    "    Lt_pf=round((Lt_2),4)\n",
    "    V_pf=round(v_max,4)\n",
    "    return round((1-((LMr*haf*Sf1)/(2*Lt_pf)))*(V_pf/R),4)\n",
    "\n",
    "def rw_eval_NO(df):\n",
    "    Sf1=-1\n",
    "    haf=df['HA']\n",
    "    Lt_pf=round((Lt_2),4)\n",
    "    V_pf=round(v_max,4)\n",
    "    return round((1+((LMr*haf*Sf1)/(2*Lt_pf)))*(V_pf/R),4)\n",
    "\n",
    "\n",
    "Df_C2=Df_C2.assign(W_L=Df_C2.apply(lw_eval_NO,axis=1))\n",
    "\n",
    "Df_C2=Df_C2.assign(W_R=Df_C2.apply(rw_eval_NO,axis=1))\n",
    "\n",
    "\n",
    "Df_C2.sample(6)\n",
    "\n"
   ]
  },
  {
   "cell_type": "markdown",
   "metadata": {},
   "source": [
    "Left Wheel Train NO"
   ]
  },
  {
   "cell_type": "code",
   "execution_count": null,
   "metadata": {},
   "outputs": [],
   "source": [
    "Df_C2_Train=Df_C2[['HA','W_L']]\n",
    "Df_C2_Train.sample(6)"
   ]
  },
  {
   "cell_type": "code",
   "execution_count": null,
   "metadata": {},
   "outputs": [],
   "source": [
    "Df_C2_Train.to_csv('Df_C2_Train_L_2.csv',index=False)"
   ]
  },
  {
   "cell_type": "markdown",
   "metadata": {},
   "source": [
    "Right Wheel Train NO"
   ]
  },
  {
   "cell_type": "code",
   "execution_count": null,
   "metadata": {},
   "outputs": [],
   "source": [
    "Df_C2_Train_R=Df_C2[['HA','W_R']]\n",
    "Df_C2_Train_R.head(6)"
   ]
  },
  {
   "cell_type": "code",
   "execution_count": null,
   "metadata": {},
   "outputs": [],
   "source": [
    "Df_C2_Train_R.to_csv('Df_C2_Train_R_2.csv',index=False)"
   ]
  }
 ],
 "metadata": {
  "kernelspec": {
   "display_name": "Python 3",
   "language": "python",
   "name": "python3"
  },
  "language_info": {
   "codemirror_mode": {
    "name": "ipython",
    "version": 3
   },
   "file_extension": ".py",
   "mimetype": "text/x-python",
   "name": "python",
   "nbconvert_exporter": "python",
   "pygments_lexer": "ipython3",
   "version": "3.12.4"
  }
 },
 "nbformat": 4,
 "nbformat_minor": 2
}
