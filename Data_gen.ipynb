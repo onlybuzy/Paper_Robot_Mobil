{
 "cells": [
  {
   "cell_type": "markdown",
   "metadata": {},
   "source": [
    "### Importing libraries"
   ]
  },
  {
   "cell_type": "code",
   "execution_count": 1,
   "metadata": {},
   "outputs": [],
   "source": [
    "import numpy as np\n",
    "import pandas as pd\n",
    "import random\n",
    "import math\n",
    "\n",
    "from sklearn import preprocessing # normalization library\n"
   ]
  },
  {
   "cell_type": "markdown",
   "metadata": {},
   "source": [
    "### Robot Data\n",
    "Pioneer 3dx"
   ]
  },
  {
   "cell_type": "code",
   "execution_count": 2,
   "metadata": {},
   "outputs": [],
   "source": [
    "LMr=381e-3\n",
    "R=195e-3\n",
    "\n",
    "v_max= 1\n",
    "v_min=0.3\n",
    "\n",
    "Lt_max=1.2\n",
    "Lt_min=0.3"
   ]
  },
  {
   "cell_type": "markdown",
   "metadata": {},
   "source": [
    "Mean Velocity"
   ]
  },
  {
   "cell_type": "code",
   "execution_count": 3,
   "metadata": {},
   "outputs": [
    {
     "name": "stdout",
     "output_type": "stream",
     "text": [
      "0.65\n"
     ]
    }
   ],
   "source": [
    "v_mean=(v_max+v_min)/2\n",
    "print(v_mean)"
   ]
  },
  {
   "cell_type": "markdown",
   "metadata": {},
   "source": [
    "### Obstacle circle \n",
    "\n",
    "Sensor range data: $[dmin_1\\quad dmax_1]\\quad m$ \n",
    "\n",
    "Heading angle data: $[-\\pi\\quad\\pi]\\quad rad$ \n"
   ]
  },
  {
   "cell_type": "code",
   "execution_count": 4,
   "metadata": {},
   "outputs": [],
   "source": [
    "min_d1=0.3\n",
    "max_d1=1"
   ]
  },
  {
   "cell_type": "code",
   "execution_count": 5,
   "metadata": {},
   "outputs": [
    {
     "name": "stdout",
     "output_type": "stream",
     "text": [
      "Raw data : [[0.7291 0.9099 0.4465]\n",
      " [0.7621 0.47   0.9277]]\n",
      "Normalized data : [[0.61308758 0.87119371 0.20909611]\n",
      " [0.66023718 0.24231594 0.89731121]]\n"
     ]
    }
   ],
   "source": [
    "# Sensor Data gen \n",
    "Obs_Data=[round(random.uniform(min_d1, max_d1),4) for _ in range(3000*3)]\n",
    "Obs_Data_M=np.array(Obs_Data).reshape(3000,3)\n",
    "\n",
    "print('Raw data :',Obs_Data_M[:2,:])\n",
    "\n",
    "normalizer=preprocessing.MinMaxScaler()\n",
    "Obs_Data_Norm=normalizer.fit_transform(Obs_Data_M)\n",
    "print('Normalized data :',Obs_Data_Norm[:2,:])\n"
   ]
  },
  {
   "cell_type": "code",
   "execution_count": 6,
   "metadata": {},
   "outputs": [
    {
     "name": "stdout",
     "output_type": "stream",
     "text": [
      "Angle data : [[ 2.9772]\n",
      " [-1.461 ]]\n"
     ]
    }
   ],
   "source": [
    "# HA data gen\n",
    "\n",
    "HA_Data=[round(random.uniform(-math.pi, math.pi),4) for _ in range(3000)]\n",
    "HA_Data=np.array(HA_Data).reshape(3000,1)\n",
    "print('Angle data :',HA_Data[:2])"
   ]
  },
  {
   "cell_type": "markdown",
   "metadata": {},
   "source": [
    "Stack Normal Data"
   ]
  },
  {
   "cell_type": "code",
   "execution_count": 7,
   "metadata": {},
   "outputs": [
    {
     "name": "stdout",
     "output_type": "stream",
     "text": [
      "Normal array : [[ 0.61308758  0.87119371  0.20909611  2.9772    ]\n",
      " [ 0.66023718  0.24231594  0.89731121 -1.461     ]]\n"
     ]
    }
   ],
   "source": [
    "\n",
    "\n",
    "C1_Normal_Data=np.hstack((Obs_Data_Norm,HA_Data))\n",
    "print('Normal array :',C1_Normal_Data[:2])"
   ]
  },
  {
   "cell_type": "markdown",
   "metadata": {},
   "source": [
    "### Special Data for small angles and near obstacle"
   ]
  },
  {
   "cell_type": "code",
   "execution_count": 8,
   "metadata": {},
   "outputs": [
    {
     "name": "stdout",
     "output_type": "stream",
     "text": [
      "Raw data : [[0.3483 0.3621 0.3289]\n",
      " [0.3427 0.3889 0.391 ]]\n",
      "Normalized data : [[0.06900986 0.0880629  0.04090389]\n",
      " [0.06100872 0.12637598 0.12971968]]\n"
     ]
    }
   ],
   "source": [
    "Obs_Data_Near=[round(random.uniform(min_d1,max_d1-0.6),4) for _ in range(1000*3)]\n",
    "Obs_Data_M_Near=np.array(Obs_Data_Near).reshape(1000,3)\n",
    "\n",
    "print('Raw data :',Obs_Data_M_Near[:2,:])\n",
    "\n",
    "\n",
    "Norm_Near=normalizer.fit(Obs_Data_M)\n",
    "Obs_Data_Near=Norm_Near.transform(Obs_Data_M_Near)\n",
    "\n",
    "print('Normalized data :',Obs_Data_Near[:2,:])\n"
   ]
  },
  {
   "cell_type": "markdown",
   "metadata": {},
   "source": [
    "Small angles"
   ]
  },
  {
   "cell_type": "code",
   "execution_count": 9,
   "metadata": {},
   "outputs": [
    {
     "name": "stdout",
     "output_type": "stream",
     "text": [
      "Angle data : [[0.0087]\n",
      " [0.2717]]\n"
     ]
    }
   ],
   "source": [
    "Small_Theta_Data=[round(random.uniform(-0.5, 0.5),4) for _ in range(1000)]\n",
    "Small_Theta_Array=np.array(Small_Theta_Data).reshape(1000,1)\n",
    "print('Angle data :',Small_Theta_Array[:2])"
   ]
  },
  {
   "cell_type": "markdown",
   "metadata": {},
   "source": [
    "Stack small"
   ]
  },
  {
   "cell_type": "code",
   "execution_count": 10,
   "metadata": {},
   "outputs": [
    {
     "name": "stdout",
     "output_type": "stream",
     "text": [
      "Small array : [[0.06900986 0.0880629  0.04090389 0.0087    ]\n",
      " [0.06100872 0.12637598 0.12971968 0.2717    ]]\n"
     ]
    }
   ],
   "source": [
    "C1_Small_Data=np.hstack((Obs_Data_Near,Small_Theta_Array))\n",
    "print('Small array :',C1_Small_Data[:2])"
   ]
  },
  {
   "cell_type": "markdown",
   "metadata": {},
   "source": [
    "Stack all and Randomize"
   ]
  },
  {
   "cell_type": "code",
   "execution_count": 11,
   "metadata": {},
   "outputs": [
    {
     "name": "stdout",
     "output_type": "stream",
     "text": [
      "[[0.33876268 0.89220872 0.30005721 0.9721    ]\n",
      " [0.53121875 0.22544675 0.60440503 2.1746    ]]\n"
     ]
    }
   ],
   "source": [
    "# Stack All\n",
    "\n",
    "St_train_C1=np.vstack((C1_Normal_Data,C1_Small_Data))\n",
    "np.random.shuffle(St_train_C1)\n",
    "print(St_train_C1[:2])\n",
    "\n"
   ]
  },
  {
   "cell_type": "markdown",
   "metadata": {},
   "source": [
    "Make dataframe"
   ]
  },
  {
   "cell_type": "code",
   "execution_count": 12,
   "metadata": {},
   "outputs": [
    {
     "data": {
      "text/html": [
       "<div>\n",
       "<style scoped>\n",
       "    .dataframe tbody tr th:only-of-type {\n",
       "        vertical-align: middle;\n",
       "    }\n",
       "\n",
       "    .dataframe tbody tr th {\n",
       "        vertical-align: top;\n",
       "    }\n",
       "\n",
       "    .dataframe thead th {\n",
       "        text-align: right;\n",
       "    }\n",
       "</style>\n",
       "<table border=\"1\" class=\"dataframe\">\n",
       "  <thead>\n",
       "    <tr style=\"text-align: right;\">\n",
       "      <th></th>\n",
       "      <th>LS</th>\n",
       "      <th>FS</th>\n",
       "      <th>RS</th>\n",
       "      <th>Thetad</th>\n",
       "    </tr>\n",
       "  </thead>\n",
       "  <tbody>\n",
       "    <tr>\n",
       "      <th>1874</th>\n",
       "      <td>0.688384</td>\n",
       "      <td>0.105075</td>\n",
       "      <td>0.373999</td>\n",
       "      <td>-2.3902</td>\n",
       "    </tr>\n",
       "    <tr>\n",
       "      <th>2756</th>\n",
       "      <td>0.167881</td>\n",
       "      <td>0.717227</td>\n",
       "      <td>0.754291</td>\n",
       "      <td>-2.8133</td>\n",
       "    </tr>\n",
       "    <tr>\n",
       "      <th>3101</th>\n",
       "      <td>0.071725</td>\n",
       "      <td>0.533953</td>\n",
       "      <td>0.104405</td>\n",
       "      <td>-3.1241</td>\n",
       "    </tr>\n",
       "    <tr>\n",
       "      <th>2746</th>\n",
       "      <td>0.324475</td>\n",
       "      <td>0.989421</td>\n",
       "      <td>0.620137</td>\n",
       "      <td>1.1373</td>\n",
       "    </tr>\n",
       "    <tr>\n",
       "      <th>2345</th>\n",
       "      <td>0.398914</td>\n",
       "      <td>0.965690</td>\n",
       "      <td>0.437357</td>\n",
       "      <td>-3.0692</td>\n",
       "    </tr>\n",
       "    <tr>\n",
       "      <th>3505</th>\n",
       "      <td>0.969281</td>\n",
       "      <td>0.081201</td>\n",
       "      <td>0.963244</td>\n",
       "      <td>-0.8700</td>\n",
       "    </tr>\n",
       "  </tbody>\n",
       "</table>\n",
       "</div>"
      ],
      "text/plain": [
       "            LS        FS        RS  Thetad\n",
       "1874  0.688384  0.105075  0.373999 -2.3902\n",
       "2756  0.167881  0.717227  0.754291 -2.8133\n",
       "3101  0.071725  0.533953  0.104405 -3.1241\n",
       "2746  0.324475  0.989421  0.620137  1.1373\n",
       "2345  0.398914  0.965690  0.437357 -3.0692\n",
       "3505  0.969281  0.081201  0.963244 -0.8700"
      ]
     },
     "execution_count": 12,
     "metadata": {},
     "output_type": "execute_result"
    }
   ],
   "source": [
    "Df_C1=pd.DataFrame(St_train_C1, columns=['LS','FS','RS','Thetad'])\n",
    "Df_C1.sample(6)"
   ]
  },
  {
   "cell_type": "markdown",
   "metadata": {},
   "source": [
    "### Inverse Kinematic Model\n",
    "\n",
    "$$\\omega_{R/L}=\\left( 1\\pm\\frac{L_{MR}}{2L_T}\\right)\\frac{v}{R}$$"
   ]
  },
  {
   "cell_type": "markdown",
   "metadata": {},
   "source": [
    "Gain near extremes normalized"
   ]
  },
  {
   "cell_type": "code",
   "execution_count": 13,
   "metadata": {},
   "outputs": [],
   "source": [
    "def gain_near_extremes_normalized(x):\n",
    "     return 4 * x * (1 - x)"
   ]
  },
  {
   "cell_type": "code",
   "execution_count": 14,
   "metadata": {},
   "outputs": [],
   "source": [
    "def gain_near_zero(x, scale=10):\n",
    "     gain = np.exp(-scale * x)\n",
    "     normalized_gain = (gain - np.exp(-scale)) / (1 - np.exp(-scale))\n",
    "     return normalized_gain\n",
    "    "
   ]
  },
  {
   "cell_type": "markdown",
   "metadata": {},
   "source": [
    "First Case: Left sensor nearest, objective angle +"
   ]
  },
  {
   "cell_type": "code",
   "execution_count": 15,
   "metadata": {},
   "outputs": [
    {
     "name": "stdout",
     "output_type": "stream",
     "text": [
      "Factor :  0\n",
      "Ltp:  1.2\n",
      "vel:  1.0\n",
      "Tetha sel:  3\n",
      "Right Wheel vel:  2.6859\n",
      "Left Wheel vel:  7.5705\n"
     ]
    }
   ],
   "source": [
    "odp=1\n",
    "theta_d=3\n",
    "\n",
    "\n",
    "S=-1\n",
    "factor=round(gain_near_extremes_normalized(odp),4)\n",
    "print('Factor : ',factor)\n",
    "Lt_p=round(((odp)*(Lt_max-Lt_min)+Lt_min),4)\n",
    "print('Ltp: ',Lt_p)\n",
    "V_p=round(v_max-(factor*(v_mean/2)),4)\n",
    "print('vel: ',V_p)\n",
    "if odp<0.2 and theta_d<0.5:\n",
    "    fth=round(gain_near_zero(theta_d,scale=10),4)\n",
    "    print('Factor theta:',fth)\n",
    "    theta_d=round(fth*math.pi,4)\n",
    "else:\n",
    "    theta_d=theta_d\n",
    "print('Tetha sel: ',theta_d)\n",
    "W_R=round((1+((LMr*theta_d*S)/(2*Lt_p)))*(V_p/R),4)\n",
    "W_L=round((1-((LMr*theta_d*S)/(2*Lt_p)))*(V_p/R),4)\n",
    "print('Right Wheel vel: ',W_R)\n",
    "print('Left Wheel vel: ',W_L)\n",
    "\n",
    "\n",
    "def Case_1_R(odp,theta_d):\n",
    "    S=-1\n",
    "    factor=round(gain_near_extremes_normalized(odp),4)\n",
    "    Lt_p=round(((odp)*(Lt_max-Lt_min)+Lt_min),4)\n",
    "    V_p=round(v_max-(factor*(v_mean/2)),4)\n",
    "    if odp<0.2 and theta_d<0.5:\n",
    "        fth=round(gain_near_zero(theta_d,scale=10),4)\n",
    "        theta_d=round(fth*math.pi,4)\n",
    "    else:\n",
    "        theta_d=theta_d\n",
    "    return round((1+((LMr*theta_d*S)/(2*Lt_p)))*(V_p/R),4)\n",
    "\n",
    "    \n",
    "def Case_1_L(odp,theta_d):\n",
    "    S=-1\n",
    "    factor=round(gain_near_extremes_normalized(odp),4)\n",
    "    Lt_p=round(((odp)*(Lt_max-Lt_min)+Lt_min),4)\n",
    "    V_p=round(v_max-(factor*(v_mean/2)),4)\n",
    "    if odp<0.2 and theta_d<0.5:\n",
    "        fth=round(gain_near_zero(theta_d,scale=10),4)\n",
    "        theta_d=round(fth*math.pi,4)\n",
    "    else:\n",
    "        theta_d=theta_d\n",
    "    return round((1-((LMr*theta_d*S)/(2*Lt_p)))*(V_p/R),4)\n",
    "\n",
    "    "
   ]
  },
  {
   "cell_type": "markdown",
   "metadata": {},
   "source": [
    "Second Case: Left sensor nearest, objective angle -"
   ]
  },
  {
   "cell_type": "code",
   "execution_count": 16,
   "metadata": {},
   "outputs": [
    {
     "name": "stdout",
     "output_type": "stream",
     "text": [
      "Factor :  0\n",
      "Ltp:  1.2\n",
      "vel:  1.0\n",
      "Tetha sel:  -2\n",
      "Right Wheel vel:  4.1394\n",
      "Left Wheel vel:  6.117\n"
     ]
    }
   ],
   "source": [
    "\n",
    "odp=1\n",
    "theta_d=-2\n",
    "S=1\n",
    "factor=round(gain_near_extremes_normalized(odp),4)\n",
    "print('Factor : ',factor)\n",
    "\n",
    "Lt_p=round(((odp)*(Lt_max-Lt_min)+Lt_min),4)\n",
    "print('Ltp: ',Lt_p)\n",
    "V_p=round(v_max-(factor*(v_mean/2)),4)\n",
    "print('vel: ',V_p)\n",
    "\n",
    "if odp<0.2 and theta_d>-0.5 and theta_d<0:\n",
    "    fth=round(gain_near_zero(-1*theta_d),4)\n",
    "    print('Factor theta:',fth)\n",
    "    theta_d=fth*-math.pi\n",
    "else:\n",
    "    theta_d=theta_d\n",
    "    \n",
    "cf=math.pi/4\n",
    "    \n",
    "print('Tetha sel: ',theta_d)\n",
    "W_R=round((1+((LMr*(theta_d+cf)*S)/(2*Lt_p)))*(V_p/R),4)\n",
    "W_L=round((1-((LMr*(theta_d+cf)*S)/(2*Lt_p)))*(V_p/R),4)\n",
    "print('Right Wheel vel: ',W_R)\n",
    "print('Left Wheel vel: ',W_L)\n",
    "\n",
    "def Case_2_R(odp,theta_d):\n",
    "    S=1\n",
    "    factor=round(gain_near_extremes_normalized(odp),4)\n",
    "    Lt_p=round(((odp)*(Lt_max-Lt_min)+Lt_min),4)\n",
    "    V_p=round(v_max-(factor*(v_mean/2)),4)\n",
    "    if odp<0.2 and theta_d>-0.5 and theta_d<0:\n",
    "        fth=round(gain_near_zero(-1*theta_d),4)\n",
    "        theta_d=fth*-math.pi\n",
    "    else:\n",
    "        theta_d=theta_d   \n",
    "    cf=math.pi/4   \n",
    "    return round((1+((LMr*(theta_d+cf)*S)/(2*Lt_p)))*(V_p/R),4)\n",
    "    \n",
    "def Case_2_L(odp,theta_d):\n",
    "    S=1\n",
    "    factor=round(gain_near_extremes_normalized(odp),4)\n",
    "    Lt_p=round(((odp)*(Lt_max-Lt_min)+Lt_min),4)\n",
    "    V_p=round(v_max-(factor*(v_mean/2)),4)\n",
    "    if odp<0.2 and theta_d>-0.5 and theta_d<0:\n",
    "        fth=round(gain_near_zero(-1*theta_d),4)\n",
    "        theta_d=fth*-math.pi\n",
    "    else:\n",
    "        theta_d=theta_d   \n",
    "    cf=math.pi/4   \n",
    "    return round((1-((LMr*(theta_d+cf)*S)/(2*Lt_p)))*(V_p/R),4)"
   ]
  },
  {
   "cell_type": "markdown",
   "metadata": {},
   "source": [
    "Third case: Right sensor nearest, objective angle +"
   ]
  },
  {
   "cell_type": "code",
   "execution_count": 17,
   "metadata": {},
   "outputs": [
    {
     "name": "stdout",
     "output_type": "stream",
     "text": [
      "Factor :  0.36\n",
      "Ltp:  0.39\n",
      "vel:  0.883\n",
      "Factor theta: 0.2231\n",
      "Tetha sel:  -1\n",
      "Right Wheel vel:  0.5792\n",
      "Left Wheel vel:  8.4772\n"
     ]
    }
   ],
   "source": [
    "odp=0.1\n",
    "theta_d=0.15\n",
    "S=1\n",
    "factor=round(gain_near_extremes_normalized(odp),4)\n",
    "print('Factor : ',factor)\n",
    "\n",
    "Lt_p=round(((odp)*(Lt_max-Lt_min)+Lt_min),4)\n",
    "print('Ltp: ',Lt_p)\n",
    "V_p=round(v_max-(factor*(v_mean/2)),4)\n",
    "print('vel: ',V_p)\n",
    "\n",
    "if odp<0.2 and theta_d<0.5 and theta_d>0:\n",
    "    fth=round(gain_near_zero(theta_d),4)\n",
    "    print('Factor theta:',fth)\n",
    "    theta_d=round(fth*-math.pi)\n",
    "else:\n",
    "    theta_d=theta_d\n",
    "cf=math.pi/4\n",
    "    \n",
    "print('Tetha sel: ',theta_d)\n",
    "W_R=round((1+((LMr*(theta_d-cf)*S)/(2*Lt_p)))*(V_p/R),4)\n",
    "W_L=round((1-((LMr*(theta_d-cf)*S)/(2*Lt_p)))*(V_p/R),4)\n",
    "print('Right Wheel vel: ',W_R)\n",
    "print('Left Wheel vel: ',W_L)\n",
    "\n",
    "def Case_3_R(odp,theta_d):\n",
    "    S=1\n",
    "    factor=round(gain_near_extremes_normalized(odp),4)\n",
    "    Lt_p=round(((odp)*(Lt_max-Lt_min)+Lt_min),4)\n",
    "    V_p=round(v_max-(factor*(v_mean/2)),4)\n",
    "    if odp<0.2 and theta_d<0.5 and theta_d>0:\n",
    "        fth=round(gain_near_zero(theta_d),4)\n",
    "        theta_d=round(fth*-math.pi)\n",
    "    else:\n",
    "        theta_d=theta_d\n",
    "    cf=math.pi/4\n",
    "    return round((1+((LMr*(theta_d-cf)*S)/(2*Lt_p)))*(V_p/R),4)\n",
    "\n",
    "def Case_3_L(odp,theta_d):\n",
    "    S=1\n",
    "    factor=round(gain_near_extremes_normalized(odp),4)\n",
    "    Lt_p=round(((odp)*(Lt_max-Lt_min)+Lt_min),4)\n",
    "    V_p=round(v_max-(factor*(v_mean/2)),4)\n",
    "    if odp<0.2 and theta_d<0.5 and theta_d>0:\n",
    "        fth=round(gain_near_zero(theta_d),4)\n",
    "        theta_d=round(fth*-math.pi)\n",
    "    else:\n",
    "        theta_d=theta_d\n",
    "    cf=math.pi/4\n",
    "    return round((1-((LMr*(theta_d-cf)*S)/(2*Lt_p)))*(V_p/R),4)"
   ]
  },
  {
   "cell_type": "markdown",
   "metadata": {},
   "source": [
    "Fourth case: Right sensor nearest, objective angle -"
   ]
  },
  {
   "cell_type": "code",
   "execution_count": 18,
   "metadata": {},
   "outputs": [
    {
     "name": "stdout",
     "output_type": "stream",
     "text": [
      "Ltp:  1.2\n",
      "vel:  1.0\n",
      "Tetha sel:  0\n",
      "Right Wheel vel:  5.1282\n",
      "Left Wheel vel:  5.1282\n"
     ]
    }
   ],
   "source": [
    "odp=1\n",
    "theta_d=0\n",
    "S=-1\n",
    "\n",
    "factor=round(gain_near_extremes_normalized(odp),4)\n",
    "\n",
    "Lt_p=round(((odp)*(Lt_max-Lt_min)+Lt_min),4)\n",
    "print('Ltp: ',Lt_p)\n",
    "V_p=round(v_max-(factor*(v_mean/2)),4)\n",
    "print('vel: ',V_p)\n",
    "\n",
    "if odp<0.2 and theta_d>-0.5 and theta_d<0:\n",
    "    fth=round(gain_near_zero(-1*theta_d),4)\n",
    "    print('Factor theta:',fth)\n",
    "    theta_d=round(fth*-math.pi,4)\n",
    "else:\n",
    "    theta_d=theta_d\n",
    "\n",
    "\n",
    "print('Tetha sel: ',theta_d)\n",
    "\n",
    "W_R=round((1+((LMr*theta_d*S)/(2*Lt_p)))*(V_p/R),4)\n",
    "W_L=round((1-((LMr*theta_d*S)/(2*Lt_p)))*(V_p/R),4)\n",
    "print('Right Wheel vel: ',W_R)\n",
    "print('Left Wheel vel: ',W_L)\n",
    "\n",
    "def Case_4_R(odp,theta_d):\n",
    "    S=-1\n",
    "    factor=round(gain_near_extremes_normalized(odp),4)\n",
    "    Lt_p=round(((odp)*(Lt_max-Lt_min)+Lt_min),4)\n",
    "    V_p=round(v_max-(factor*(v_mean/2)),4)\n",
    "    if odp<0.2 and theta_d>-0.5 and theta_d<0:\n",
    "        fth=round(gain_near_zero(-1*theta_d),4)\n",
    "        theta_d=round(fth*-math.pi,4)\n",
    "    else:\n",
    "        theta_d=theta_d\n",
    "        \n",
    "    return round((1+((LMr*theta_d*S)/(2*Lt_p)))*(V_p/R),4)\n",
    "\n",
    "\n",
    "def Case_4_L(odp,theta_d):\n",
    "    S=-1\n",
    "    factor=round(gain_near_extremes_normalized(odp),4)\n",
    "    Lt_p=round(((odp)*(Lt_max-Lt_min)+Lt_min),4)\n",
    "    V_p=round(v_max-(factor*(v_mean/2)),4)\n",
    "    if odp<0.2 and theta_d>-0.5 and theta_d<0:\n",
    "        fth=round(gain_near_zero(-1*theta_d),4)\n",
    "        theta_d=round(fth*-math.pi,4)\n",
    "    else:\n",
    "        theta_d=theta_d\n",
    "        \n",
    "    return round((1-((LMr*theta_d*S)/(2*Lt_p)))*(V_p/R),4)"
   ]
  },
  {
   "cell_type": "markdown",
   "metadata": {},
   "source": [
    "Fifth case: Front sensor nearest, objective angle +"
   ]
  },
  {
   "cell_type": "code",
   "execution_count": 19,
   "metadata": {},
   "outputs": [
    {
     "name": "stdout",
     "output_type": "stream",
     "text": [
      "Factor :  0.84\n",
      "Ltp:  0.57\n",
      "vel:  0.727\n",
      "Tetha sel:  3\n",
      "Right Wheel vel:  -0.0098\n",
      "Left Wheel vel:  7.4662\n"
     ]
    }
   ],
   "source": [
    "odp=0.3\n",
    "theta_d=3\n",
    "S=-1\n",
    "\n",
    "factor=round(gain_near_extremes_normalized(odp),4)\n",
    "print('Factor : ',factor)\n",
    "\n",
    "\n",
    "Lt_p=round(((odp)*(Lt_max-Lt_min)+Lt_min),4)\n",
    "print('Ltp: ',Lt_p)\n",
    "V_p=round(v_max-(factor*(v_mean/2)),4)\n",
    "print('vel: ',V_p)\n",
    "\n",
    "if odp<0.2 and theta_d<0.5:\n",
    "    fth=round(gain_near_zero(theta_d,scale=10),4)\n",
    "    print('Factor theta:',fth)\n",
    "    theta_d=round(fth*math.pi,4)\n",
    "else:\n",
    "    theta_d=theta_d\n",
    "\n",
    "print('Tetha sel: ',theta_d)\n",
    "W_R=round((1+((LMr*theta_d*S)/(2*Lt_p)))*(V_p/R),4)\n",
    "W_L=round((1-((LMr*theta_d*S)/(2*Lt_p)))*(V_p/R),4)\n",
    "print('Right Wheel vel: ',W_R)\n",
    "print('Left Wheel vel: ',W_L)\n",
    "\n",
    "\n",
    "def Case_5_R(odp,theta_d):\n",
    "    S=-1\n",
    "    factor=round(gain_near_extremes_normalized(odp),4)\n",
    "    V_p=round(v_max-(factor*(v_mean/2)),4)\n",
    "    if odp<0.2 and theta_d<0.5:\n",
    "        fth=round(gain_near_zero(theta_d,scale=10),4)\n",
    "        theta_d=round(fth*math.pi,4)\n",
    "    else:\n",
    "        theta_d=theta_d\n",
    "    return round((1+((LMr*theta_d*S)/(2*Lt_p)))*(V_p/R),4)\n",
    "\n",
    "\n",
    "def Case_5_L(odp,theta_d):\n",
    "    S=-1\n",
    "    factor=round(gain_near_extremes_normalized(odp),4)\n",
    "    V_p=round(v_max-(factor*(v_mean/2)),4)\n",
    "    if odp<0.2 and theta_d<0.5:\n",
    "        fth=round(gain_near_zero(theta_d,scale=10),4)\n",
    "        theta_d=round(fth*math.pi,4)\n",
    "    else:\n",
    "        theta_d=theta_d\n",
    "    return round((1-((LMr*theta_d*S)/(2*Lt_p)))*(V_p/R),4)"
   ]
  },
  {
   "cell_type": "markdown",
   "metadata": {},
   "source": [
    "Sixth case: Front sensor nearest, objective angle -"
   ]
  },
  {
   "cell_type": "code",
   "execution_count": 20,
   "metadata": {},
   "outputs": [
    {
     "name": "stdout",
     "output_type": "stream",
     "text": [
      "Factor :  0.36\n",
      "Ltp:  0.39\n",
      "vel:  0.883\n",
      "Factor theta: 0.3679\n",
      "Tetha sel:  -1.1558\n",
      "Right Wheel vel:  7.0847\n",
      "Left Wheel vel:  1.9717\n"
     ]
    }
   ],
   "source": [
    "odp=0.1\n",
    "theta_d=-0.1\n",
    "S=-1\n",
    "\n",
    "factor=round(gain_near_extremes_normalized(odp),4)\n",
    "print('Factor : ',factor)\n",
    "\n",
    "\n",
    "Lt_p=round(((odp)*(Lt_max-Lt_min)+Lt_min),4)\n",
    "print('Ltp: ',Lt_p)\n",
    "V_p=round(v_max-(factor*(v_mean/2)),4)\n",
    "print('vel: ',V_p)\n",
    "\n",
    "if odp<0.2 and theta_d>-0.5 and theta_d<0:\n",
    "    fth=round(gain_near_zero(-1*theta_d),4)\n",
    "    print('Factor theta:',fth)\n",
    "    theta_d=round(fth*-math.pi,4)\n",
    "else:\n",
    "    theta_d=theta_d\n",
    "\n",
    "\n",
    "print('Tetha sel: ',theta_d)\n",
    "\n",
    "W_R=round((1+((LMr*theta_d*S)/(2*Lt_p)))*(V_p/R),4)\n",
    "W_L=round((1-((LMr*theta_d*S)/(2*Lt_p)))*(V_p/R),4)\n",
    "print('Right Wheel vel: ',W_R)\n",
    "print('Left Wheel vel: ',W_L)\n",
    "\n",
    "\n",
    "def Case_6_R(odp,theta_d):\n",
    "    S=-1\n",
    "    factor=round(gain_near_extremes_normalized(odp),4)\n",
    "    Lt_p=round(((odp)*(Lt_max-Lt_min)+Lt_min),4)\n",
    "    V_p=round(v_max-(factor*(v_mean/2)),4)\n",
    "    if odp<0.2 and theta_d>-0.5 and theta_d<0:\n",
    "        fth=round(gain_near_zero(-1*theta_d),4)\n",
    "        theta_d=round(fth*-math.pi,4)\n",
    "    else:\n",
    "        theta_d=theta_d\n",
    "    return round((1+((LMr*theta_d*S)/(2*Lt_p)))*(V_p/R),4)\n",
    "\n",
    "\n",
    "def Case_6_L(odp,theta_d):\n",
    "    S=-1\n",
    "    factor=round(gain_near_extremes_normalized(odp),4)\n",
    "    Lt_p=round(((odp)*(Lt_max-Lt_min)+Lt_min),4)\n",
    "    V_p=round(v_max-(factor*(v_mean/2)),4)\n",
    "    if odp<0.2 and theta_d>-0.5 and theta_d<0:\n",
    "        fth=round(gain_near_zero(-1*theta_d),4)\n",
    "        theta_d=round(fth*-math.pi,4)\n",
    "    else:\n",
    "        theta_d=theta_d\n",
    "    return round((1-((LMr*theta_d*S)/(2*Lt_p)))*(V_p/R),4)"
   ]
  },
  {
   "cell_type": "markdown",
   "metadata": {},
   "source": [
    "### Dataset Creation"
   ]
  },
  {
   "cell_type": "code",
   "execution_count": 21,
   "metadata": {},
   "outputs": [
    {
     "data": {
      "text/html": [
       "<div>\n",
       "<style scoped>\n",
       "    .dataframe tbody tr th:only-of-type {\n",
       "        vertical-align: middle;\n",
       "    }\n",
       "\n",
       "    .dataframe tbody tr th {\n",
       "        vertical-align: top;\n",
       "    }\n",
       "\n",
       "    .dataframe thead th {\n",
       "        text-align: right;\n",
       "    }\n",
       "</style>\n",
       "<table border=\"1\" class=\"dataframe\">\n",
       "  <thead>\n",
       "    <tr style=\"text-align: right;\">\n",
       "      <th></th>\n",
       "      <th>LS</th>\n",
       "      <th>FS</th>\n",
       "      <th>RS</th>\n",
       "      <th>Thetad</th>\n",
       "      <th>Min Value</th>\n",
       "    </tr>\n",
       "  </thead>\n",
       "  <tbody>\n",
       "    <tr>\n",
       "      <th>761</th>\n",
       "      <td>0.710673</td>\n",
       "      <td>0.736669</td>\n",
       "      <td>0.779748</td>\n",
       "      <td>1.0909</td>\n",
       "      <td>0.710673</td>\n",
       "    </tr>\n",
       "    <tr>\n",
       "      <th>147</th>\n",
       "      <td>0.189313</td>\n",
       "      <td>0.210436</td>\n",
       "      <td>0.372140</td>\n",
       "      <td>2.5507</td>\n",
       "      <td>0.189313</td>\n",
       "    </tr>\n",
       "    <tr>\n",
       "      <th>2940</th>\n",
       "      <td>0.207601</td>\n",
       "      <td>0.912938</td>\n",
       "      <td>0.924056</td>\n",
       "      <td>1.4119</td>\n",
       "      <td>0.207601</td>\n",
       "    </tr>\n",
       "    <tr>\n",
       "      <th>88</th>\n",
       "      <td>0.004286</td>\n",
       "      <td>0.120372</td>\n",
       "      <td>0.032752</td>\n",
       "      <td>0.1475</td>\n",
       "      <td>0.004286</td>\n",
       "    </tr>\n",
       "    <tr>\n",
       "      <th>3195</th>\n",
       "      <td>0.792256</td>\n",
       "      <td>0.607863</td>\n",
       "      <td>0.986842</td>\n",
       "      <td>-3.0517</td>\n",
       "      <td>0.607863</td>\n",
       "    </tr>\n",
       "    <tr>\n",
       "      <th>677</th>\n",
       "      <td>0.283612</td>\n",
       "      <td>0.053038</td>\n",
       "      <td>0.677346</td>\n",
       "      <td>-0.7324</td>\n",
       "      <td>0.053038</td>\n",
       "    </tr>\n",
       "  </tbody>\n",
       "</table>\n",
       "</div>"
      ],
      "text/plain": [
       "            LS        FS        RS  Thetad  Min Value\n",
       "761   0.710673  0.736669  0.779748  1.0909   0.710673\n",
       "147   0.189313  0.210436  0.372140  2.5507   0.189313\n",
       "2940  0.207601  0.912938  0.924056  1.4119   0.207601\n",
       "88    0.004286  0.120372  0.032752  0.1475   0.004286\n",
       "3195  0.792256  0.607863  0.986842 -3.0517   0.607863\n",
       "677   0.283612  0.053038  0.677346 -0.7324   0.053038"
      ]
     },
     "execution_count": 21,
     "metadata": {},
     "output_type": "execute_result"
    }
   ],
   "source": [
    "Df_C1['Min Value']=Df_C1[['LS','FS','RS']].min(axis=1)\n",
    "Df_C1.sample(6)\n"
   ]
  },
  {
   "cell_type": "markdown",
   "metadata": {},
   "source": [
    "### Left Wheel Evaluation"
   ]
  },
  {
   "cell_type": "code",
   "execution_count": 22,
   "metadata": {},
   "outputs": [
    {
     "data": {
      "text/html": [
       "<div>\n",
       "<style scoped>\n",
       "    .dataframe tbody tr th:only-of-type {\n",
       "        vertical-align: middle;\n",
       "    }\n",
       "\n",
       "    .dataframe tbody tr th {\n",
       "        vertical-align: top;\n",
       "    }\n",
       "\n",
       "    .dataframe thead th {\n",
       "        text-align: right;\n",
       "    }\n",
       "</style>\n",
       "<table border=\"1\" class=\"dataframe\">\n",
       "  <thead>\n",
       "    <tr style=\"text-align: right;\">\n",
       "      <th></th>\n",
       "      <th>LS</th>\n",
       "      <th>FS</th>\n",
       "      <th>RS</th>\n",
       "      <th>Thetad</th>\n",
       "      <th>Min Value</th>\n",
       "      <th>vel_L</th>\n",
       "      <th>vel_R</th>\n",
       "    </tr>\n",
       "  </thead>\n",
       "  <tbody>\n",
       "    <tr>\n",
       "      <th>1926</th>\n",
       "      <td>0.032576</td>\n",
       "      <td>0.061615</td>\n",
       "      <td>0.069651</td>\n",
       "      <td>-0.3447</td>\n",
       "      <td>0.032576</td>\n",
       "      <td>2.9677</td>\n",
       "      <td>6.8682</td>\n",
       "    </tr>\n",
       "    <tr>\n",
       "      <th>1288</th>\n",
       "      <td>0.098014</td>\n",
       "      <td>0.013581</td>\n",
       "      <td>0.069508</td>\n",
       "      <td>-0.4817</td>\n",
       "      <td>0.013581</td>\n",
       "      <td>4.9618</td>\n",
       "      <td>5.1161</td>\n",
       "    </tr>\n",
       "    <tr>\n",
       "      <th>1059</th>\n",
       "      <td>0.005715</td>\n",
       "      <td>0.354253</td>\n",
       "      <td>0.752860</td>\n",
       "      <td>2.1465</td>\n",
       "      <td>0.005715</td>\n",
       "      <td>11.9124</td>\n",
       "      <td>-1.7319</td>\n",
       "    </tr>\n",
       "    <tr>\n",
       "      <th>1953</th>\n",
       "      <td>0.703100</td>\n",
       "      <td>0.114939</td>\n",
       "      <td>0.328518</td>\n",
       "      <td>-0.4226</td>\n",
       "      <td>0.114939</td>\n",
       "      <td>4.3538</td>\n",
       "      <td>4.5467</td>\n",
       "    </tr>\n",
       "    <tr>\n",
       "      <th>2219</th>\n",
       "      <td>0.810401</td>\n",
       "      <td>0.350822</td>\n",
       "      <td>0.889445</td>\n",
       "      <td>2.2906</td>\n",
       "      <td>0.350822</td>\n",
       "      <td>7.6486</td>\n",
       "      <td>-0.4291</td>\n",
       "    </tr>\n",
       "    <tr>\n",
       "      <th>2458</th>\n",
       "      <td>0.166452</td>\n",
       "      <td>0.468049</td>\n",
       "      <td>0.041905</td>\n",
       "      <td>-2.8995</td>\n",
       "      <td>0.041905</td>\n",
       "      <td>-3.0895</td>\n",
       "      <td>12.8105</td>\n",
       "    </tr>\n",
       "  </tbody>\n",
       "</table>\n",
       "</div>"
      ],
      "text/plain": [
       "            LS        FS        RS  Thetad  Min Value    vel_L    vel_R\n",
       "1926  0.032576  0.061615  0.069651 -0.3447   0.032576   2.9677   6.8682\n",
       "1288  0.098014  0.013581  0.069508 -0.4817   0.013581   4.9618   5.1161\n",
       "1059  0.005715  0.354253  0.752860  2.1465   0.005715  11.9124  -1.7319\n",
       "1953  0.703100  0.114939  0.328518 -0.4226   0.114939   4.3538   4.5467\n",
       "2219  0.810401  0.350822  0.889445  2.2906   0.350822   7.6486  -0.4291\n",
       "2458  0.166452  0.468049  0.041905 -2.8995   0.041905  -3.0895  12.8105"
      ]
     },
     "execution_count": 22,
     "metadata": {},
     "output_type": "execute_result"
    }
   ],
   "source": [
    "def lw_eval(df):\n",
    "    if df['Min Value']== df['LS'] and df['Thetad']>0:\n",
    "       if df['Thetad']==0:\n",
    "          df['Thetad']=0.001\n",
    "       return Case_1_L(df['Min Value'],df['Thetad']) \n",
    "    elif df['Min Value']== df['LS'] and df['Thetad']<0:\n",
    "       if df['Thetad']==0:\n",
    "           df['Thetad']=0.001\n",
    "       return Case_2_L(df['Min Value'],df['Thetad']) \n",
    "    elif df['Min Value']== df['RS'] and df['Thetad']>0:\n",
    "       if df['Thetad']==0:\n",
    "           df['Thetad']=0.001\n",
    "       return Case_3_L(df['Min Value'],df['Thetad']) \n",
    "    elif df['Min Value']== df['RS'] and df['Thetad']<0:\n",
    "       if df['Thetad']==0:\n",
    "           df['Thetad']=0.001\n",
    "       return Case_4_L(df['Min Value'],df['Thetad']) \n",
    "    elif df['Min Value']== df['FS'] and df['Thetad']>0:\n",
    "       if df['Thetad']==0:\n",
    "           df['Thetad']=0.001\n",
    "       return Case_5_L(df['Min Value'],df['Thetad']) \n",
    "    elif df['Min Value']== df['FS'] and df['Thetad']<0:\n",
    "       if df['Thetad']==0:\n",
    "           df['Thetad']=0.001\n",
    "       return Case_6_L(df['Min Value'],df['Thetad']) \n",
    "    \n",
    "    \n",
    "    \n",
    "def rw_eval(df):\n",
    "      if df['Min Value']== df['LS'] and df['Thetad']>0:\n",
    "       if df['Thetad']==0:\n",
    "          df['Thetad']=0.001\n",
    "       return Case_1_R(df['Min Value'],df['Thetad']) \n",
    "      elif df['Min Value']== df['LS'] and df['Thetad']<0:\n",
    "       if df['Thetad']==0:\n",
    "           df['Thetad']=0.001\n",
    "       return Case_2_R(df['Min Value'],df['Thetad']) \n",
    "      elif df['Min Value']== df['RS'] and df['Thetad']>0:\n",
    "       if df['Thetad']==0:\n",
    "           df['Thetad']=0.001\n",
    "       return Case_3_R(df['Min Value'],df['Thetad']) \n",
    "      elif df['Min Value']== df['RS'] and df['Thetad']<0:\n",
    "       if df['Thetad']==0:\n",
    "           df['Thetad']=0.001\n",
    "       return Case_4_R(df['Min Value'],df['Thetad']) \n",
    "      elif df['Min Value']== df['FS'] and df['Thetad']>0:\n",
    "       if df['Thetad']==0:\n",
    "           df['Thetad']=0.001\n",
    "       return Case_5_R(df['Min Value'],df['Thetad']) \n",
    "      elif df['Min Value']== df['FS'] and df['Thetad']<0:\n",
    "       if df['Thetad']==0:\n",
    "           df['Thetad']=0.001\n",
    "       return Case_6_R(df['Min Value'],df['Thetad']) \n",
    "    \n",
    "\n",
    "Df_C1=Df_C1.assign(vel_L=Df_C1.apply(lw_eval,axis=1))\n",
    "Df_C1=Df_C1.assign(vel_R=Df_C1.apply(rw_eval,axis=1))\n",
    "\n",
    "Df_C1.sample(6)\n",
    "\n",
    "\n",
    "\n",
    "        "
   ]
  },
  {
   "cell_type": "markdown",
   "metadata": {},
   "source": [
    "Train Dataframe"
   ]
  },
  {
   "cell_type": "code",
   "execution_count": 23,
   "metadata": {},
   "outputs": [
    {
     "data": {
      "text/html": [
       "<div>\n",
       "<style scoped>\n",
       "    .dataframe tbody tr th:only-of-type {\n",
       "        vertical-align: middle;\n",
       "    }\n",
       "\n",
       "    .dataframe tbody tr th {\n",
       "        vertical-align: top;\n",
       "    }\n",
       "\n",
       "    .dataframe thead th {\n",
       "        text-align: right;\n",
       "    }\n",
       "</style>\n",
       "<table border=\"1\" class=\"dataframe\">\n",
       "  <thead>\n",
       "    <tr style=\"text-align: right;\">\n",
       "      <th></th>\n",
       "      <th>LS</th>\n",
       "      <th>FS</th>\n",
       "      <th>RS</th>\n",
       "      <th>Thetad</th>\n",
       "      <th>vel_L</th>\n",
       "      <th>vel_R</th>\n",
       "    </tr>\n",
       "  </thead>\n",
       "  <tbody>\n",
       "    <tr>\n",
       "      <th>1453</th>\n",
       "      <td>0.759251</td>\n",
       "      <td>0.033310</td>\n",
       "      <td>0.457380</td>\n",
       "      <td>-0.3038</td>\n",
       "      <td>4.4865</td>\n",
       "      <td>5.3402</td>\n",
       "    </tr>\n",
       "    <tr>\n",
       "      <th>286</th>\n",
       "      <td>0.272610</td>\n",
       "      <td>0.456040</td>\n",
       "      <td>0.429062</td>\n",
       "      <td>-0.8942</td>\n",
       "      <td>3.9508</td>\n",
       "      <td>3.6615</td>\n",
       "    </tr>\n",
       "    <tr>\n",
       "      <th>2235</th>\n",
       "      <td>0.088441</td>\n",
       "      <td>0.047748</td>\n",
       "      <td>0.194365</td>\n",
       "      <td>-2.5142</td>\n",
       "      <td>-1.9125</td>\n",
       "      <td>11.5628</td>\n",
       "    </tr>\n",
       "    <tr>\n",
       "      <th>859</th>\n",
       "      <td>0.532362</td>\n",
       "      <td>0.597427</td>\n",
       "      <td>0.261013</td>\n",
       "      <td>1.8975</td>\n",
       "      <td>2.3207</td>\n",
       "      <td>5.3645</td>\n",
       "    </tr>\n",
       "    <tr>\n",
       "      <th>3879</th>\n",
       "      <td>0.098300</td>\n",
       "      <td>0.063188</td>\n",
       "      <td>0.032752</td>\n",
       "      <td>0.3794</td>\n",
       "      <td>7.1496</td>\n",
       "      <td>2.6843</td>\n",
       "    </tr>\n",
       "    <tr>\n",
       "      <th>745</th>\n",
       "      <td>0.745535</td>\n",
       "      <td>0.498213</td>\n",
       "      <td>0.672054</td>\n",
       "      <td>-1.3173</td>\n",
       "      <td>2.3009</td>\n",
       "      <td>4.6222</td>\n",
       "    </tr>\n",
       "  </tbody>\n",
       "</table>\n",
       "</div>"
      ],
      "text/plain": [
       "            LS        FS        RS  Thetad   vel_L    vel_R\n",
       "1453  0.759251  0.033310  0.457380 -0.3038  4.4865   5.3402\n",
       "286   0.272610  0.456040  0.429062 -0.8942  3.9508   3.6615\n",
       "2235  0.088441  0.047748  0.194365 -2.5142 -1.9125  11.5628\n",
       "859   0.532362  0.597427  0.261013  1.8975  2.3207   5.3645\n",
       "3879  0.098300  0.063188  0.032752  0.3794  7.1496   2.6843\n",
       "745   0.745535  0.498213  0.672054 -1.3173  2.3009   4.6222"
      ]
     },
     "execution_count": 23,
     "metadata": {},
     "output_type": "execute_result"
    }
   ],
   "source": [
    "Df_C1_Comp=Df_C1[['LS','FS','RS','Thetad','vel_L','vel_R']]\n",
    "Df_C1_Comp.sample(6)"
   ]
  },
  {
   "cell_type": "code",
   "execution_count": 24,
   "metadata": {},
   "outputs": [],
   "source": [
    "from sklearn.model_selection import train_test_split\n",
    "\n",
    "train_C1, val_C1 = train_test_split(Df_C1_Comp, test_size=0.2, random_state=42)"
   ]
  },
  {
   "cell_type": "markdown",
   "metadata": {},
   "source": [
    "Extract vel L  to train and val"
   ]
  },
  {
   "cell_type": "code",
   "execution_count": 25,
   "metadata": {},
   "outputs": [
    {
     "data": {
      "text/html": [
       "<div>\n",
       "<style scoped>\n",
       "    .dataframe tbody tr th:only-of-type {\n",
       "        vertical-align: middle;\n",
       "    }\n",
       "\n",
       "    .dataframe tbody tr th {\n",
       "        vertical-align: top;\n",
       "    }\n",
       "\n",
       "    .dataframe thead th {\n",
       "        text-align: right;\n",
       "    }\n",
       "</style>\n",
       "<table border=\"1\" class=\"dataframe\">\n",
       "  <thead>\n",
       "    <tr style=\"text-align: right;\">\n",
       "      <th></th>\n",
       "      <th>LS</th>\n",
       "      <th>FS</th>\n",
       "      <th>RS</th>\n",
       "      <th>Thetad</th>\n",
       "      <th>vel_L</th>\n",
       "    </tr>\n",
       "  </thead>\n",
       "  <tbody>\n",
       "    <tr>\n",
       "      <th>518</th>\n",
       "      <td>0.768824</td>\n",
       "      <td>0.950965</td>\n",
       "      <td>0.489273</td>\n",
       "      <td>0.3731</td>\n",
       "      <td>3.8299</td>\n",
       "    </tr>\n",
       "    <tr>\n",
       "      <th>3980</th>\n",
       "      <td>0.109158</td>\n",
       "      <td>0.832309</td>\n",
       "      <td>0.549342</td>\n",
       "      <td>2.8445</td>\n",
       "      <td>10.5765</td>\n",
       "    </tr>\n",
       "    <tr>\n",
       "      <th>739</th>\n",
       "      <td>0.074011</td>\n",
       "      <td>0.293066</td>\n",
       "      <td>0.280606</td>\n",
       "      <td>-1.7291</td>\n",
       "      <td>6.9620</td>\n",
       "    </tr>\n",
       "    <tr>\n",
       "      <th>2659</th>\n",
       "      <td>0.008858</td>\n",
       "      <td>0.030307</td>\n",
       "      <td>0.124857</td>\n",
       "      <td>-0.4569</td>\n",
       "      <td>2.7085</td>\n",
       "    </tr>\n",
       "    <tr>\n",
       "      <th>1085</th>\n",
       "      <td>0.720246</td>\n",
       "      <td>0.228878</td>\n",
       "      <td>0.175200</td>\n",
       "      <td>1.9451</td>\n",
       "      <td>2.1547</td>\n",
       "    </tr>\n",
       "    <tr>\n",
       "      <th>3580</th>\n",
       "      <td>0.020003</td>\n",
       "      <td>0.969121</td>\n",
       "      <td>0.204662</td>\n",
       "      <td>-1.5539</td>\n",
       "      <td>7.2981</td>\n",
       "    </tr>\n",
       "  </tbody>\n",
       "</table>\n",
       "</div>"
      ],
      "text/plain": [
       "            LS        FS        RS  Thetad    vel_L\n",
       "518   0.768824  0.950965  0.489273  0.3731   3.8299\n",
       "3980  0.109158  0.832309  0.549342  2.8445  10.5765\n",
       "739   0.074011  0.293066  0.280606 -1.7291   6.9620\n",
       "2659  0.008858  0.030307  0.124857 -0.4569   2.7085\n",
       "1085  0.720246  0.228878  0.175200  1.9451   2.1547\n",
       "3580  0.020003  0.969121  0.204662 -1.5539   7.2981"
      ]
     },
     "execution_count": 25,
     "metadata": {},
     "output_type": "execute_result"
    }
   ],
   "source": [
    "train_C1_vl=train_C1[['LS','FS','RS','Thetad','vel_L']]\n",
    "train_C1_vl.sample(6)"
   ]
  },
  {
   "cell_type": "code",
   "execution_count": 26,
   "metadata": {},
   "outputs": [
    {
     "data": {
      "text/html": [
       "<div>\n",
       "<style scoped>\n",
       "    .dataframe tbody tr th:only-of-type {\n",
       "        vertical-align: middle;\n",
       "    }\n",
       "\n",
       "    .dataframe tbody tr th {\n",
       "        vertical-align: top;\n",
       "    }\n",
       "\n",
       "    .dataframe thead th {\n",
       "        text-align: right;\n",
       "    }\n",
       "</style>\n",
       "<table border=\"1\" class=\"dataframe\">\n",
       "  <thead>\n",
       "    <tr style=\"text-align: right;\">\n",
       "      <th></th>\n",
       "      <th>LS</th>\n",
       "      <th>FS</th>\n",
       "      <th>RS</th>\n",
       "      <th>Thetad</th>\n",
       "      <th>vel_L</th>\n",
       "    </tr>\n",
       "  </thead>\n",
       "  <tbody>\n",
       "    <tr>\n",
       "      <th>221</th>\n",
       "      <td>0.740249</td>\n",
       "      <td>0.290636</td>\n",
       "      <td>0.180063</td>\n",
       "      <td>2.9486</td>\n",
       "      <td>0.4485</td>\n",
       "    </tr>\n",
       "    <tr>\n",
       "      <th>2230</th>\n",
       "      <td>0.046292</td>\n",
       "      <td>0.056755</td>\n",
       "      <td>0.078661</td>\n",
       "      <td>0.1521</td>\n",
       "      <td>6.6836</td>\n",
       "    </tr>\n",
       "    <tr>\n",
       "      <th>561</th>\n",
       "      <td>0.725532</td>\n",
       "      <td>0.669621</td>\n",
       "      <td>0.868707</td>\n",
       "      <td>-1.0256</td>\n",
       "      <td>2.8626</td>\n",
       "    </tr>\n",
       "    <tr>\n",
       "      <th>3757</th>\n",
       "      <td>0.764538</td>\n",
       "      <td>0.943960</td>\n",
       "      <td>0.756579</td>\n",
       "      <td>-3.1038</td>\n",
       "      <td>1.5493</td>\n",
       "    </tr>\n",
       "    <tr>\n",
       "      <th>1572</th>\n",
       "      <td>0.825975</td>\n",
       "      <td>0.043888</td>\n",
       "      <td>0.747140</td>\n",
       "      <td>-0.8659</td>\n",
       "      <td>2.4929</td>\n",
       "    </tr>\n",
       "    <tr>\n",
       "      <th>2732</th>\n",
       "      <td>0.011859</td>\n",
       "      <td>0.879199</td>\n",
       "      <td>0.858267</td>\n",
       "      <td>-1.4593</td>\n",
       "      <td>7.1370</td>\n",
       "    </tr>\n",
       "  </tbody>\n",
       "</table>\n",
       "</div>"
      ],
      "text/plain": [
       "            LS        FS        RS  Thetad   vel_L\n",
       "221   0.740249  0.290636  0.180063  2.9486  0.4485\n",
       "2230  0.046292  0.056755  0.078661  0.1521  6.6836\n",
       "561   0.725532  0.669621  0.868707 -1.0256  2.8626\n",
       "3757  0.764538  0.943960  0.756579 -3.1038  1.5493\n",
       "1572  0.825975  0.043888  0.747140 -0.8659  2.4929\n",
       "2732  0.011859  0.879199  0.858267 -1.4593  7.1370"
      ]
     },
     "execution_count": 26,
     "metadata": {},
     "output_type": "execute_result"
    }
   ],
   "source": [
    "val_C1_vl=val_C1[['LS','FS','RS','Thetad','vel_L']]\n",
    "val_C1_vl.sample(6)"
   ]
  },
  {
   "cell_type": "markdown",
   "metadata": {},
   "source": [
    "Extract vel R, train and val"
   ]
  },
  {
   "cell_type": "code",
   "execution_count": 27,
   "metadata": {},
   "outputs": [
    {
     "data": {
      "text/html": [
       "<div>\n",
       "<style scoped>\n",
       "    .dataframe tbody tr th:only-of-type {\n",
       "        vertical-align: middle;\n",
       "    }\n",
       "\n",
       "    .dataframe tbody tr th {\n",
       "        vertical-align: top;\n",
       "    }\n",
       "\n",
       "    .dataframe thead th {\n",
       "        text-align: right;\n",
       "    }\n",
       "</style>\n",
       "<table border=\"1\" class=\"dataframe\">\n",
       "  <thead>\n",
       "    <tr style=\"text-align: right;\">\n",
       "      <th></th>\n",
       "      <th>LS</th>\n",
       "      <th>FS</th>\n",
       "      <th>RS</th>\n",
       "      <th>Thetad</th>\n",
       "      <th>vel_R</th>\n",
       "    </tr>\n",
       "  </thead>\n",
       "  <tbody>\n",
       "    <tr>\n",
       "      <th>2554</th>\n",
       "      <td>0.443635</td>\n",
       "      <td>0.075625</td>\n",
       "      <td>0.993564</td>\n",
       "      <td>1.1047</td>\n",
       "      <td>2.1464</td>\n",
       "    </tr>\n",
       "    <tr>\n",
       "      <th>1224</th>\n",
       "      <td>0.042435</td>\n",
       "      <td>0.525232</td>\n",
       "      <td>0.910040</td>\n",
       "      <td>3.0900</td>\n",
       "      <td>-3.5970</td>\n",
       "    </tr>\n",
       "    <tr>\n",
       "      <th>1852</th>\n",
       "      <td>0.022575</td>\n",
       "      <td>0.098642</td>\n",
       "      <td>0.025601</td>\n",
       "      <td>-0.2143</td>\n",
       "      <td>6.2161</td>\n",
       "    </tr>\n",
       "    <tr>\n",
       "      <th>3100</th>\n",
       "      <td>0.890984</td>\n",
       "      <td>0.568549</td>\n",
       "      <td>0.692792</td>\n",
       "      <td>1.8099</td>\n",
       "      <td>0.4049</td>\n",
       "    </tr>\n",
       "    <tr>\n",
       "      <th>2235</th>\n",
       "      <td>0.088441</td>\n",
       "      <td>0.047748</td>\n",
       "      <td>0.194365</td>\n",
       "      <td>-2.5142</td>\n",
       "      <td>11.5628</td>\n",
       "    </tr>\n",
       "    <tr>\n",
       "      <th>1181</th>\n",
       "      <td>0.886698</td>\n",
       "      <td>0.374696</td>\n",
       "      <td>0.602546</td>\n",
       "      <td>-1.1484</td>\n",
       "      <td>4.7905</td>\n",
       "    </tr>\n",
       "  </tbody>\n",
       "</table>\n",
       "</div>"
      ],
      "text/plain": [
       "            LS        FS        RS  Thetad    vel_R\n",
       "2554  0.443635  0.075625  0.993564  1.1047   2.1464\n",
       "1224  0.042435  0.525232  0.910040  3.0900  -3.5970\n",
       "1852  0.022575  0.098642  0.025601 -0.2143   6.2161\n",
       "3100  0.890984  0.568549  0.692792  1.8099   0.4049\n",
       "2235  0.088441  0.047748  0.194365 -2.5142  11.5628\n",
       "1181  0.886698  0.374696  0.602546 -1.1484   4.7905"
      ]
     },
     "execution_count": 27,
     "metadata": {},
     "output_type": "execute_result"
    }
   ],
   "source": [
    "train_C1_vr=train_C1[['LS','FS','RS','Thetad','vel_R']]\n",
    "train_C1_vr.sample(6)"
   ]
  },
  {
   "cell_type": "code",
   "execution_count": 28,
   "metadata": {},
   "outputs": [
    {
     "data": {
      "text/html": [
       "<div>\n",
       "<style scoped>\n",
       "    .dataframe tbody tr th:only-of-type {\n",
       "        vertical-align: middle;\n",
       "    }\n",
       "\n",
       "    .dataframe tbody tr th {\n",
       "        vertical-align: top;\n",
       "    }\n",
       "\n",
       "    .dataframe thead th {\n",
       "        text-align: right;\n",
       "    }\n",
       "</style>\n",
       "<table border=\"1\" class=\"dataframe\">\n",
       "  <thead>\n",
       "    <tr style=\"text-align: right;\">\n",
       "      <th></th>\n",
       "      <th>LS</th>\n",
       "      <th>FS</th>\n",
       "      <th>RS</th>\n",
       "      <th>Thetad</th>\n",
       "      <th>vel_R</th>\n",
       "    </tr>\n",
       "  </thead>\n",
       "  <tbody>\n",
       "    <tr>\n",
       "      <th>3918</th>\n",
       "      <td>0.276325</td>\n",
       "      <td>0.390279</td>\n",
       "      <td>0.921339</td>\n",
       "      <td>-2.0894</td>\n",
       "      <td>2.0768</td>\n",
       "    </tr>\n",
       "    <tr>\n",
       "      <th>3517</th>\n",
       "      <td>0.017002</td>\n",
       "      <td>0.044889</td>\n",
       "      <td>0.041190</td>\n",
       "      <td>0.4243</td>\n",
       "      <td>4.8808</td>\n",
       "    </tr>\n",
       "    <tr>\n",
       "      <th>1965</th>\n",
       "      <td>0.309759</td>\n",
       "      <td>0.424160</td>\n",
       "      <td>0.991133</td>\n",
       "      <td>-1.2011</td>\n",
       "      <td>3.1964</td>\n",
       "    </tr>\n",
       "    <tr>\n",
       "      <th>3246</th>\n",
       "      <td>0.488641</td>\n",
       "      <td>0.651894</td>\n",
       "      <td>0.689788</td>\n",
       "      <td>-2.5273</td>\n",
       "      <td>1.9095</td>\n",
       "    </tr>\n",
       "    <tr>\n",
       "      <th>443</th>\n",
       "      <td>0.351479</td>\n",
       "      <td>0.775697</td>\n",
       "      <td>0.041333</td>\n",
       "      <td>1.9013</td>\n",
       "      <td>7.9306</td>\n",
       "    </tr>\n",
       "    <tr>\n",
       "      <th>1116</th>\n",
       "      <td>0.384912</td>\n",
       "      <td>0.600286</td>\n",
       "      <td>0.671768</td>\n",
       "      <td>-2.6957</td>\n",
       "      <td>1.5513</td>\n",
       "    </tr>\n",
       "  </tbody>\n",
       "</table>\n",
       "</div>"
      ],
      "text/plain": [
       "            LS        FS        RS  Thetad   vel_R\n",
       "3918  0.276325  0.390279  0.921339 -2.0894  2.0768\n",
       "3517  0.017002  0.044889  0.041190  0.4243  4.8808\n",
       "1965  0.309759  0.424160  0.991133 -1.2011  3.1964\n",
       "3246  0.488641  0.651894  0.689788 -2.5273  1.9095\n",
       "443   0.351479  0.775697  0.041333  1.9013  7.9306\n",
       "1116  0.384912  0.600286  0.671768 -2.6957  1.5513"
      ]
     },
     "execution_count": 28,
     "metadata": {},
     "output_type": "execute_result"
    }
   ],
   "source": [
    "val_C1_vr=val_C1[['LS','FS','RS','Thetad','vel_R']]\n",
    "val_C1_vr.sample(6)"
   ]
  },
  {
   "cell_type": "markdown",
   "metadata": {},
   "source": [
    "To CSV"
   ]
  },
  {
   "cell_type": "code",
   "execution_count": 29,
   "metadata": {},
   "outputs": [],
   "source": [
    "import os\n",
    "parent_dir = 'Train_Val_Data_26'\n",
    "child_dir_1 = os.path.join(parent_dir, 'Train')\n",
    "child_dir_2 = os.path.join(parent_dir, 'Validation')\n",
    "os.makedirs(child_dir_1, exist_ok=True)\n",
    "os.makedirs(child_dir_2, exist_ok=True)"
   ]
  },
  {
   "cell_type": "code",
   "execution_count": 30,
   "metadata": {},
   "outputs": [],
   "source": [
    "\n",
    "train_C1_vl.to_csv(os.path.join(child_dir_1, 'C1_vl_train.csv'), index=False)\n",
    "val_C1_vl.to_csv(os.path.join(child_dir_2, 'C1_vl_val.csv'), index=False)\n",
    "\n",
    "\n",
    "train_C1_vr.to_csv(os.path.join(child_dir_1, 'C1_vr_train.csv'), index=False)\n",
    "val_C1_vr.to_csv(os.path.join(child_dir_2, 'C1_vr_val.csv'), index=False)"
   ]
  },
  {
   "cell_type": "markdown",
   "metadata": {},
   "source": [
    "## No obstacle circle"
   ]
  },
  {
   "cell_type": "markdown",
   "metadata": {},
   "source": [
    "### Angle Data Generation"
   ]
  },
  {
   "cell_type": "code",
   "execution_count": 31,
   "metadata": {},
   "outputs": [
    {
     "name": "stdout",
     "output_type": "stream",
     "text": [
      "Angle data : [[ 2.9772]\n",
      " [-1.461 ]]\n"
     ]
    }
   ],
   "source": [
    "HA_Data_2=[round(random.uniform(-math.pi, math.pi),4) for _ in range(3000)]\n",
    "HA_Data_2=np.array(HA_Data).reshape(3000,1)\n",
    "print('Angle data :',HA_Data_2[:2])"
   ]
  },
  {
   "cell_type": "code",
   "execution_count": 32,
   "metadata": {},
   "outputs": [
    {
     "data": {
      "text/html": [
       "<div>\n",
       "<style scoped>\n",
       "    .dataframe tbody tr th:only-of-type {\n",
       "        vertical-align: middle;\n",
       "    }\n",
       "\n",
       "    .dataframe tbody tr th {\n",
       "        vertical-align: top;\n",
       "    }\n",
       "\n",
       "    .dataframe thead tr th {\n",
       "        text-align: left;\n",
       "    }\n",
       "</style>\n",
       "<table border=\"1\" class=\"dataframe\">\n",
       "  <thead>\n",
       "    <tr>\n",
       "      <th></th>\n",
       "      <th>HA</th>\n",
       "    </tr>\n",
       "  </thead>\n",
       "  <tbody>\n",
       "    <tr>\n",
       "      <th>819</th>\n",
       "      <td>-1.5491</td>\n",
       "    </tr>\n",
       "    <tr>\n",
       "      <th>809</th>\n",
       "      <td>1.4150</td>\n",
       "    </tr>\n",
       "    <tr>\n",
       "      <th>1136</th>\n",
       "      <td>-2.1728</td>\n",
       "    </tr>\n",
       "    <tr>\n",
       "      <th>245</th>\n",
       "      <td>-2.9228</td>\n",
       "    </tr>\n",
       "    <tr>\n",
       "      <th>2067</th>\n",
       "      <td>2.7358</td>\n",
       "    </tr>\n",
       "    <tr>\n",
       "      <th>10</th>\n",
       "      <td>-1.3152</td>\n",
       "    </tr>\n",
       "  </tbody>\n",
       "</table>\n",
       "</div>"
      ],
      "text/plain": [
       "          HA\n",
       "819  -1.5491\n",
       "809   1.4150\n",
       "1136 -2.1728\n",
       "245  -2.9228\n",
       "2067  2.7358\n",
       "10   -1.3152"
      ]
     },
     "execution_count": 32,
     "metadata": {},
     "output_type": "execute_result"
    }
   ],
   "source": [
    "Df_C2=pd.DataFrame(HA_Data_2,columns=[['HA']])\n",
    "Df_C2.sample(6)"
   ]
  },
  {
   "cell_type": "markdown",
   "metadata": {},
   "source": [
    "### Evaluation   Right and Left Wheel"
   ]
  },
  {
   "cell_type": "code",
   "execution_count": 33,
   "metadata": {},
   "outputs": [
    {
     "data": {
      "text/html": [
       "<div>\n",
       "<style scoped>\n",
       "    .dataframe tbody tr th:only-of-type {\n",
       "        vertical-align: middle;\n",
       "    }\n",
       "\n",
       "    .dataframe tbody tr th {\n",
       "        vertical-align: top;\n",
       "    }\n",
       "\n",
       "    .dataframe thead tr th {\n",
       "        text-align: left;\n",
       "    }\n",
       "</style>\n",
       "<table border=\"1\" class=\"dataframe\">\n",
       "  <thead>\n",
       "    <tr>\n",
       "      <th></th>\n",
       "      <th>HA</th>\n",
       "      <th>W_L</th>\n",
       "      <th>W_R</th>\n",
       "    </tr>\n",
       "  </thead>\n",
       "  <tbody>\n",
       "    <tr>\n",
       "      <th>2478</th>\n",
       "      <td>-2.8875</td>\n",
       "      <td>2.7775</td>\n",
       "      <td>7.4789</td>\n",
       "    </tr>\n",
       "    <tr>\n",
       "      <th>2516</th>\n",
       "      <td>-1.1188</td>\n",
       "      <td>4.2174</td>\n",
       "      <td>6.0390</td>\n",
       "    </tr>\n",
       "    <tr>\n",
       "      <th>2802</th>\n",
       "      <td>0.9256</td>\n",
       "      <td>5.8817</td>\n",
       "      <td>4.3747</td>\n",
       "    </tr>\n",
       "    <tr>\n",
       "      <th>2207</th>\n",
       "      <td>-1.8673</td>\n",
       "      <td>3.6080</td>\n",
       "      <td>6.6484</td>\n",
       "    </tr>\n",
       "    <tr>\n",
       "      <th>1729</th>\n",
       "      <td>-0.7239</td>\n",
       "      <td>4.5389</td>\n",
       "      <td>5.7175</td>\n",
       "    </tr>\n",
       "    <tr>\n",
       "      <th>2172</th>\n",
       "      <td>0.9666</td>\n",
       "      <td>5.9151</td>\n",
       "      <td>4.3413</td>\n",
       "    </tr>\n",
       "  </tbody>\n",
       "</table>\n",
       "</div>"
      ],
      "text/plain": [
       "          HA     W_L     W_R\n",
       "2478 -2.8875  2.7775  7.4789\n",
       "2516 -1.1188  4.2174  6.0390\n",
       "2802  0.9256  5.8817  4.3747\n",
       "2207 -1.8673  3.6080  6.6484\n",
       "1729 -0.7239  4.5389  5.7175\n",
       "2172  0.9666  5.9151  4.3413"
      ]
     },
     "execution_count": 33,
     "metadata": {},
     "output_type": "execute_result"
    }
   ],
   "source": [
    "Lt_2=1.2\n",
    "v_max=1\n",
    "\n",
    "def lw_eval_NO(df):\n",
    "    Sf1=-1\n",
    "    haf=df['HA']\n",
    "    Lt_pf=round((Lt_2),4)\n",
    "    V_pf=round(v_max,4)\n",
    "    return round((1-((LMr*haf*Sf1)/(2*Lt_pf)))*(V_pf/R),4)\n",
    "\n",
    "def rw_eval_NO(df):\n",
    "    Sf1=-1\n",
    "    haf=df['HA']\n",
    "    Lt_pf=round((Lt_2),4)\n",
    "    V_pf=round(v_max,4)\n",
    "    return round((1+((LMr*haf*Sf1)/(2*Lt_pf)))*(V_pf/R),4)\n",
    "\n",
    "\n",
    "Df_C2=Df_C2.assign(W_L=Df_C2.apply(lw_eval_NO,axis=1))\n",
    "\n",
    "Df_C2=Df_C2.assign(W_R=Df_C2.apply(rw_eval_NO,axis=1))\n",
    "\n",
    "\n",
    "Df_C2.sample(6)\n",
    "\n"
   ]
  },
  {
   "cell_type": "markdown",
   "metadata": {},
   "source": [
    "Left Wheel Train NO"
   ]
  },
  {
   "cell_type": "code",
   "execution_count": 34,
   "metadata": {},
   "outputs": [
    {
     "data": {
      "text/html": [
       "<div>\n",
       "<style scoped>\n",
       "    .dataframe tbody tr th:only-of-type {\n",
       "        vertical-align: middle;\n",
       "    }\n",
       "\n",
       "    .dataframe tbody tr th {\n",
       "        vertical-align: top;\n",
       "    }\n",
       "\n",
       "    .dataframe thead tr th {\n",
       "        text-align: left;\n",
       "    }\n",
       "</style>\n",
       "<table border=\"1\" class=\"dataframe\">\n",
       "  <thead>\n",
       "    <tr>\n",
       "      <th></th>\n",
       "      <th>HA</th>\n",
       "      <th>W_L</th>\n",
       "    </tr>\n",
       "  </thead>\n",
       "  <tbody>\n",
       "    <tr>\n",
       "      <th>2606</th>\n",
       "      <td>-1.7856</td>\n",
       "      <td>3.6745</td>\n",
       "    </tr>\n",
       "    <tr>\n",
       "      <th>89</th>\n",
       "      <td>2.6836</td>\n",
       "      <td>7.3129</td>\n",
       "    </tr>\n",
       "    <tr>\n",
       "      <th>2626</th>\n",
       "      <td>2.3897</td>\n",
       "      <td>7.0737</td>\n",
       "    </tr>\n",
       "    <tr>\n",
       "      <th>1870</th>\n",
       "      <td>-2.3404</td>\n",
       "      <td>3.2229</td>\n",
       "    </tr>\n",
       "    <tr>\n",
       "      <th>1555</th>\n",
       "      <td>2.6872</td>\n",
       "      <td>7.3159</td>\n",
       "    </tr>\n",
       "    <tr>\n",
       "      <th>494</th>\n",
       "      <td>-2.1422</td>\n",
       "      <td>3.3842</td>\n",
       "    </tr>\n",
       "  </tbody>\n",
       "</table>\n",
       "</div>"
      ],
      "text/plain": [
       "          HA     W_L\n",
       "2606 -1.7856  3.6745\n",
       "89    2.6836  7.3129\n",
       "2626  2.3897  7.0737\n",
       "1870 -2.3404  3.2229\n",
       "1555  2.6872  7.3159\n",
       "494  -2.1422  3.3842"
      ]
     },
     "execution_count": 34,
     "metadata": {},
     "output_type": "execute_result"
    }
   ],
   "source": [
    "Df_C2_Train=Df_C2[['HA','W_L']]\n",
    "Df_C2_Train.sample(6)"
   ]
  },
  {
   "cell_type": "code",
   "execution_count": 35,
   "metadata": {},
   "outputs": [],
   "source": [
    "Df_C2_Train.to_csv('Df_C2_Train_L_2.csv',index=False)"
   ]
  },
  {
   "cell_type": "markdown",
   "metadata": {},
   "source": [
    "Right Wheel Train NO"
   ]
  },
  {
   "cell_type": "code",
   "execution_count": 36,
   "metadata": {},
   "outputs": [
    {
     "data": {
      "text/html": [
       "<div>\n",
       "<style scoped>\n",
       "    .dataframe tbody tr th:only-of-type {\n",
       "        vertical-align: middle;\n",
       "    }\n",
       "\n",
       "    .dataframe tbody tr th {\n",
       "        vertical-align: top;\n",
       "    }\n",
       "\n",
       "    .dataframe thead tr th {\n",
       "        text-align: left;\n",
       "    }\n",
       "</style>\n",
       "<table border=\"1\" class=\"dataframe\">\n",
       "  <thead>\n",
       "    <tr>\n",
       "      <th></th>\n",
       "      <th>HA</th>\n",
       "      <th>W_R</th>\n",
       "    </tr>\n",
       "  </thead>\n",
       "  <tbody>\n",
       "    <tr>\n",
       "      <th>0</th>\n",
       "      <td>2.9772</td>\n",
       "      <td>2.7045</td>\n",
       "    </tr>\n",
       "    <tr>\n",
       "      <th>1</th>\n",
       "      <td>-1.4610</td>\n",
       "      <td>6.3176</td>\n",
       "    </tr>\n",
       "    <tr>\n",
       "      <th>2</th>\n",
       "      <td>1.6326</td>\n",
       "      <td>3.7991</td>\n",
       "    </tr>\n",
       "    <tr>\n",
       "      <th>3</th>\n",
       "      <td>1.4520</td>\n",
       "      <td>3.9461</td>\n",
       "    </tr>\n",
       "    <tr>\n",
       "      <th>4</th>\n",
       "      <td>1.2483</td>\n",
       "      <td>4.1120</td>\n",
       "    </tr>\n",
       "    <tr>\n",
       "      <th>5</th>\n",
       "      <td>1.3266</td>\n",
       "      <td>4.0482</td>\n",
       "    </tr>\n",
       "  </tbody>\n",
       "</table>\n",
       "</div>"
      ],
      "text/plain": [
       "       HA     W_R\n",
       "0  2.9772  2.7045\n",
       "1 -1.4610  6.3176\n",
       "2  1.6326  3.7991\n",
       "3  1.4520  3.9461\n",
       "4  1.2483  4.1120\n",
       "5  1.3266  4.0482"
      ]
     },
     "execution_count": 36,
     "metadata": {},
     "output_type": "execute_result"
    }
   ],
   "source": [
    "Df_C2_Train_R=Df_C2[['HA','W_R']]\n",
    "Df_C2_Train_R.head(6)"
   ]
  },
  {
   "cell_type": "code",
   "execution_count": 37,
   "metadata": {},
   "outputs": [],
   "source": [
    "Df_C2_Train_R.to_csv('Df_C2_Train_R_2.csv',index=False)"
   ]
  }
 ],
 "metadata": {
  "kernelspec": {
   "display_name": "Python 3",
   "language": "python",
   "name": "python3"
  },
  "language_info": {
   "codemirror_mode": {
    "name": "ipython",
    "version": 3
   },
   "file_extension": ".py",
   "mimetype": "text/x-python",
   "name": "python",
   "nbconvert_exporter": "python",
   "pygments_lexer": "ipython3",
   "version": "3.12.4"
  }
 },
 "nbformat": 4,
 "nbformat_minor": 2
}
