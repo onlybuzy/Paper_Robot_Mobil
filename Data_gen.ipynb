{
 "cells": [
  {
   "cell_type": "markdown",
   "metadata": {},
   "source": [
    "### Importing libraries"
   ]
  },
  {
   "cell_type": "code",
   "execution_count": 112,
   "metadata": {},
   "outputs": [],
   "source": [
    "import numpy as np\n",
    "import pandas as pd\n",
    "import random\n",
    "import math\n",
    "\n",
    "from sklearn import preprocessing # normalization library\n"
   ]
  },
  {
   "cell_type": "markdown",
   "metadata": {},
   "source": [
    "### Robot Data\n",
    "Pioneer 3dx"
   ]
  },
  {
   "cell_type": "code",
   "execution_count": 113,
   "metadata": {},
   "outputs": [],
   "source": [
    "LMr=381e-3\n",
    "R=195e-3\n",
    "\n",
    "v_max= 1\n",
    "v_min=0.3\n",
    "\n",
    "Lt_max=1.2\n",
    "Lt_min=0.3"
   ]
  },
  {
   "cell_type": "markdown",
   "metadata": {},
   "source": [
    "Mean Velocity"
   ]
  },
  {
   "cell_type": "code",
   "execution_count": 114,
   "metadata": {},
   "outputs": [
    {
     "name": "stdout",
     "output_type": "stream",
     "text": [
      "0.65\n"
     ]
    }
   ],
   "source": [
    "v_mean=(v_max+v_min)/2\n",
    "print(v_mean)"
   ]
  },
  {
   "cell_type": "markdown",
   "metadata": {},
   "source": [
    "### Obstacle circle \n",
    "\n",
    "Sensor range data: $[dmin_1\\quad dmax_1]\\quad m$ \n",
    "\n",
    "Heading angle data: $[-\\pi\\quad\\pi]\\quad rad$ \n"
   ]
  },
  {
   "cell_type": "code",
   "execution_count": 115,
   "metadata": {},
   "outputs": [],
   "source": [
    "min_d1=0.3\n",
    "max_d1=1"
   ]
  },
  {
   "cell_type": "code",
   "execution_count": 116,
   "metadata": {},
   "outputs": [
    {
     "name": "stdout",
     "output_type": "stream",
     "text": [
      "Raw data : [[0.6867 0.5531 0.7778]\n",
      " [0.5367 0.9258 0.9522]]\n",
      "Normalized data : [[0.55285367 0.36172645 0.68244209]\n",
      " [0.33829209 0.89438331 0.93179868]]\n"
     ]
    }
   ],
   "source": [
    "# Sensor Data gen \n",
    "Obs_Data=[round(random.uniform(min_d1, max_d1),4) for _ in range(3000*3)]\n",
    "Obs_Data_M=np.array(Obs_Data).reshape(3000,3)\n",
    "\n",
    "print('Raw data :',Obs_Data_M[:2,:])\n",
    "\n",
    "normalizer=preprocessing.MinMaxScaler()\n",
    "Obs_Data_Norm=normalizer.fit_transform(Obs_Data_M)\n",
    "print('Normalized data :',Obs_Data_Norm[:2,:])\n"
   ]
  },
  {
   "cell_type": "code",
   "execution_count": 117,
   "metadata": {},
   "outputs": [
    {
     "name": "stdout",
     "output_type": "stream",
     "text": [
      "Angle data : [[-2.2442]\n",
      " [-1.3575]]\n"
     ]
    }
   ],
   "source": [
    "# HA data gen\n",
    "\n",
    "HA_Data=[round(random.uniform(-math.pi, math.pi),4) for _ in range(3000)]\n",
    "HA_Data=np.array(HA_Data).reshape(3000,1)\n",
    "print('Angle data :',HA_Data[:2])"
   ]
  },
  {
   "cell_type": "markdown",
   "metadata": {},
   "source": [
    "Stack Normal Data"
   ]
  },
  {
   "cell_type": "code",
   "execution_count": 118,
   "metadata": {},
   "outputs": [
    {
     "name": "stdout",
     "output_type": "stream",
     "text": [
      "Normal array : [[ 0.55285367  0.36172645  0.68244209 -2.2442    ]\n",
      " [ 0.33829209  0.89438331  0.93179868 -1.3575    ]]\n"
     ]
    }
   ],
   "source": [
    "\n",
    "\n",
    "C1_Normal_Data=np.hstack((Obs_Data_Norm,HA_Data))\n",
    "print('Normal array :',C1_Normal_Data[:2])"
   ]
  },
  {
   "cell_type": "markdown",
   "metadata": {},
   "source": [
    "### Special Data for small angles and near obstacle"
   ]
  },
  {
   "cell_type": "code",
   "execution_count": 119,
   "metadata": {},
   "outputs": [
    {
     "name": "stdout",
     "output_type": "stream",
     "text": [
      "Raw data : [[0.3278 0.373  0.3096]\n",
      " [0.3061 0.3992 0.3099]]\n",
      "Normalized data : [[0.03947933 0.10433043 0.01301115]\n",
      " [0.00843942 0.14177505 0.01344009]]\n"
     ]
    }
   ],
   "source": [
    "Obs_Data_Near=[round(random.uniform(min_d1,max_d1-0.6),4) for _ in range(1000*3)]\n",
    "Obs_Data_M_Near=np.array(Obs_Data_Near).reshape(1000,3)\n",
    "\n",
    "print('Raw data :',Obs_Data_M_Near[:2,:])\n",
    "\n",
    "\n",
    "Norm_Near=normalizer.fit(Obs_Data_M)\n",
    "Obs_Data_Near=Norm_Near.transform(Obs_Data_M_Near)\n",
    "\n",
    "print('Normalized data :',Obs_Data_Near[:2,:])\n"
   ]
  },
  {
   "cell_type": "markdown",
   "metadata": {},
   "source": [
    "Small angles"
   ]
  },
  {
   "cell_type": "code",
   "execution_count": 120,
   "metadata": {},
   "outputs": [
    {
     "name": "stdout",
     "output_type": "stream",
     "text": [
      "Angle data : [[ 0.1141]\n",
      " [-0.2252]]\n"
     ]
    }
   ],
   "source": [
    "Small_Theta_Data=[round(random.uniform(-0.5, 0.5),4) for _ in range(1000)]\n",
    "Small_Theta_Array=np.array(Small_Theta_Data).reshape(1000,1)\n",
    "print('Angle data :',Small_Theta_Array[:2])"
   ]
  },
  {
   "cell_type": "markdown",
   "metadata": {},
   "source": [
    "Stack small"
   ]
  },
  {
   "cell_type": "code",
   "execution_count": 121,
   "metadata": {},
   "outputs": [
    {
     "name": "stdout",
     "output_type": "stream",
     "text": [
      "Small array : [[ 0.03947933  0.10433043  0.01301115  0.1141    ]\n",
      " [ 0.00843942  0.14177505  0.01344009 -0.2252    ]]\n"
     ]
    }
   ],
   "source": [
    "C1_Small_Data=np.hstack((Obs_Data_Near,Small_Theta_Array))\n",
    "print('Small array :',C1_Small_Data[:2])"
   ]
  },
  {
   "cell_type": "markdown",
   "metadata": {},
   "source": [
    "Stack all and Randomize"
   ]
  },
  {
   "cell_type": "code",
   "execution_count": 122,
   "metadata": {},
   "outputs": [
    {
     "name": "stdout",
     "output_type": "stream",
     "text": [
      "[[0.92261479 0.19008146 0.41149557 0.738     ]\n",
      " [0.01344586 0.08274975 0.12539319 0.311     ]]\n"
     ]
    }
   ],
   "source": [
    "# Stack All\n",
    "\n",
    "St_train_C1=np.vstack((C1_Normal_Data,C1_Small_Data))\n",
    "np.random.shuffle(St_train_C1)\n",
    "print(St_train_C1[:2])\n",
    "\n"
   ]
  },
  {
   "cell_type": "markdown",
   "metadata": {},
   "source": [
    "Make dataframe"
   ]
  },
  {
   "cell_type": "code",
   "execution_count": 123,
   "metadata": {},
   "outputs": [
    {
     "data": {
      "text/html": [
       "<div>\n",
       "<style scoped>\n",
       "    .dataframe tbody tr th:only-of-type {\n",
       "        vertical-align: middle;\n",
       "    }\n",
       "\n",
       "    .dataframe tbody tr th {\n",
       "        vertical-align: top;\n",
       "    }\n",
       "\n",
       "    .dataframe thead th {\n",
       "        text-align: right;\n",
       "    }\n",
       "</style>\n",
       "<table border=\"1\" class=\"dataframe\">\n",
       "  <thead>\n",
       "    <tr style=\"text-align: right;\">\n",
       "      <th></th>\n",
       "      <th>LS</th>\n",
       "      <th>FS</th>\n",
       "      <th>RS</th>\n",
       "      <th>Thetad</th>\n",
       "    </tr>\n",
       "  </thead>\n",
       "  <tbody>\n",
       "    <tr>\n",
       "      <th>238</th>\n",
       "      <td>0.475182</td>\n",
       "      <td>0.009861</td>\n",
       "      <td>0.607235</td>\n",
       "      <td>0.7536</td>\n",
       "    </tr>\n",
       "    <tr>\n",
       "      <th>2836</th>\n",
       "      <td>0.727221</td>\n",
       "      <td>0.607546</td>\n",
       "      <td>0.400772</td>\n",
       "      <td>1.0085</td>\n",
       "    </tr>\n",
       "    <tr>\n",
       "      <th>35</th>\n",
       "      <td>0.112430</td>\n",
       "      <td>0.368015</td>\n",
       "      <td>0.914069</td>\n",
       "      <td>2.6392</td>\n",
       "    </tr>\n",
       "    <tr>\n",
       "      <th>236</th>\n",
       "      <td>0.564154</td>\n",
       "      <td>0.220666</td>\n",
       "      <td>0.335573</td>\n",
       "      <td>2.0572</td>\n",
       "    </tr>\n",
       "    <tr>\n",
       "      <th>3559</th>\n",
       "      <td>0.253898</td>\n",
       "      <td>0.894812</td>\n",
       "      <td>0.358879</td>\n",
       "      <td>3.0555</td>\n",
       "    </tr>\n",
       "    <tr>\n",
       "      <th>1092</th>\n",
       "      <td>0.780718</td>\n",
       "      <td>0.334000</td>\n",
       "      <td>0.660852</td>\n",
       "      <td>1.2558</td>\n",
       "    </tr>\n",
       "  </tbody>\n",
       "</table>\n",
       "</div>"
      ],
      "text/plain": [
       "            LS        FS        RS  Thetad\n",
       "238   0.475182  0.009861  0.607235  0.7536\n",
       "2836  0.727221  0.607546  0.400772  1.0085\n",
       "35    0.112430  0.368015  0.914069  2.6392\n",
       "236   0.564154  0.220666  0.335573  2.0572\n",
       "3559  0.253898  0.894812  0.358879  3.0555\n",
       "1092  0.780718  0.334000  0.660852  1.2558"
      ]
     },
     "execution_count": 123,
     "metadata": {},
     "output_type": "execute_result"
    }
   ],
   "source": [
    "Df_C1=pd.DataFrame(St_train_C1, columns=['LS','FS','RS','Thetad'])\n",
    "Df_C1.sample(6)"
   ]
  },
  {
   "cell_type": "markdown",
   "metadata": {},
   "source": [
    "### Inverse Kinematic Model\n",
    "\n",
    "$$\\omega_{R/L}=\\left( 1\\pm\\frac{L_{MR}}{2L_T}\\right)\\frac{v}{R}$$"
   ]
  },
  {
   "cell_type": "markdown",
   "metadata": {},
   "source": [
    "Gain near extremes normalized"
   ]
  },
  {
   "cell_type": "code",
   "execution_count": 124,
   "metadata": {},
   "outputs": [],
   "source": [
    "def gain_near_extremes_normalized(x):\n",
    "     return 4 * x * (1 - x)"
   ]
  },
  {
   "cell_type": "code",
   "execution_count": 125,
   "metadata": {},
   "outputs": [],
   "source": [
    "def gain_near_zero(x, scale=10):\n",
    "     gain = np.exp(-scale * x)\n",
    "     normalized_gain = (gain - np.exp(-scale)) / (1 - np.exp(-scale))\n",
    "     return normalized_gain\n",
    "    "
   ]
  },
  {
   "cell_type": "markdown",
   "metadata": {},
   "source": [
    "First Case: Left sensor nearest, objective angle +"
   ]
  },
  {
   "cell_type": "code",
   "execution_count": 126,
   "metadata": {},
   "outputs": [
    {
     "name": "stdout",
     "output_type": "stream",
     "text": [
      "Factor :  0\n",
      "Ltp:  1.2\n",
      "vel:  1.0\n",
      "Tetha sel:  3\n",
      "Right Wheel vel:  2.6859\n",
      "Left Wheel vel:  7.5705\n"
     ]
    }
   ],
   "source": [
    "odp=1\n",
    "theta_d=3\n",
    "\n",
    "\n",
    "S=-1\n",
    "factor=round(gain_near_extremes_normalized(odp),4)\n",
    "print('Factor : ',factor)\n",
    "Lt_p=round(((odp)*(Lt_max-Lt_min)+Lt_min),4)\n",
    "print('Ltp: ',Lt_p)\n",
    "V_p=round(v_max-(factor*(v_mean/2)),4)\n",
    "print('vel: ',V_p)\n",
    "if odp<0.2 and theta_d<0.5:\n",
    "    fth=round(gain_near_zero(theta_d,scale=10),4)\n",
    "    print('Factor theta:',fth)\n",
    "    theta_d=round(fth*math.pi,4)\n",
    "else:\n",
    "    theta_d=theta_d\n",
    "print('Tetha sel: ',theta_d)\n",
    "W_R=round((1+((LMr*theta_d*S)/(2*Lt_p)))*(V_p/R),4)\n",
    "W_L=round((1-((LMr*theta_d*S)/(2*Lt_p)))*(V_p/R),4)\n",
    "print('Right Wheel vel: ',W_R)\n",
    "print('Left Wheel vel: ',W_L)\n",
    "\n",
    "\n",
    "def Case_1_R(odp,theta_d):\n",
    "    if theta_d==0:\n",
    "       theta_d=0.001\n",
    "    S=-1\n",
    "    factor=round(gain_near_extremes_normalized(odp),4)\n",
    "    Lt_p=round(((odp)*(Lt_max-Lt_min)+Lt_min),4)\n",
    "    V_p=round(v_max-(factor*(v_mean/2)),4)\n",
    "    if odp<0.2 and theta_d<0.5:\n",
    "        fth=round(gain_near_zero(theta_d,scale=10),4)\n",
    "        theta_d=round(fth*math.pi,4)\n",
    "    else:\n",
    "        theta_d=theta_d\n",
    "    return round((1+((LMr*theta_d*S)/(2*Lt_p)))*(V_p/R),4)\n",
    "\n",
    "    \n",
    "def Case_1_L(odp,theta_d):\n",
    "    if theta_d==0:\n",
    "       theta_d=0.001\n",
    "    S=-1\n",
    "    factor=round(gain_near_extremes_normalized(odp),4)\n",
    "    Lt_p=round(((odp)*(Lt_max-Lt_min)+Lt_min),4)\n",
    "    V_p=round(v_max-(factor*(v_mean/2)),4)\n",
    "    if odp<0.2 and theta_d<0.5:\n",
    "        fth=round(gain_near_zero(theta_d,scale=10),4)\n",
    "        theta_d=round(fth*math.pi,4)\n",
    "    else:\n",
    "        theta_d=theta_d\n",
    "    return round((1-((LMr*theta_d*S)/(2*Lt_p)))*(V_p/R),4)\n",
    "\n",
    "    "
   ]
  },
  {
   "cell_type": "markdown",
   "metadata": {},
   "source": [
    "Second Case: Left sensor nearest, objective angle -"
   ]
  },
  {
   "cell_type": "code",
   "execution_count": 127,
   "metadata": {},
   "outputs": [
    {
     "name": "stdout",
     "output_type": "stream",
     "text": [
      "Factor :  0.96\n",
      "Ltp:  0.84\n",
      "vel:  0.688\n",
      "Tetha sel:  -0.001\n",
      "Right Wheel vel:  2.9006\n",
      "Left Wheel vel:  4.1558\n"
     ]
    }
   ],
   "source": [
    "\n",
    "odp=0.6\n",
    "theta_d=0\n",
    "if theta_d==0:\n",
    "    theta_d=-0.001\n",
    "S=-1\n",
    "factor=round(gain_near_extremes_normalized(odp),4)\n",
    "print('Factor : ',factor)\n",
    "\n",
    "Lt_p=round(((odp)*(Lt_max-Lt_min)+Lt_min),4)\n",
    "print('Ltp: ',Lt_p)\n",
    "V_p=round(v_max-(factor*(v_mean/2)),4)\n",
    "print('vel: ',V_p)\n",
    "\n",
    "if odp<0.2 and theta_d>-0.5 and theta_d<0:\n",
    "    fth=round(gain_near_zero(-1*theta_d),4)\n",
    "    print('Factor theta:',fth)\n",
    "    theta_d=fth*-math.pi\n",
    "else:\n",
    "    theta_d=theta_d\n",
    "    \n",
    "cf=math.pi/4\n",
    "    \n",
    "print('Tetha sel: ',theta_d)\n",
    "W_R=round((1+((LMr*(theta_d+cf)*S)/(2*Lt_p)))*(V_p/R),4)\n",
    "W_L=round((1-((LMr*(theta_d+cf)*S)/(2*Lt_p)))*(V_p/R),4)\n",
    "print('Right Wheel vel: ',W_R)\n",
    "print('Left Wheel vel: ',W_L)\n",
    "\n",
    "def Case_2_R(odp,theta_d):\n",
    "    if theta_d==0:\n",
    "       theta_d=-0.001\n",
    "    S=-1\n",
    "    factor=round(gain_near_extremes_normalized(odp),4)\n",
    "    Lt_p=round(((odp)*(Lt_max-Lt_min)+Lt_min),4)\n",
    "    V_p=round(v_max-(factor*(v_mean/2)),4)\n",
    "    if odp<0.2 and theta_d>-0.5 and theta_d<0:\n",
    "        fth=round(gain_near_zero(-1*theta_d),4)\n",
    "        theta_d=fth*-math.pi\n",
    "    else:\n",
    "        theta_d=theta_d   \n",
    "    cf=math.pi/4   \n",
    "    return round((1+((LMr*(theta_d+cf)*S)/(2*Lt_p)))*(V_p/R),4)\n",
    "    \n",
    "def Case_2_L(odp,theta_d):\n",
    "    if theta_d==0:\n",
    "       theta_d=-0.001\n",
    "    S=-1\n",
    "    factor=round(gain_near_extremes_normalized(odp),4)\n",
    "    Lt_p=round(((odp)*(Lt_max-Lt_min)+Lt_min),4)\n",
    "    V_p=round(v_max-(factor*(v_mean/2)),4)\n",
    "    if odp<0.2 and theta_d>-0.5 and theta_d<0:\n",
    "        fth=round(gain_near_zero(-1*theta_d),4)\n",
    "        theta_d=fth*-math.pi\n",
    "    else:\n",
    "        theta_d=theta_d   \n",
    "    cf=math.pi/4   \n",
    "    return round((1-((LMr*(theta_d+cf)*S)/(2*Lt_p)))*(V_p/R),4)"
   ]
  },
  {
   "cell_type": "markdown",
   "metadata": {},
   "source": [
    "Third case: Right sensor nearest, objective angle +"
   ]
  },
  {
   "cell_type": "code",
   "execution_count": 128,
   "metadata": {},
   "outputs": [
    {
     "name": "stdout",
     "output_type": "stream",
     "text": [
      "Factor :  0.84\n",
      "Ltp:  0.57\n",
      "vel:  0.727\n",
      "Tetha sel:  0.06\n",
      "Right Wheel vel:  4.6321\n",
      "Left Wheel vel:  2.8244\n"
     ]
    }
   ],
   "source": [
    "odp=0.3\n",
    "theta_d=0.06\n",
    "if theta_d==0:\n",
    "    theta_d=0.001\n",
    "S=-1\n",
    "factor=round(gain_near_extremes_normalized(odp),4)\n",
    "print('Factor : ',factor)\n",
    "\n",
    "Lt_p=round(((odp)*(Lt_max-Lt_min)+Lt_min),4)\n",
    "print('Ltp: ',Lt_p)\n",
    "V_p=round(v_max-(factor*(v_mean/2)),4)\n",
    "print('vel: ',V_p)\n",
    "\n",
    "if odp<0.2 and theta_d<0.5 and theta_d>0:\n",
    "    fth=round(gain_near_zero(theta_d),4)\n",
    "    print('Factor theta:',fth)\n",
    "    theta_d=round(fth*math.pi)\n",
    "else:\n",
    "    theta_d=theta_d\n",
    "cf=-math.pi/4\n",
    "    \n",
    "print('Tetha sel: ',theta_d)\n",
    "W_R=round((1+((LMr*(theta_d+cf)*S)/(2*Lt_p)))*(V_p/R),4)\n",
    "W_L=round((1-((LMr*(theta_d+cf)*S)/(2*Lt_p)))*(V_p/R),4)\n",
    "print('Right Wheel vel: ',W_R)\n",
    "print('Left Wheel vel: ',W_L)\n",
    "\n",
    "def Case_3_R(odp,theta_d):\n",
    "    if theta_d==0:\n",
    "       theta_d=0.001\n",
    "    S=-1\n",
    "    factor=round(gain_near_extremes_normalized(odp),4)\n",
    "    Lt_p=round(((odp)*(Lt_max-Lt_min)+Lt_min),4)\n",
    "    V_p=round(v_max-(factor*(v_mean/2)),4)\n",
    "    if odp<0.2 and theta_d<0.5 and theta_d>0:\n",
    "        fth=round(gain_near_zero(theta_d),4)\n",
    "        theta_d=round(fth*math.pi)\n",
    "    else:\n",
    "        theta_d=theta_d\n",
    "    cf=-math.pi/4\n",
    "    return round((1+((LMr*(theta_d+cf)*S)/(2*Lt_p)))*(V_p/R),4)\n",
    "\n",
    "def Case_3_L(odp,theta_d):\n",
    "    if theta_d==0:\n",
    "       theta_d=0.001\n",
    "    S=-1\n",
    "    factor=round(gain_near_extremes_normalized(odp),4)\n",
    "    Lt_p=round(((odp)*(Lt_max-Lt_min)+Lt_min),4)\n",
    "    V_p=round(v_max-(factor*(v_mean/2)),4)\n",
    "    if odp<0.2 and theta_d<0.5 and theta_d>0:\n",
    "        fth=round(gain_near_zero(theta_d),4)\n",
    "        theta_d=round(fth*math.pi)\n",
    "    else:\n",
    "        theta_d=theta_d\n",
    "    cf=-math.pi/4\n",
    "    return round((1-((LMr*(theta_d+cf)*S)/(2*Lt_p)))*(V_p/R),4)"
   ]
  },
  {
   "cell_type": "markdown",
   "metadata": {},
   "source": [
    "Fourth case: Right sensor nearest, objective angle -"
   ]
  },
  {
   "cell_type": "code",
   "execution_count": 129,
   "metadata": {},
   "outputs": [
    {
     "name": "stdout",
     "output_type": "stream",
     "text": [
      "Ltp:  1.2\n",
      "vel:  1.0\n",
      "Tetha sel:  -1.5707963267948966\n",
      "Right Wheel vel:  6.407\n",
      "Left Wheel vel:  3.8494\n"
     ]
    }
   ],
   "source": [
    "odp=1\n",
    "theta_d=-math.pi/2\n",
    "if theta_d==0:\n",
    "       theta_d=-0.001\n",
    "S=-1\n",
    "\n",
    "factor=round(gain_near_extremes_normalized(odp),4)\n",
    "\n",
    "Lt_p=round(((odp)*(Lt_max-Lt_min)+Lt_min),4)\n",
    "print('Ltp: ',Lt_p)\n",
    "V_p=round(v_max-(factor*(v_mean/2)),4)\n",
    "print('vel: ',V_p)\n",
    "\n",
    "if odp<0.2 and theta_d>-0.5 and theta_d<0:\n",
    "    fth=round(gain_near_zero(-1*theta_d),4)\n",
    "    print('Factor theta:',fth)\n",
    "    theta_d=round(fth*-math.pi,4)\n",
    "else:\n",
    "    theta_d=theta_d\n",
    "\n",
    "\n",
    "print('Tetha sel: ',theta_d)\n",
    "\n",
    "W_R=round((1+((LMr*theta_d*S)/(2*Lt_p)))*(V_p/R),4)\n",
    "W_L=round((1-((LMr*theta_d*S)/(2*Lt_p)))*(V_p/R),4)\n",
    "print('Right Wheel vel: ',W_R)\n",
    "print('Left Wheel vel: ',W_L)\n",
    "\n",
    "def Case_4_R(odp,theta_d):\n",
    "    if theta_d==0:\n",
    "       theta_d=-0.001\n",
    "    S=-1\n",
    "    factor=round(gain_near_extremes_normalized(odp),4)\n",
    "    Lt_p=round(((odp)*(Lt_max-Lt_min)+Lt_min),4)\n",
    "    V_p=round(v_max-(factor*(v_mean/2)),4)\n",
    "    if odp<0.2 and theta_d>-0.5 and theta_d<0:\n",
    "        fth=round(gain_near_zero(-1*theta_d),4)\n",
    "        theta_d=round(fth*-math.pi,4)\n",
    "    else:\n",
    "        theta_d=theta_d\n",
    "        \n",
    "    return round((1+((LMr*theta_d*S)/(2*Lt_p)))*(V_p/R),4)\n",
    "\n",
    "\n",
    "def Case_4_L(odp,theta_d):\n",
    "    if theta_d==0:\n",
    "       theta_d=-0.001\n",
    "    S=-1\n",
    "    factor=round(gain_near_extremes_normalized(odp),4)\n",
    "    Lt_p=round(((odp)*(Lt_max-Lt_min)+Lt_min),4)\n",
    "    V_p=round(v_max-(factor*(v_mean/2)),4)\n",
    "    if odp<0.2 and theta_d>-0.5 and theta_d<0:\n",
    "        fth=round(gain_near_zero(-1*theta_d),4)\n",
    "        theta_d=round(fth*-math.pi,4)\n",
    "    else:\n",
    "        theta_d=theta_d\n",
    "        \n",
    "    return round((1-((LMr*theta_d*S)/(2*Lt_p)))*(V_p/R),4)"
   ]
  },
  {
   "cell_type": "markdown",
   "metadata": {},
   "source": [
    "Fifth case: Front sensor nearest, objective angle +"
   ]
  },
  {
   "cell_type": "code",
   "execution_count": 130,
   "metadata": {},
   "outputs": [
    {
     "name": "stdout",
     "output_type": "stream",
     "text": [
      "Factor :  0.84\n",
      "Ltp:  0.57\n",
      "vel:  0.727\n",
      "Tetha sel:  3\n",
      "Right Wheel vel:  -0.0098\n",
      "Left Wheel vel:  7.4662\n",
      "-0.0098\n"
     ]
    }
   ],
   "source": [
    "odp=0.3\n",
    "theta_d=3\n",
    "\n",
    "if theta_d==0:\n",
    "    theta_d=0.001\n",
    "    \n",
    "S=-1\n",
    "\n",
    "factor=round(gain_near_extremes_normalized(odp),4)\n",
    "print('Factor : ',factor)\n",
    "\n",
    "\n",
    "Lt_p=round(((odp)*(Lt_max-Lt_min)+Lt_min),4)\n",
    "print('Ltp: ',Lt_p)\n",
    "V_p=round(v_max-(factor*(v_mean/2)),4)\n",
    "print('vel: ',V_p)\n",
    "\n",
    "if odp<0.2 and theta_d<0.5:\n",
    "    fth=round(gain_near_zero(theta_d,scale=10),4)\n",
    "    print('Factor theta:',fth)\n",
    "    theta_d=round(fth*math.pi,4)\n",
    "else:\n",
    "    theta_d=theta_d\n",
    "\n",
    "print('Tetha sel: ',theta_d)\n",
    "W_R=round((1+((LMr*theta_d*S)/(2*Lt_p)))*(V_p/R),4)\n",
    "W_L=round((1-((LMr*theta_d*S)/(2*Lt_p)))*(V_p/R),4)\n",
    "print('Right Wheel vel: ',W_R)\n",
    "print('Left Wheel vel: ',W_L)\n",
    "\n",
    "\n",
    "def Case_5_R(odp,theta_d):\n",
    "    if theta_d==0:\n",
    "        theta_d=0.001\n",
    "    S=-1\n",
    "    factor=round(gain_near_extremes_normalized(odp),4)\n",
    "    V_p=round(v_max-(factor*(v_mean/2)),4)\n",
    "    if odp<0.2 and theta_d<0.5:\n",
    "        fth=round(gain_near_zero(theta_d,scale=10),4)\n",
    "        theta_d=round(fth*math.pi,4)\n",
    "    else:\n",
    "        theta_d=theta_d\n",
    "    return round((1+((LMr*theta_d*S)/(2*Lt_p)))*(V_p/R),4)\n",
    "\n",
    "\n",
    "def Case_5_L(odp,theta_d):\n",
    "    if theta_d==0:\n",
    "        theta_d=0.001\n",
    "    S=-1\n",
    "    factor=round(gain_near_extremes_normalized(odp),4)\n",
    "    V_p=round(v_max-(factor*(v_mean/2)),4)\n",
    "    if odp<0.2 and theta_d<0.5:\n",
    "        fth=round(gain_near_zero(theta_d,scale=10),4)\n",
    "        theta_d=round(fth*math.pi,4)\n",
    "    else:\n",
    "        theta_d=theta_d\n",
    "    return round((1-((LMr*theta_d*S)/(2*Lt_p)))*(V_p/R),4)\n",
    "\n",
    "print(Case_5_R(0.3,3))"
   ]
  },
  {
   "cell_type": "markdown",
   "metadata": {},
   "source": [
    "Sixth case: Front sensor nearest, objective angle -"
   ]
  },
  {
   "cell_type": "code",
   "execution_count": 131,
   "metadata": {},
   "outputs": [
    {
     "name": "stdout",
     "output_type": "stream",
     "text": [
      "Factor :  0.36\n",
      "Ltp:  0.39\n",
      "vel:  0.883\n",
      "Factor theta: 0.3679\n",
      "Tetha sel:  -1.1558\n",
      "Right Wheel vel:  7.0847\n",
      "Left Wheel vel:  1.9717\n"
     ]
    }
   ],
   "source": [
    "odp=0.1\n",
    "theta_d=-0.1\n",
    "if theta_d==0:\n",
    "    theta_d=-0.001\n",
    "    \n",
    "S=-1\n",
    "\n",
    "factor=round(gain_near_extremes_normalized(odp),4)\n",
    "print('Factor : ',factor)\n",
    "\n",
    "\n",
    "Lt_p=round(((odp)*(Lt_max-Lt_min)+Lt_min),4)\n",
    "print('Ltp: ',Lt_p)\n",
    "V_p=round(v_max-(factor*(v_mean/2)),4)\n",
    "print('vel: ',V_p)\n",
    "\n",
    "if odp<0.2 and theta_d>-0.5 and theta_d<0:\n",
    "    fth=round(gain_near_zero(-1*theta_d),4)\n",
    "    print('Factor theta:',fth)\n",
    "    theta_d=round(fth*-math.pi,4)\n",
    "else:\n",
    "    theta_d=theta_d\n",
    "\n",
    "\n",
    "print('Tetha sel: ',theta_d)\n",
    "\n",
    "W_R=round((1+((LMr*theta_d*S)/(2*Lt_p)))*(V_p/R),4)\n",
    "W_L=round((1-((LMr*theta_d*S)/(2*Lt_p)))*(V_p/R),4)\n",
    "print('Right Wheel vel: ',W_R)\n",
    "print('Left Wheel vel: ',W_L)\n",
    "\n",
    "\n",
    "def Case_6_R(odp,theta_d):\n",
    "    if theta_d==0:\n",
    "        theta_d=-0.001\n",
    "    S=-1\n",
    "    factor=round(gain_near_extremes_normalized(odp),4)\n",
    "    Lt_p=round(((odp)*(Lt_max-Lt_min)+Lt_min),4)\n",
    "    V_p=round(v_max-(factor*(v_mean/2)),4)\n",
    "    if odp<0.2 and theta_d>-0.5 and theta_d<0:\n",
    "        fth=round(gain_near_zero(-1*theta_d),4)\n",
    "        theta_d=round(fth*-math.pi,4)\n",
    "    else:\n",
    "        theta_d=theta_d\n",
    "    return round((1+((LMr*theta_d*S)/(2*Lt_p)))*(V_p/R),4)\n",
    "\n",
    "\n",
    "def Case_6_L(odp,theta_d):\n",
    "    if theta_d==0:\n",
    "        theta_d=-0.001\n",
    "    S=-1\n",
    "    factor=round(gain_near_extremes_normalized(odp),4)\n",
    "    Lt_p=round(((odp)*(Lt_max-Lt_min)+Lt_min),4)\n",
    "    V_p=round(v_max-(factor*(v_mean/2)),4)\n",
    "    if odp<0.2 and theta_d>-0.5 and theta_d<0:\n",
    "        fth=round(gain_near_zero(-1*theta_d),4)\n",
    "        theta_d=round(fth*-math.pi,4)\n",
    "    else:\n",
    "        theta_d=theta_d\n",
    "    return round((1-((LMr*theta_d*S)/(2*Lt_p)))*(V_p/R),4)"
   ]
  },
  {
   "cell_type": "markdown",
   "metadata": {},
   "source": [
    "### Dataset Creation"
   ]
  },
  {
   "cell_type": "code",
   "execution_count": 132,
   "metadata": {},
   "outputs": [
    {
     "data": {
      "text/html": [
       "<div>\n",
       "<style scoped>\n",
       "    .dataframe tbody tr th:only-of-type {\n",
       "        vertical-align: middle;\n",
       "    }\n",
       "\n",
       "    .dataframe tbody tr th {\n",
       "        vertical-align: top;\n",
       "    }\n",
       "\n",
       "    .dataframe thead th {\n",
       "        text-align: right;\n",
       "    }\n",
       "</style>\n",
       "<table border=\"1\" class=\"dataframe\">\n",
       "  <thead>\n",
       "    <tr style=\"text-align: right;\">\n",
       "      <th></th>\n",
       "      <th>LS</th>\n",
       "      <th>FS</th>\n",
       "      <th>RS</th>\n",
       "      <th>Thetad</th>\n",
       "      <th>Min Value</th>\n",
       "    </tr>\n",
       "  </thead>\n",
       "  <tbody>\n",
       "    <tr>\n",
       "      <th>2409</th>\n",
       "      <td>0.034902</td>\n",
       "      <td>0.013577</td>\n",
       "      <td>0.426651</td>\n",
       "      <td>0.5675</td>\n",
       "      <td>0.013577</td>\n",
       "    </tr>\n",
       "    <tr>\n",
       "      <th>3433</th>\n",
       "      <td>0.637534</td>\n",
       "      <td>0.390453</td>\n",
       "      <td>0.758507</td>\n",
       "      <td>0.1996</td>\n",
       "      <td>0.390453</td>\n",
       "    </tr>\n",
       "    <tr>\n",
       "      <th>3313</th>\n",
       "      <td>0.078100</td>\n",
       "      <td>0.068315</td>\n",
       "      <td>0.023163</td>\n",
       "      <td>-0.1509</td>\n",
       "      <td>0.023163</td>\n",
       "    </tr>\n",
       "    <tr>\n",
       "      <th>598</th>\n",
       "      <td>0.674439</td>\n",
       "      <td>0.645419</td>\n",
       "      <td>0.284816</td>\n",
       "      <td>1.5485</td>\n",
       "      <td>0.284816</td>\n",
       "    </tr>\n",
       "    <tr>\n",
       "      <th>891</th>\n",
       "      <td>0.654556</td>\n",
       "      <td>0.126340</td>\n",
       "      <td>0.673577</td>\n",
       "      <td>-0.4788</td>\n",
       "      <td>0.126340</td>\n",
       "    </tr>\n",
       "    <tr>\n",
       "      <th>1284</th>\n",
       "      <td>0.220712</td>\n",
       "      <td>0.974561</td>\n",
       "      <td>0.516157</td>\n",
       "      <td>-2.3221</td>\n",
       "      <td>0.220712</td>\n",
       "    </tr>\n",
       "  </tbody>\n",
       "</table>\n",
       "</div>"
      ],
      "text/plain": [
       "            LS        FS        RS  Thetad  Min Value\n",
       "2409  0.034902  0.013577  0.426651  0.5675   0.013577\n",
       "3433  0.637534  0.390453  0.758507  0.1996   0.390453\n",
       "3313  0.078100  0.068315  0.023163 -0.1509   0.023163\n",
       "598   0.674439  0.645419  0.284816  1.5485   0.284816\n",
       "891   0.654556  0.126340  0.673577 -0.4788   0.126340\n",
       "1284  0.220712  0.974561  0.516157 -2.3221   0.220712"
      ]
     },
     "execution_count": 132,
     "metadata": {},
     "output_type": "execute_result"
    }
   ],
   "source": [
    "Df_C1['Min Value']=Df_C1[['LS','FS','RS']].min(axis=1)\n",
    "Df_C1.sample(6)\n"
   ]
  },
  {
   "cell_type": "markdown",
   "metadata": {},
   "source": [
    "### Left Wheel Evaluation"
   ]
  },
  {
   "cell_type": "code",
   "execution_count": 133,
   "metadata": {},
   "outputs": [
    {
     "data": {
      "text/html": [
       "<div>\n",
       "<style scoped>\n",
       "    .dataframe tbody tr th:only-of-type {\n",
       "        vertical-align: middle;\n",
       "    }\n",
       "\n",
       "    .dataframe tbody tr th {\n",
       "        vertical-align: top;\n",
       "    }\n",
       "\n",
       "    .dataframe thead th {\n",
       "        text-align: right;\n",
       "    }\n",
       "</style>\n",
       "<table border=\"1\" class=\"dataframe\">\n",
       "  <thead>\n",
       "    <tr style=\"text-align: right;\">\n",
       "      <th></th>\n",
       "      <th>LS</th>\n",
       "      <th>FS</th>\n",
       "      <th>RS</th>\n",
       "      <th>Thetad</th>\n",
       "      <th>Min Value</th>\n",
       "      <th>vel_L</th>\n",
       "      <th>vel_R</th>\n",
       "    </tr>\n",
       "  </thead>\n",
       "  <tbody>\n",
       "    <tr>\n",
       "      <th>2443</th>\n",
       "      <td>0.753683</td>\n",
       "      <td>0.746463</td>\n",
       "      <td>0.628968</td>\n",
       "      <td>-2.7110</td>\n",
       "      <td>0.628968</td>\n",
       "      <td>1.4422</td>\n",
       "      <td>5.7024</td>\n",
       "    </tr>\n",
       "    <tr>\n",
       "      <th>784</th>\n",
       "      <td>0.731226</td>\n",
       "      <td>0.080749</td>\n",
       "      <td>0.778810</td>\n",
       "      <td>-0.6965</td>\n",
       "      <td>0.080749</td>\n",
       "      <td>2.9838</td>\n",
       "      <td>6.2828</td>\n",
       "    </tr>\n",
       "    <tr>\n",
       "      <th>3917</th>\n",
       "      <td>0.789301</td>\n",
       "      <td>0.543376</td>\n",
       "      <td>0.938376</td>\n",
       "      <td>0.4305</td>\n",
       "      <td>0.543376</td>\n",
       "      <td>4.2043</td>\n",
       "      <td>2.7434</td>\n",
       "    </tr>\n",
       "    <tr>\n",
       "      <th>1446</th>\n",
       "      <td>0.292948</td>\n",
       "      <td>0.684722</td>\n",
       "      <td>0.950386</td>\n",
       "      <td>-0.4304</td>\n",
       "      <td>0.292948</td>\n",
       "      <td>4.1967</td>\n",
       "      <td>3.2976</td>\n",
       "    </tr>\n",
       "    <tr>\n",
       "      <th>3380</th>\n",
       "      <td>0.108139</td>\n",
       "      <td>0.088181</td>\n",
       "      <td>0.117958</td>\n",
       "      <td>0.1403</td>\n",
       "      <td>0.088181</td>\n",
       "      <td>6.3245</td>\n",
       "      <td>2.8601</td>\n",
       "    </tr>\n",
       "    <tr>\n",
       "      <th>2060</th>\n",
       "      <td>0.372336</td>\n",
       "      <td>0.326997</td>\n",
       "      <td>0.402345</td>\n",
       "      <td>-3.0310</td>\n",
       "      <td>0.326997</td>\n",
       "      <td>0.1041</td>\n",
       "      <td>7.2180</td>\n",
       "    </tr>\n",
       "  </tbody>\n",
       "</table>\n",
       "</div>"
      ],
      "text/plain": [
       "            LS        FS        RS  Thetad  Min Value   vel_L   vel_R\n",
       "2443  0.753683  0.746463  0.628968 -2.7110   0.628968  1.4422  5.7024\n",
       "784   0.731226  0.080749  0.778810 -0.6965   0.080749  2.9838  6.2828\n",
       "3917  0.789301  0.543376  0.938376  0.4305   0.543376  4.2043  2.7434\n",
       "1446  0.292948  0.684722  0.950386 -0.4304   0.292948  4.1967  3.2976\n",
       "3380  0.108139  0.088181  0.117958  0.1403   0.088181  6.3245  2.8601\n",
       "2060  0.372336  0.326997  0.402345 -3.0310   0.326997  0.1041  7.2180"
      ]
     },
     "execution_count": 133,
     "metadata": {},
     "output_type": "execute_result"
    }
   ],
   "source": [
    "def lw_eval(df):\n",
    "    if df['Min Value']== df['LS'] and df['Thetad']>0:\n",
    "       return Case_1_L(df['Min Value'],df['Thetad']) \n",
    "    elif df['Min Value']== df['LS'] and df['Thetad']<0:\n",
    "       return Case_2_L(df['Min Value'],df['Thetad']) \n",
    "    elif df['Min Value']== df['RS'] and df['Thetad']>0:\n",
    "       return Case_3_L(df['Min Value'],df['Thetad']) \n",
    "    elif df['Min Value']== df['RS'] and df['Thetad']<0:\n",
    "       return Case_4_L(df['Min Value'],df['Thetad']) \n",
    "    elif df['Min Value']== df['FS'] and df['Thetad']>0:\n",
    "       return Case_5_L(df['Min Value'],df['Thetad']) \n",
    "    elif df['Min Value']== df['FS'] and df['Thetad']<0:\n",
    "       return Case_6_L(df['Min Value'],df['Thetad']) \n",
    "    \n",
    "    \n",
    "    \n",
    "def rw_eval(df):\n",
    "      if df['Min Value']== df['LS'] and df['Thetad']>0:\n",
    "       return Case_1_R(df['Min Value'],df['Thetad']) \n",
    "      elif df['Min Value']== df['LS'] and df['Thetad']<0:\n",
    "       return Case_2_R(df['Min Value'],df['Thetad']) \n",
    "      elif df['Min Value']== df['RS'] and df['Thetad']>0:\n",
    "       return Case_3_R(df['Min Value'],df['Thetad']) \n",
    "      elif df['Min Value']== df['RS'] and df['Thetad']<0:\n",
    "       return Case_4_R(df['Min Value'],df['Thetad']) \n",
    "      elif df['Min Value']== df['FS'] and df['Thetad']>0:\n",
    "       return Case_5_R(df['Min Value'],df['Thetad']) \n",
    "      elif df['Min Value']== df['FS'] and df['Thetad']<0:\n",
    "       return Case_6_R(df['Min Value'],df['Thetad']) \n",
    "    \n",
    "\n",
    "Df_C1=Df_C1.assign(vel_L=Df_C1.apply(lw_eval,axis=1))\n",
    "Df_C1=Df_C1.assign(vel_R=Df_C1.apply(rw_eval,axis=1))\n",
    "\n",
    "Df_C1.sample(6)\n",
    "\n",
    "\n",
    "\n",
    "        "
   ]
  },
  {
   "cell_type": "markdown",
   "metadata": {},
   "source": [
    "Train Dataframe"
   ]
  },
  {
   "cell_type": "code",
   "execution_count": 149,
   "metadata": {},
   "outputs": [
    {
     "data": {
      "text/html": [
       "<div>\n",
       "<style scoped>\n",
       "    .dataframe tbody tr th:only-of-type {\n",
       "        vertical-align: middle;\n",
       "    }\n",
       "\n",
       "    .dataframe tbody tr th {\n",
       "        vertical-align: top;\n",
       "    }\n",
       "\n",
       "    .dataframe thead th {\n",
       "        text-align: right;\n",
       "    }\n",
       "</style>\n",
       "<table border=\"1\" class=\"dataframe\">\n",
       "  <thead>\n",
       "    <tr style=\"text-align: right;\">\n",
       "      <th></th>\n",
       "      <th>LS</th>\n",
       "      <th>FS</th>\n",
       "      <th>RS</th>\n",
       "      <th>Thetad</th>\n",
       "      <th>vel_L</th>\n",
       "      <th>vel_R</th>\n",
       "    </tr>\n",
       "  </thead>\n",
       "  <tbody>\n",
       "    <tr>\n",
       "      <th>2247</th>\n",
       "      <td>0.077242</td>\n",
       "      <td>0.023010</td>\n",
       "      <td>0.205748</td>\n",
       "      <td>-0.5895</td>\n",
       "      <td>3.2352</td>\n",
       "      <td>6.7218</td>\n",
       "    </tr>\n",
       "    <tr>\n",
       "      <th>773</th>\n",
       "      <td>0.297668</td>\n",
       "      <td>0.739603</td>\n",
       "      <td>0.090935</td>\n",
       "      <td>0.3341</td>\n",
       "      <td>2.7833</td>\n",
       "      <td>6.3705</td>\n",
       "    </tr>\n",
       "    <tr>\n",
       "      <th>3443</th>\n",
       "      <td>0.017594</td>\n",
       "      <td>0.015578</td>\n",
       "      <td>0.140835</td>\n",
       "      <td>-0.3933</td>\n",
       "      <td>4.8392</td>\n",
       "      <td>5.2131</td>\n",
       "    </tr>\n",
       "    <tr>\n",
       "      <th>180</th>\n",
       "      <td>0.087255</td>\n",
       "      <td>0.046734</td>\n",
       "      <td>0.097083</td>\n",
       "      <td>-0.0209</td>\n",
       "      <td>-2.0266</td>\n",
       "      <td>11.6892</td>\n",
       "    </tr>\n",
       "    <tr>\n",
       "      <th>2937</th>\n",
       "      <td>0.123587</td>\n",
       "      <td>0.229098</td>\n",
       "      <td>0.377752</td>\n",
       "      <td>-2.0280</td>\n",
       "      <td>1.8697</td>\n",
       "      <td>6.9426</td>\n",
       "    </tr>\n",
       "    <tr>\n",
       "      <th>3643</th>\n",
       "      <td>0.488485</td>\n",
       "      <td>0.605974</td>\n",
       "      <td>0.023306</td>\n",
       "      <td>2.6080</td>\n",
       "      <td>10.3591</td>\n",
       "      <td>-0.4063</td>\n",
       "    </tr>\n",
       "  </tbody>\n",
       "</table>\n",
       "</div>"
      ],
      "text/plain": [
       "            LS        FS        RS  Thetad    vel_L    vel_R\n",
       "2247  0.077242  0.023010  0.205748 -0.5895   3.2352   6.7218\n",
       "773   0.297668  0.739603  0.090935  0.3341   2.7833   6.3705\n",
       "3443  0.017594  0.015578  0.140835 -0.3933   4.8392   5.2131\n",
       "180   0.087255  0.046734  0.097083 -0.0209  -2.0266  11.6892\n",
       "2937  0.123587  0.229098  0.377752 -2.0280   1.8697   6.9426\n",
       "3643  0.488485  0.605974  0.023306  2.6080  10.3591  -0.4063"
      ]
     },
     "execution_count": 149,
     "metadata": {},
     "output_type": "execute_result"
    }
   ],
   "source": [
    "Df_C1_Comp=Df_C1[['LS','FS','RS','Thetad','vel_L','vel_R']]\n",
    "Df_C1_Comp.sample(6)"
   ]
  },
  {
   "cell_type": "code",
   "execution_count": 150,
   "metadata": {},
   "outputs": [],
   "source": [
    "from sklearn.model_selection import train_test_split\n",
    "\n",
    "train_C1, val_C1 = train_test_split(Df_C1_Comp, test_size=0.2, random_state=42)"
   ]
  },
  {
   "cell_type": "markdown",
   "metadata": {},
   "source": [
    "Extract vel L  to train and val"
   ]
  },
  {
   "cell_type": "code",
   "execution_count": 151,
   "metadata": {},
   "outputs": [
    {
     "data": {
      "text/html": [
       "<div>\n",
       "<style scoped>\n",
       "    .dataframe tbody tr th:only-of-type {\n",
       "        vertical-align: middle;\n",
       "    }\n",
       "\n",
       "    .dataframe tbody tr th {\n",
       "        vertical-align: top;\n",
       "    }\n",
       "\n",
       "    .dataframe thead th {\n",
       "        text-align: right;\n",
       "    }\n",
       "</style>\n",
       "<table border=\"1\" class=\"dataframe\">\n",
       "  <thead>\n",
       "    <tr style=\"text-align: right;\">\n",
       "      <th></th>\n",
       "      <th>LS</th>\n",
       "      <th>FS</th>\n",
       "      <th>RS</th>\n",
       "      <th>Thetad</th>\n",
       "      <th>vel_L</th>\n",
       "    </tr>\n",
       "  </thead>\n",
       "  <tbody>\n",
       "    <tr>\n",
       "      <th>125</th>\n",
       "      <td>0.540981</td>\n",
       "      <td>0.490353</td>\n",
       "      <td>0.588361</td>\n",
       "      <td>1.1119</td>\n",
       "      <td>5.3424</td>\n",
       "    </tr>\n",
       "    <tr>\n",
       "      <th>338</th>\n",
       "      <td>0.069375</td>\n",
       "      <td>0.199514</td>\n",
       "      <td>0.448670</td>\n",
       "      <td>1.4151</td>\n",
       "      <td>8.1926</td>\n",
       "    </tr>\n",
       "    <tr>\n",
       "      <th>2460</th>\n",
       "      <td>0.119010</td>\n",
       "      <td>0.042447</td>\n",
       "      <td>0.102088</td>\n",
       "      <td>0.4579</td>\n",
       "      <td>4.9334</td>\n",
       "    </tr>\n",
       "    <tr>\n",
       "      <th>3690</th>\n",
       "      <td>0.980260</td>\n",
       "      <td>0.275404</td>\n",
       "      <td>0.671433</td>\n",
       "      <td>2.5084</td>\n",
       "      <td>8.4514</td>\n",
       "    </tr>\n",
       "    <tr>\n",
       "      <th>1321</th>\n",
       "      <td>0.080103</td>\n",
       "      <td>0.133343</td>\n",
       "      <td>0.006291</td>\n",
       "      <td>0.0261</td>\n",
       "      <td>8.9367</td>\n",
       "    </tr>\n",
       "    <tr>\n",
       "      <th>3754</th>\n",
       "      <td>0.809755</td>\n",
       "      <td>0.925111</td>\n",
       "      <td>0.059908</td>\n",
       "      <td>-1.7051</td>\n",
       "      <td>0.3905</td>\n",
       "    </tr>\n",
       "  </tbody>\n",
       "</table>\n",
       "</div>"
      ],
      "text/plain": [
       "            LS        FS        RS  Thetad   vel_L\n",
       "125   0.540981  0.490353  0.588361  1.1119  5.3424\n",
       "338   0.069375  0.199514  0.448670  1.4151  8.1926\n",
       "2460  0.119010  0.042447  0.102088  0.4579  4.9334\n",
       "3690  0.980260  0.275404  0.671433  2.5084  8.4514\n",
       "1321  0.080103  0.133343  0.006291  0.0261  8.9367\n",
       "3754  0.809755  0.925111  0.059908 -1.7051  0.3905"
      ]
     },
     "execution_count": 151,
     "metadata": {},
     "output_type": "execute_result"
    }
   ],
   "source": [
    "train_C1_vl=train_C1[['LS','FS','RS','Thetad','vel_L']]\n",
    "train_C1_vl.sample(6)"
   ]
  },
  {
   "cell_type": "code",
   "execution_count": 152,
   "metadata": {},
   "outputs": [
    {
     "data": {
      "text/html": [
       "<div>\n",
       "<style scoped>\n",
       "    .dataframe tbody tr th:only-of-type {\n",
       "        vertical-align: middle;\n",
       "    }\n",
       "\n",
       "    .dataframe tbody tr th {\n",
       "        vertical-align: top;\n",
       "    }\n",
       "\n",
       "    .dataframe thead th {\n",
       "        text-align: right;\n",
       "    }\n",
       "</style>\n",
       "<table border=\"1\" class=\"dataframe\">\n",
       "  <thead>\n",
       "    <tr style=\"text-align: right;\">\n",
       "      <th></th>\n",
       "      <th>LS</th>\n",
       "      <th>FS</th>\n",
       "      <th>RS</th>\n",
       "      <th>Thetad</th>\n",
       "      <th>vel_L</th>\n",
       "    </tr>\n",
       "  </thead>\n",
       "  <tbody>\n",
       "    <tr>\n",
       "      <th>166</th>\n",
       "      <td>0.154770</td>\n",
       "      <td>0.720166</td>\n",
       "      <td>0.338147</td>\n",
       "      <td>-0.4587</td>\n",
       "      <td>5.6468</td>\n",
       "    </tr>\n",
       "    <tr>\n",
       "      <th>3952</th>\n",
       "      <td>0.934916</td>\n",
       "      <td>0.742175</td>\n",
       "      <td>0.347870</td>\n",
       "      <td>-1.9353</td>\n",
       "      <td>1.4416</td>\n",
       "    </tr>\n",
       "    <tr>\n",
       "      <th>70</th>\n",
       "      <td>0.661565</td>\n",
       "      <td>0.298414</td>\n",
       "      <td>0.029454</td>\n",
       "      <td>-0.7217</td>\n",
       "      <td>2.8587</td>\n",
       "    </tr>\n",
       "    <tr>\n",
       "      <th>1744</th>\n",
       "      <td>0.120727</td>\n",
       "      <td>0.067600</td>\n",
       "      <td>0.547898</td>\n",
       "      <td>-1.9336</td>\n",
       "      <td>-0.0985</td>\n",
       "    </tr>\n",
       "    <tr>\n",
       "      <th>2270</th>\n",
       "      <td>0.297525</td>\n",
       "      <td>0.231528</td>\n",
       "      <td>0.743637</td>\n",
       "      <td>2.5917</td>\n",
       "      <td>8.9325</td>\n",
       "    </tr>\n",
       "    <tr>\n",
       "      <th>2157</th>\n",
       "      <td>0.855672</td>\n",
       "      <td>0.871945</td>\n",
       "      <td>0.956677</td>\n",
       "      <td>-1.0335</td>\n",
       "      <td>4.1145</td>\n",
       "    </tr>\n",
       "  </tbody>\n",
       "</table>\n",
       "</div>"
      ],
      "text/plain": [
       "            LS        FS        RS  Thetad   vel_L\n",
       "166   0.154770  0.720166  0.338147 -0.4587  5.6468\n",
       "3952  0.934916  0.742175  0.347870 -1.9353  1.4416\n",
       "70    0.661565  0.298414  0.029454 -0.7217  2.8587\n",
       "1744  0.120727  0.067600  0.547898 -1.9336 -0.0985\n",
       "2270  0.297525  0.231528  0.743637  2.5917  8.9325\n",
       "2157  0.855672  0.871945  0.956677 -1.0335  4.1145"
      ]
     },
     "execution_count": 152,
     "metadata": {},
     "output_type": "execute_result"
    }
   ],
   "source": [
    "val_C1_vl=val_C1[['LS','FS','RS','Thetad','vel_L']]\n",
    "val_C1_vl.sample(6)"
   ]
  },
  {
   "cell_type": "markdown",
   "metadata": {},
   "source": [
    "Extract vel R, train and val"
   ]
  },
  {
   "cell_type": "code",
   "execution_count": 153,
   "metadata": {},
   "outputs": [
    {
     "data": {
      "text/html": [
       "<div>\n",
       "<style scoped>\n",
       "    .dataframe tbody tr th:only-of-type {\n",
       "        vertical-align: middle;\n",
       "    }\n",
       "\n",
       "    .dataframe tbody tr th {\n",
       "        vertical-align: top;\n",
       "    }\n",
       "\n",
       "    .dataframe thead th {\n",
       "        text-align: right;\n",
       "    }\n",
       "</style>\n",
       "<table border=\"1\" class=\"dataframe\">\n",
       "  <thead>\n",
       "    <tr style=\"text-align: right;\">\n",
       "      <th></th>\n",
       "      <th>LS</th>\n",
       "      <th>FS</th>\n",
       "      <th>RS</th>\n",
       "      <th>Thetad</th>\n",
       "      <th>vel_R</th>\n",
       "    </tr>\n",
       "  </thead>\n",
       "  <tbody>\n",
       "    <tr>\n",
       "      <th>2068</th>\n",
       "      <td>0.070376</td>\n",
       "      <td>0.101186</td>\n",
       "      <td>0.106806</td>\n",
       "      <td>0.0878</td>\n",
       "      <td>1.4798</td>\n",
       "    </tr>\n",
       "    <tr>\n",
       "      <th>828</th>\n",
       "      <td>0.620798</td>\n",
       "      <td>0.148063</td>\n",
       "      <td>0.178010</td>\n",
       "      <td>0.1132</td>\n",
       "      <td>2.1663</td>\n",
       "    </tr>\n",
       "    <tr>\n",
       "      <th>2069</th>\n",
       "      <td>0.003862</td>\n",
       "      <td>0.036444</td>\n",
       "      <td>0.117386</td>\n",
       "      <td>-0.4854</td>\n",
       "      <td>2.6656</td>\n",
       "    </tr>\n",
       "    <tr>\n",
       "      <th>2833</th>\n",
       "      <td>0.048634</td>\n",
       "      <td>0.967415</td>\n",
       "      <td>0.888762</td>\n",
       "      <td>1.3641</td>\n",
       "      <td>1.1767</td>\n",
       "    </tr>\n",
       "    <tr>\n",
       "      <th>624</th>\n",
       "      <td>0.025890</td>\n",
       "      <td>0.035158</td>\n",
       "      <td>0.128253</td>\n",
       "      <td>0.2435</td>\n",
       "      <td>4.1557</td>\n",
       "    </tr>\n",
       "    <tr>\n",
       "      <th>493</th>\n",
       "      <td>0.615792</td>\n",
       "      <td>0.842218</td>\n",
       "      <td>0.984844</td>\n",
       "      <td>-2.7088</td>\n",
       "      <td>5.0739</td>\n",
       "    </tr>\n",
       "  </tbody>\n",
       "</table>\n",
       "</div>"
      ],
      "text/plain": [
       "            LS        FS        RS  Thetad   vel_R\n",
       "2068  0.070376  0.101186  0.106806  0.0878  1.4798\n",
       "828   0.620798  0.148063  0.178010  0.1132  2.1663\n",
       "2069  0.003862  0.036444  0.117386 -0.4854  2.6656\n",
       "2833  0.048634  0.967415  0.888762  1.3641  1.1767\n",
       "624   0.025890  0.035158  0.128253  0.2435  4.1557\n",
       "493   0.615792  0.842218  0.984844 -2.7088  5.0739"
      ]
     },
     "execution_count": 153,
     "metadata": {},
     "output_type": "execute_result"
    }
   ],
   "source": [
    "train_C1_vr=train_C1[['LS','FS','RS','Thetad','vel_R']]\n",
    "train_C1_vr.sample(6)"
   ]
  },
  {
   "cell_type": "code",
   "execution_count": 154,
   "metadata": {},
   "outputs": [
    {
     "data": {
      "text/html": [
       "<div>\n",
       "<style scoped>\n",
       "    .dataframe tbody tr th:only-of-type {\n",
       "        vertical-align: middle;\n",
       "    }\n",
       "\n",
       "    .dataframe tbody tr th {\n",
       "        vertical-align: top;\n",
       "    }\n",
       "\n",
       "    .dataframe thead th {\n",
       "        text-align: right;\n",
       "    }\n",
       "</style>\n",
       "<table border=\"1\" class=\"dataframe\">\n",
       "  <thead>\n",
       "    <tr style=\"text-align: right;\">\n",
       "      <th></th>\n",
       "      <th>LS</th>\n",
       "      <th>FS</th>\n",
       "      <th>RS</th>\n",
       "      <th>Thetad</th>\n",
       "      <th>vel_R</th>\n",
       "    </tr>\n",
       "  </thead>\n",
       "  <tbody>\n",
       "    <tr>\n",
       "      <th>32</th>\n",
       "      <td>0.058218</td>\n",
       "      <td>0.576819</td>\n",
       "      <td>0.712468</td>\n",
       "      <td>1.1179</td>\n",
       "      <td>1.8845</td>\n",
       "    </tr>\n",
       "    <tr>\n",
       "      <th>308</th>\n",
       "      <td>0.212559</td>\n",
       "      <td>0.269830</td>\n",
       "      <td>0.088218</td>\n",
       "      <td>-0.7306</td>\n",
       "      <td>6.2763</td>\n",
       "    </tr>\n",
       "    <tr>\n",
       "      <th>3318</th>\n",
       "      <td>0.064082</td>\n",
       "      <td>0.131199</td>\n",
       "      <td>0.034029</td>\n",
       "      <td>0.1549</td>\n",
       "      <td>4.3022</td>\n",
       "    </tr>\n",
       "    <tr>\n",
       "      <th>436</th>\n",
       "      <td>0.007295</td>\n",
       "      <td>0.017865</td>\n",
       "      <td>0.089362</td>\n",
       "      <td>0.3450</td>\n",
       "      <td>4.7656</td>\n",
       "    </tr>\n",
       "    <tr>\n",
       "      <th>3870</th>\n",
       "      <td>0.065513</td>\n",
       "      <td>0.623410</td>\n",
       "      <td>0.909923</td>\n",
       "      <td>2.6505</td>\n",
       "      <td>-1.9185</td>\n",
       "    </tr>\n",
       "    <tr>\n",
       "      <th>2566</th>\n",
       "      <td>0.022887</td>\n",
       "      <td>0.037588</td>\n",
       "      <td>0.099657</td>\n",
       "      <td>-0.4552</td>\n",
       "      <td>2.7530</td>\n",
       "    </tr>\n",
       "  </tbody>\n",
       "</table>\n",
       "</div>"
      ],
      "text/plain": [
       "            LS        FS        RS  Thetad   vel_R\n",
       "32    0.058218  0.576819  0.712468  1.1179  1.8845\n",
       "308   0.212559  0.269830  0.088218 -0.7306  6.2763\n",
       "3318  0.064082  0.131199  0.034029  0.1549  4.3022\n",
       "436   0.007295  0.017865  0.089362  0.3450  4.7656\n",
       "3870  0.065513  0.623410  0.909923  2.6505 -1.9185\n",
       "2566  0.022887  0.037588  0.099657 -0.4552  2.7530"
      ]
     },
     "execution_count": 154,
     "metadata": {},
     "output_type": "execute_result"
    }
   ],
   "source": [
    "val_C1_vr=val_C1[['LS','FS','RS','Thetad','vel_R']]\n",
    "val_C1_vr.sample(6)"
   ]
  },
  {
   "cell_type": "markdown",
   "metadata": {},
   "source": [
    "To CSV"
   ]
  },
  {
   "cell_type": "code",
   "execution_count": 155,
   "metadata": {},
   "outputs": [],
   "source": [
    "import os\n",
    "parent_dir = 'Train_Val_Data_28'\n",
    "child_dir_1 = os.path.join(parent_dir, 'Train')\n",
    "child_dir_2 = os.path.join(parent_dir, 'Validation')\n",
    "os.makedirs(child_dir_1, exist_ok=True)\n",
    "os.makedirs(child_dir_2, exist_ok=True)"
   ]
  },
  {
   "cell_type": "code",
   "execution_count": 156,
   "metadata": {},
   "outputs": [],
   "source": [
    "\n",
    "train_C1_vl.to_csv(os.path.join(child_dir_1, 'C1_vl_train.csv'), index=False)\n",
    "val_C1_vl.to_csv(os.path.join(child_dir_2, 'C1_vl_val.csv'), index=False)\n",
    "\n",
    "\n",
    "train_C1_vr.to_csv(os.path.join(child_dir_1, 'C1_vr_train.csv'), index=False)\n",
    "val_C1_vr.to_csv(os.path.join(child_dir_2, 'C1_vr_val.csv'), index=False)"
   ]
  },
  {
   "cell_type": "markdown",
   "metadata": {},
   "source": [
    "## No obstacle circle"
   ]
  },
  {
   "cell_type": "markdown",
   "metadata": {},
   "source": [
    "### Angle Data Generation"
   ]
  },
  {
   "cell_type": "code",
   "execution_count": 142,
   "metadata": {},
   "outputs": [
    {
     "name": "stdout",
     "output_type": "stream",
     "text": [
      "Angle data : [[-2.2442]\n",
      " [-1.3575]]\n"
     ]
    }
   ],
   "source": [
    "HA_Data_2=[round(random.uniform(-math.pi, math.pi),4) for _ in range(3000)]\n",
    "HA_Data_2=np.array(HA_Data).reshape(3000,1)\n",
    "print('Angle data :',HA_Data_2[:2])"
   ]
  },
  {
   "cell_type": "code",
   "execution_count": 143,
   "metadata": {},
   "outputs": [
    {
     "data": {
      "text/html": [
       "<div>\n",
       "<style scoped>\n",
       "    .dataframe tbody tr th:only-of-type {\n",
       "        vertical-align: middle;\n",
       "    }\n",
       "\n",
       "    .dataframe tbody tr th {\n",
       "        vertical-align: top;\n",
       "    }\n",
       "\n",
       "    .dataframe thead tr th {\n",
       "        text-align: left;\n",
       "    }\n",
       "</style>\n",
       "<table border=\"1\" class=\"dataframe\">\n",
       "  <thead>\n",
       "    <tr>\n",
       "      <th></th>\n",
       "      <th>HA</th>\n",
       "    </tr>\n",
       "  </thead>\n",
       "  <tbody>\n",
       "    <tr>\n",
       "      <th>30</th>\n",
       "      <td>-0.0089</td>\n",
       "    </tr>\n",
       "    <tr>\n",
       "      <th>2853</th>\n",
       "      <td>-1.1080</td>\n",
       "    </tr>\n",
       "    <tr>\n",
       "      <th>1371</th>\n",
       "      <td>1.2929</td>\n",
       "    </tr>\n",
       "    <tr>\n",
       "      <th>933</th>\n",
       "      <td>-1.8366</td>\n",
       "    </tr>\n",
       "    <tr>\n",
       "      <th>1594</th>\n",
       "      <td>1.8971</td>\n",
       "    </tr>\n",
       "    <tr>\n",
       "      <th>2875</th>\n",
       "      <td>2.0837</td>\n",
       "    </tr>\n",
       "  </tbody>\n",
       "</table>\n",
       "</div>"
      ],
      "text/plain": [
       "          HA\n",
       "30   -0.0089\n",
       "2853 -1.1080\n",
       "1371  1.2929\n",
       "933  -1.8366\n",
       "1594  1.8971\n",
       "2875  2.0837"
      ]
     },
     "execution_count": 143,
     "metadata": {},
     "output_type": "execute_result"
    }
   ],
   "source": [
    "Df_C2=pd.DataFrame(HA_Data_2,columns=[['HA']])\n",
    "Df_C2.sample(6)"
   ]
  },
  {
   "cell_type": "markdown",
   "metadata": {},
   "source": [
    "### Evaluation   Right and Left Wheel"
   ]
  },
  {
   "cell_type": "code",
   "execution_count": 144,
   "metadata": {},
   "outputs": [
    {
     "data": {
      "text/html": [
       "<div>\n",
       "<style scoped>\n",
       "    .dataframe tbody tr th:only-of-type {\n",
       "        vertical-align: middle;\n",
       "    }\n",
       "\n",
       "    .dataframe tbody tr th {\n",
       "        vertical-align: top;\n",
       "    }\n",
       "\n",
       "    .dataframe thead tr th {\n",
       "        text-align: left;\n",
       "    }\n",
       "</style>\n",
       "<table border=\"1\" class=\"dataframe\">\n",
       "  <thead>\n",
       "    <tr>\n",
       "      <th></th>\n",
       "      <th>HA</th>\n",
       "      <th>W_L</th>\n",
       "      <th>W_R</th>\n",
       "    </tr>\n",
       "  </thead>\n",
       "  <tbody>\n",
       "    <tr>\n",
       "      <th>279</th>\n",
       "      <td>-1.5720</td>\n",
       "      <td>3.8484</td>\n",
       "      <td>6.4080</td>\n",
       "    </tr>\n",
       "    <tr>\n",
       "      <th>459</th>\n",
       "      <td>1.7318</td>\n",
       "      <td>6.5381</td>\n",
       "      <td>3.7183</td>\n",
       "    </tr>\n",
       "    <tr>\n",
       "      <th>729</th>\n",
       "      <td>2.4896</td>\n",
       "      <td>7.1550</td>\n",
       "      <td>3.1014</td>\n",
       "    </tr>\n",
       "    <tr>\n",
       "      <th>2152</th>\n",
       "      <td>-1.2360</td>\n",
       "      <td>4.1220</td>\n",
       "      <td>6.1344</td>\n",
       "    </tr>\n",
       "    <tr>\n",
       "      <th>2815</th>\n",
       "      <td>2.8344</td>\n",
       "      <td>7.4357</td>\n",
       "      <td>2.8207</td>\n",
       "    </tr>\n",
       "    <tr>\n",
       "      <th>665</th>\n",
       "      <td>-1.2450</td>\n",
       "      <td>4.1146</td>\n",
       "      <td>6.1418</td>\n",
       "    </tr>\n",
       "  </tbody>\n",
       "</table>\n",
       "</div>"
      ],
      "text/plain": [
       "          HA     W_L     W_R\n",
       "279  -1.5720  3.8484  6.4080\n",
       "459   1.7318  6.5381  3.7183\n",
       "729   2.4896  7.1550  3.1014\n",
       "2152 -1.2360  4.1220  6.1344\n",
       "2815  2.8344  7.4357  2.8207\n",
       "665  -1.2450  4.1146  6.1418"
      ]
     },
     "execution_count": 144,
     "metadata": {},
     "output_type": "execute_result"
    }
   ],
   "source": [
    "Lt_2=1.2\n",
    "v_max=1\n",
    "\n",
    "def lw_eval_NO(df):\n",
    "    Sf1=-1\n",
    "    haf=df['HA']\n",
    "    Lt_pf=round((Lt_2),4)\n",
    "    V_pf=round(v_max,4)\n",
    "    return round((1-((LMr*haf*Sf1)/(2*Lt_pf)))*(V_pf/R),4)\n",
    "\n",
    "def rw_eval_NO(df):\n",
    "    Sf1=-1\n",
    "    haf=df['HA']\n",
    "    Lt_pf=round((Lt_2),4)\n",
    "    V_pf=round(v_max,4)\n",
    "    return round((1+((LMr*haf*Sf1)/(2*Lt_pf)))*(V_pf/R),4)\n",
    "\n",
    "\n",
    "Df_C2=Df_C2.assign(W_L=Df_C2.apply(lw_eval_NO,axis=1))\n",
    "\n",
    "Df_C2=Df_C2.assign(W_R=Df_C2.apply(rw_eval_NO,axis=1))\n",
    "\n",
    "\n",
    "Df_C2.sample(6)\n",
    "\n"
   ]
  },
  {
   "cell_type": "markdown",
   "metadata": {},
   "source": [
    "Left Wheel Train NO"
   ]
  },
  {
   "cell_type": "code",
   "execution_count": 145,
   "metadata": {},
   "outputs": [
    {
     "data": {
      "text/html": [
       "<div>\n",
       "<style scoped>\n",
       "    .dataframe tbody tr th:only-of-type {\n",
       "        vertical-align: middle;\n",
       "    }\n",
       "\n",
       "    .dataframe tbody tr th {\n",
       "        vertical-align: top;\n",
       "    }\n",
       "\n",
       "    .dataframe thead tr th {\n",
       "        text-align: left;\n",
       "    }\n",
       "</style>\n",
       "<table border=\"1\" class=\"dataframe\">\n",
       "  <thead>\n",
       "    <tr>\n",
       "      <th></th>\n",
       "      <th>HA</th>\n",
       "      <th>W_L</th>\n",
       "    </tr>\n",
       "  </thead>\n",
       "  <tbody>\n",
       "    <tr>\n",
       "      <th>872</th>\n",
       "      <td>2.5880</td>\n",
       "      <td>7.2351</td>\n",
       "    </tr>\n",
       "    <tr>\n",
       "      <th>1895</th>\n",
       "      <td>0.1196</td>\n",
       "      <td>5.2256</td>\n",
       "    </tr>\n",
       "    <tr>\n",
       "      <th>2406</th>\n",
       "      <td>-0.3136</td>\n",
       "      <td>4.8729</td>\n",
       "    </tr>\n",
       "    <tr>\n",
       "      <th>398</th>\n",
       "      <td>-1.0793</td>\n",
       "      <td>4.2495</td>\n",
       "    </tr>\n",
       "    <tr>\n",
       "      <th>1488</th>\n",
       "      <td>-2.7681</td>\n",
       "      <td>2.8747</td>\n",
       "    </tr>\n",
       "    <tr>\n",
       "      <th>2848</th>\n",
       "      <td>0.1757</td>\n",
       "      <td>5.2712</td>\n",
       "    </tr>\n",
       "  </tbody>\n",
       "</table>\n",
       "</div>"
      ],
      "text/plain": [
       "          HA     W_L\n",
       "872   2.5880  7.2351\n",
       "1895  0.1196  5.2256\n",
       "2406 -0.3136  4.8729\n",
       "398  -1.0793  4.2495\n",
       "1488 -2.7681  2.8747\n",
       "2848  0.1757  5.2712"
      ]
     },
     "execution_count": 145,
     "metadata": {},
     "output_type": "execute_result"
    }
   ],
   "source": [
    "Df_C2_Train=Df_C2[['HA','W_L']]\n",
    "Df_C2_Train.sample(6)"
   ]
  },
  {
   "cell_type": "code",
   "execution_count": 146,
   "metadata": {},
   "outputs": [],
   "source": [
    "Df_C2_Train.to_csv('Df_C2_Train_L_2.csv',index=False)"
   ]
  },
  {
   "cell_type": "markdown",
   "metadata": {},
   "source": [
    "Right Wheel Train NO"
   ]
  },
  {
   "cell_type": "code",
   "execution_count": 147,
   "metadata": {},
   "outputs": [
    {
     "data": {
      "text/html": [
       "<div>\n",
       "<style scoped>\n",
       "    .dataframe tbody tr th:only-of-type {\n",
       "        vertical-align: middle;\n",
       "    }\n",
       "\n",
       "    .dataframe tbody tr th {\n",
       "        vertical-align: top;\n",
       "    }\n",
       "\n",
       "    .dataframe thead tr th {\n",
       "        text-align: left;\n",
       "    }\n",
       "</style>\n",
       "<table border=\"1\" class=\"dataframe\">\n",
       "  <thead>\n",
       "    <tr>\n",
       "      <th></th>\n",
       "      <th>HA</th>\n",
       "      <th>W_R</th>\n",
       "    </tr>\n",
       "  </thead>\n",
       "  <tbody>\n",
       "    <tr>\n",
       "      <th>0</th>\n",
       "      <td>-2.2442</td>\n",
       "      <td>6.9552</td>\n",
       "    </tr>\n",
       "    <tr>\n",
       "      <th>1</th>\n",
       "      <td>-1.3575</td>\n",
       "      <td>6.2333</td>\n",
       "    </tr>\n",
       "    <tr>\n",
       "      <th>2</th>\n",
       "      <td>3.0486</td>\n",
       "      <td>2.6463</td>\n",
       "    </tr>\n",
       "    <tr>\n",
       "      <th>3</th>\n",
       "      <td>1.7736</td>\n",
       "      <td>3.6843</td>\n",
       "    </tr>\n",
       "    <tr>\n",
       "      <th>4</th>\n",
       "      <td>1.6729</td>\n",
       "      <td>3.7663</td>\n",
       "    </tr>\n",
       "    <tr>\n",
       "      <th>5</th>\n",
       "      <td>0.1402</td>\n",
       "      <td>5.0141</td>\n",
       "    </tr>\n",
       "  </tbody>\n",
       "</table>\n",
       "</div>"
      ],
      "text/plain": [
       "       HA     W_R\n",
       "0 -2.2442  6.9552\n",
       "1 -1.3575  6.2333\n",
       "2  3.0486  2.6463\n",
       "3  1.7736  3.6843\n",
       "4  1.6729  3.7663\n",
       "5  0.1402  5.0141"
      ]
     },
     "execution_count": 147,
     "metadata": {},
     "output_type": "execute_result"
    }
   ],
   "source": [
    "Df_C2_Train_R=Df_C2[['HA','W_R']]\n",
    "Df_C2_Train_R.head(6)"
   ]
  },
  {
   "cell_type": "code",
   "execution_count": 148,
   "metadata": {},
   "outputs": [],
   "source": [
    "Df_C2_Train_R.to_csv('Df_C2_Train_R_2.csv',index=False)"
   ]
  }
 ],
 "metadata": {
  "kernelspec": {
   "display_name": "Python 3",
   "language": "python",
   "name": "python3"
  },
  "language_info": {
   "codemirror_mode": {
    "name": "ipython",
    "version": 3
   },
   "file_extension": ".py",
   "mimetype": "text/x-python",
   "name": "python",
   "nbconvert_exporter": "python",
   "pygments_lexer": "ipython3",
   "version": "3.12.4"
  }
 },
 "nbformat": 4,
 "nbformat_minor": 2
}
