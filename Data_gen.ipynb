{
 "cells": [
  {
   "cell_type": "markdown",
   "metadata": {},
   "source": [
    "### Importing libraries"
   ]
  },
  {
   "cell_type": "code",
   "execution_count": 1,
   "metadata": {},
   "outputs": [],
   "source": [
    "import numpy as np\n",
    "import pandas as pd\n",
    "import random\n",
    "import math\n",
    "\n",
    "from sklearn import preprocessing # normalization library\n"
   ]
  },
  {
   "cell_type": "markdown",
   "metadata": {},
   "source": [
    "### Robot Data\n",
    "Pioneer 3dx"
   ]
  },
  {
   "cell_type": "code",
   "execution_count": 2,
   "metadata": {},
   "outputs": [],
   "source": [
    "\n",
    "LMr=381e-3\n",
    "R=195e-3\n",
    "\n",
    "v_max= 1\n",
    "v_min=0.5\n",
    "\n",
    "Lt_max=1.2\n",
    "Lt_min=0.3"
   ]
  },
  {
   "cell_type": "markdown",
   "metadata": {},
   "source": [
    "### Obstacle circle \n",
    "\n",
    "Sensor range data: $[dmin_1\\quad dmax_1]\\quad m$ \n",
    "\n",
    "Heading angle data: $[-\\pi\\quad\\pi]\\quad rad$ \n"
   ]
  },
  {
   "cell_type": "code",
   "execution_count": 3,
   "metadata": {},
   "outputs": [],
   "source": [
    "min_d1=0.3\n",
    "max_d1=1"
   ]
  },
  {
   "cell_type": "code",
   "execution_count": 4,
   "metadata": {},
   "outputs": [
    {
     "name": "stdout",
     "output_type": "stream",
     "text": [
      "Raw data : [[0.924  0.5576 0.5139]\n",
      " [0.5983 0.4992 0.9707]]\n",
      "Normalized data : [[0.89152494 0.369319   0.3057662 ]\n",
      " [0.42603973 0.2855914  0.95936472]]\n"
     ]
    }
   ],
   "source": [
    "# Sensor Data gen \n",
    "Obs_Data=[round(random.uniform(min_d1, max_d1),4) for _ in range(3000*3)]\n",
    "Obs_Data_M=np.array(Obs_Data).reshape(3000,3)\n",
    "\n",
    "print('Raw data :',Obs_Data_M[:2,:])\n",
    "\n",
    "normalizer=preprocessing.MinMaxScaler()\n",
    "Obs_Data_Norm=normalizer.fit_transform(Obs_Data_M)\n",
    "print('Normalized data :',Obs_Data_Norm[:2,:])\n"
   ]
  },
  {
   "cell_type": "code",
   "execution_count": 5,
   "metadata": {},
   "outputs": [
    {
     "name": "stdout",
     "output_type": "stream",
     "text": [
      "Angle data : [[-0.8852]\n",
      " [ 0.6788]]\n"
     ]
    }
   ],
   "source": [
    "# HA data gen\n",
    "\n",
    "HA_Data=[round(random.uniform(-math.pi, math.pi),4) for _ in range(3000)]\n",
    "HA_Data=np.array(HA_Data).reshape(3000,1)\n",
    "print('Angle data :',HA_Data[:2])"
   ]
  },
  {
   "cell_type": "code",
   "execution_count": 6,
   "metadata": {},
   "outputs": [
    {
     "data": {
      "text/html": [
       "<div>\n",
       "<style scoped>\n",
       "    .dataframe tbody tr th:only-of-type {\n",
       "        vertical-align: middle;\n",
       "    }\n",
       "\n",
       "    .dataframe tbody tr th {\n",
       "        vertical-align: top;\n",
       "    }\n",
       "\n",
       "    .dataframe thead th {\n",
       "        text-align: right;\n",
       "    }\n",
       "</style>\n",
       "<table border=\"1\" class=\"dataframe\">\n",
       "  <thead>\n",
       "    <tr style=\"text-align: right;\">\n",
       "      <th></th>\n",
       "      <th>LD</th>\n",
       "      <th>FD</th>\n",
       "      <th>RD</th>\n",
       "      <th>HA</th>\n",
       "    </tr>\n",
       "  </thead>\n",
       "  <tbody>\n",
       "    <tr>\n",
       "      <th>1119</th>\n",
       "      <td>0.507217</td>\n",
       "      <td>0.225090</td>\n",
       "      <td>0.986980</td>\n",
       "      <td>2.3684</td>\n",
       "    </tr>\n",
       "    <tr>\n",
       "      <th>1134</th>\n",
       "      <td>0.248678</td>\n",
       "      <td>0.760287</td>\n",
       "      <td>0.162255</td>\n",
       "      <td>1.7343</td>\n",
       "    </tr>\n",
       "    <tr>\n",
       "      <th>1014</th>\n",
       "      <td>0.147921</td>\n",
       "      <td>0.512545</td>\n",
       "      <td>0.916869</td>\n",
       "      <td>-2.6697</td>\n",
       "    </tr>\n",
       "    <tr>\n",
       "      <th>2131</th>\n",
       "      <td>0.755181</td>\n",
       "      <td>0.317993</td>\n",
       "      <td>0.508370</td>\n",
       "      <td>-0.7168</td>\n",
       "    </tr>\n",
       "    <tr>\n",
       "      <th>253</th>\n",
       "      <td>0.156353</td>\n",
       "      <td>0.494194</td>\n",
       "      <td>0.353126</td>\n",
       "      <td>-0.2052</td>\n",
       "    </tr>\n",
       "    <tr>\n",
       "      <th>2167</th>\n",
       "      <td>0.026154</td>\n",
       "      <td>0.556416</td>\n",
       "      <td>0.158678</td>\n",
       "      <td>-1.7309</td>\n",
       "    </tr>\n",
       "  </tbody>\n",
       "</table>\n",
       "</div>"
      ],
      "text/plain": [
       "            LD        FD        RD      HA\n",
       "1119  0.507217  0.225090  0.986980  2.3684\n",
       "1134  0.248678  0.760287  0.162255  1.7343\n",
       "1014  0.147921  0.512545  0.916869 -2.6697\n",
       "2131  0.755181  0.317993  0.508370 -0.7168\n",
       "253   0.156353  0.494194  0.353126 -0.2052\n",
       "2167  0.026154  0.556416  0.158678 -1.7309"
      ]
     },
     "execution_count": 6,
     "metadata": {},
     "output_type": "execute_result"
    }
   ],
   "source": [
    "# Stack All\n",
    "\n",
    "St_train_C1=np.hstack((Obs_Data_Norm,HA_Data))\n",
    "\n",
    "Df_C1=pd.DataFrame(St_train_C1,columns=['LD','FD','RD','HA'])\n",
    "\n",
    "Df_C1.sample(6)"
   ]
  },
  {
   "cell_type": "markdown",
   "metadata": {},
   "source": [
    "### Inverse Kinematic Model\n",
    "\n",
    "$$\\omega_{R/L}=\\left( 1\\pm\\frac{L_{MR}}{2L_T}\\right)\\frac{v}{R}$$"
   ]
  },
  {
   "cell_type": "markdown",
   "metadata": {},
   "source": [
    "Fist Case: Left sensor nearest, objective angle +"
   ]
  },
  {
   "cell_type": "code",
   "execution_count": 7,
   "metadata": {},
   "outputs": [
    {
     "name": "stdout",
     "output_type": "stream",
     "text": [
      "Ltp:  1.2\n",
      "vel:  1.0\n",
      "Right Wheel vel:  2.6859\n",
      "Left Wheel vel:  7.5705\n"
     ]
    }
   ],
   "source": [
    "odp=1\n",
    "tethad=3\n",
    "S=-1\n",
    "Lt_p=round((odp*(Lt_max-Lt_min)+Lt_min),4)\n",
    "print('Ltp: ',Lt_p)\n",
    "V_p=round(((odp)*(v_max-v_min)+v_min),4)\n",
    "print('vel: ',V_p)\n",
    "W_R=round((1+((LMr*tethad*S)/(2*Lt_p)))*(V_p/R),4)\n",
    "W_L=round((1-((LMr*tethad*S)/(2*Lt_p)))*(V_p/R),4)\n",
    "print('Right Wheel vel: ',W_R)\n",
    "print('Left Wheel vel: ',W_L)"
   ]
  },
  {
   "cell_type": "markdown",
   "metadata": {},
   "source": [
    "Second Case: Left sensor nearest, objective angle -"
   ]
  },
  {
   "cell_type": "code",
   "execution_count": 8,
   "metadata": {},
   "outputs": [
    {
     "name": "stdout",
     "output_type": "stream",
     "text": [
      "Ltp:  0.39\n",
      "vel:  0.55\n",
      "Right Wheel vel:  0.7539\n",
      "Left Wheel vel:  4.8871\n"
     ]
    }
   ],
   "source": [
    "\n",
    "odp=0.1\n",
    "tethad=-3\n",
    "S=0.5\n",
    "Lt_p=round((odp*(Lt_max-Lt_min)+Lt_min),4)\n",
    "print('Ltp: ',Lt_p)\n",
    "V_p=round(((odp)*(v_max-v_min)+v_min),4)\n",
    "print('vel: ',V_p)\n",
    "W_R=round((1+((LMr*tethad*S)/(2*Lt_p)))*(V_p/R),4)\n",
    "W_L=round((1-((LMr*tethad*S)/(2*Lt_p)))*(V_p/R),4)\n",
    "print('Right Wheel vel: ',W_R)\n",
    "print('Left Wheel vel: ',W_L)"
   ]
  },
  {
   "cell_type": "markdown",
   "metadata": {},
   "source": [
    "Third case: Right sensor nearest, objective angle +"
   ]
  },
  {
   "cell_type": "code",
   "execution_count": 9,
   "metadata": {},
   "outputs": [
    {
     "name": "stdout",
     "output_type": "stream",
     "text": [
      "Ltp:  0.4026\n",
      "vel:  0.557\n",
      "Right Wheel vel:  3.0591\n",
      "Left Wheel vel:  2.6537\n"
     ]
    }
   ],
   "source": [
    "odp=0.114049\n",
    "tethad=0.3\n",
    "S=0.5\n",
    "Lt_p=round((odp*(Lt_max-Lt_min)+Lt_min),4)\n",
    "print('Ltp: ',Lt_p)\n",
    "V_p=round(((odp)*(v_max-v_min)+v_min),4)\n",
    "print('vel: ',V_p)\n",
    "W_R=round((1+((LMr*tethad*S)/(2*Lt_p)))*(V_p/R),4)\n",
    "W_L=round((1-((LMr*tethad*S)/(2*Lt_p)))*(V_p/R),4)\n",
    "print('Right Wheel vel: ',W_R)\n",
    "print('Left Wheel vel: ',W_L)"
   ]
  },
  {
   "cell_type": "markdown",
   "metadata": {},
   "source": [
    "Fourth case: Right sensor nearest, objective angle -"
   ]
  },
  {
   "cell_type": "code",
   "execution_count": 10,
   "metadata": {},
   "outputs": [
    {
     "name": "stdout",
     "output_type": "stream",
     "text": [
      "Ltp:  0.489\n",
      "vel:  0.605\n",
      "Right Wheel vel:  5.1024\n",
      "Left Wheel vel:  1.1027\n"
     ]
    }
   ],
   "source": [
    "odp=0.209947\n",
    "tethad=-1.6546\n",
    "S=-1\n",
    "Lt_p=round((odp*(Lt_max-Lt_min)+Lt_min),4)\n",
    "print('Ltp: ',Lt_p)\n",
    "V_p=round(((odp)*(v_max-v_min)+v_min),4)\n",
    "print('vel: ',V_p)\n",
    "W_R=round((1+((LMr*tethad*S)/(2*Lt_p)))*(V_p/R),4)\n",
    "W_L=round((1-((LMr*tethad*S)/(2*Lt_p)))*(V_p/R),4)\n",
    "print('Right Wheel vel: ',W_R)\n",
    "print('Left Wheel vel: ',W_L)"
   ]
  },
  {
   "cell_type": "markdown",
   "metadata": {},
   "source": [
    "Fifth case: Front sensor nearest, objective angle +"
   ]
  },
  {
   "cell_type": "code",
   "execution_count": 11,
   "metadata": {},
   "outputs": [
    {
     "name": "stdout",
     "output_type": "stream",
     "text": [
      "Ltp:  0.309\n",
      "vel:  0.505\n",
      "Right Wheel vel:  2.1108\n",
      "Left Wheel vel:  3.0687\n"
     ]
    }
   ],
   "source": [
    "odp=0.01\n",
    "tethad=0.3\n",
    "S=-1\n",
    "Lt_p=round((odp*(Lt_max-Lt_min)+Lt_min),4)\n",
    "print('Ltp: ',Lt_p)\n",
    "V_p=round(((odp)*(v_max-v_min)+v_min),4)\n",
    "print('vel: ',V_p)\n",
    "W_R=round((1+((LMr*tethad*S)/(2*Lt_p)))*(V_p/R),4)\n",
    "W_L=round((1-((LMr*tethad*S)/(2*Lt_p)))*(V_p/R),4)\n",
    "print('Right Wheel vel: ',W_R)\n",
    "print('Left Wheel vel: ',W_L)"
   ]
  },
  {
   "cell_type": "markdown",
   "metadata": {},
   "source": [
    "Sixth case: Front sensor nearest, objective angle -"
   ]
  },
  {
   "cell_type": "code",
   "execution_count": 12,
   "metadata": {},
   "outputs": [
    {
     "name": "stdout",
     "output_type": "stream",
     "text": [
      "Ltp:  0.309\n",
      "vel:  0.505\n",
      "Right Wheel vel:  7.3795\n",
      "Left Wheel vel:  -2.2\n"
     ]
    }
   ],
   "source": [
    "odp=0.01\n",
    "tethad=-3\n",
    "S=-1\n",
    "Lt_p=round((odp*(Lt_max-Lt_min)+Lt_min),4)\n",
    "print('Ltp: ',Lt_p)\n",
    "V_p=round(((odp)*(v_max-v_min)+v_min),4)\n",
    "print('vel: ',V_p)\n",
    "W_R=round((1+((LMr*tethad*S)/(2*Lt_p)))*(V_p/R),4)\n",
    "W_L=round((1-((LMr*tethad*S)/(2*Lt_p)))*(V_p/R),4)\n",
    "print('Right Wheel vel: ',W_R)\n",
    "print('Left Wheel vel: ',W_L)"
   ]
  },
  {
   "cell_type": "markdown",
   "metadata": {},
   "source": [
    "### Dataset Creation"
   ]
  },
  {
   "cell_type": "code",
   "execution_count": 13,
   "metadata": {},
   "outputs": [
    {
     "data": {
      "text/html": [
       "<div>\n",
       "<style scoped>\n",
       "    .dataframe tbody tr th:only-of-type {\n",
       "        vertical-align: middle;\n",
       "    }\n",
       "\n",
       "    .dataframe tbody tr th {\n",
       "        vertical-align: top;\n",
       "    }\n",
       "\n",
       "    .dataframe thead th {\n",
       "        text-align: right;\n",
       "    }\n",
       "</style>\n",
       "<table border=\"1\" class=\"dataframe\">\n",
       "  <thead>\n",
       "    <tr style=\"text-align: right;\">\n",
       "      <th></th>\n",
       "      <th>LD</th>\n",
       "      <th>FD</th>\n",
       "      <th>RD</th>\n",
       "      <th>HA</th>\n",
       "      <th>Min Value</th>\n",
       "    </tr>\n",
       "  </thead>\n",
       "  <tbody>\n",
       "    <tr>\n",
       "      <th>1574</th>\n",
       "      <td>0.067886</td>\n",
       "      <td>0.031541</td>\n",
       "      <td>0.647589</td>\n",
       "      <td>2.6213</td>\n",
       "      <td>0.031541</td>\n",
       "    </tr>\n",
       "    <tr>\n",
       "      <th>254</th>\n",
       "      <td>0.704016</td>\n",
       "      <td>0.637563</td>\n",
       "      <td>0.800258</td>\n",
       "      <td>1.8408</td>\n",
       "      <td>0.637563</td>\n",
       "    </tr>\n",
       "    <tr>\n",
       "      <th>162</th>\n",
       "      <td>0.369158</td>\n",
       "      <td>0.322437</td>\n",
       "      <td>0.286307</td>\n",
       "      <td>2.7104</td>\n",
       "      <td>0.286307</td>\n",
       "    </tr>\n",
       "    <tr>\n",
       "      <th>2255</th>\n",
       "      <td>0.343719</td>\n",
       "      <td>0.339642</td>\n",
       "      <td>0.604664</td>\n",
       "      <td>2.2176</td>\n",
       "      <td>0.339642</td>\n",
       "    </tr>\n",
       "    <tr>\n",
       "      <th>1866</th>\n",
       "      <td>0.675004</td>\n",
       "      <td>0.880287</td>\n",
       "      <td>0.352840</td>\n",
       "      <td>3.0090</td>\n",
       "      <td>0.352840</td>\n",
       "    </tr>\n",
       "    <tr>\n",
       "      <th>1835</th>\n",
       "      <td>0.143776</td>\n",
       "      <td>0.948674</td>\n",
       "      <td>0.757905</td>\n",
       "      <td>1.3812</td>\n",
       "      <td>0.143776</td>\n",
       "    </tr>\n",
       "  </tbody>\n",
       "</table>\n",
       "</div>"
      ],
      "text/plain": [
       "            LD        FD        RD      HA  Min Value\n",
       "1574  0.067886  0.031541  0.647589  2.6213   0.031541\n",
       "254   0.704016  0.637563  0.800258  1.8408   0.637563\n",
       "162   0.369158  0.322437  0.286307  2.7104   0.286307\n",
       "2255  0.343719  0.339642  0.604664  2.2176   0.339642\n",
       "1866  0.675004  0.880287  0.352840  3.0090   0.352840\n",
       "1835  0.143776  0.948674  0.757905  1.3812   0.143776"
      ]
     },
     "execution_count": 13,
     "metadata": {},
     "output_type": "execute_result"
    }
   ],
   "source": [
    "Df_C1['Min Value']=Df_C1[['LD','FD','RD']].min(axis=1)\n",
    "Df_C1.sample(6)\n"
   ]
  },
  {
   "cell_type": "markdown",
   "metadata": {},
   "source": [
    "### Left Wheel Evaluation"
   ]
  },
  {
   "cell_type": "code",
   "execution_count": 14,
   "metadata": {},
   "outputs": [
    {
     "data": {
      "text/html": [
       "<div>\n",
       "<style scoped>\n",
       "    .dataframe tbody tr th:only-of-type {\n",
       "        vertical-align: middle;\n",
       "    }\n",
       "\n",
       "    .dataframe tbody tr th {\n",
       "        vertical-align: top;\n",
       "    }\n",
       "\n",
       "    .dataframe thead th {\n",
       "        text-align: right;\n",
       "    }\n",
       "</style>\n",
       "<table border=\"1\" class=\"dataframe\">\n",
       "  <thead>\n",
       "    <tr style=\"text-align: right;\">\n",
       "      <th></th>\n",
       "      <th>LD</th>\n",
       "      <th>FD</th>\n",
       "      <th>RD</th>\n",
       "      <th>HA</th>\n",
       "      <th>Min Value</th>\n",
       "      <th>W_L</th>\n",
       "      <th>W_R</th>\n",
       "    </tr>\n",
       "  </thead>\n",
       "  <tbody>\n",
       "    <tr>\n",
       "      <th>1884</th>\n",
       "      <td>0.841218</td>\n",
       "      <td>0.266237</td>\n",
       "      <td>0.151667</td>\n",
       "      <td>0.9458</td>\n",
       "      <td>0.151667</td>\n",
       "      <td>2.3434</td>\n",
       "      <td>3.5622</td>\n",
       "    </tr>\n",
       "    <tr>\n",
       "      <th>2201</th>\n",
       "      <td>0.161212</td>\n",
       "      <td>0.137921</td>\n",
       "      <td>0.157390</td>\n",
       "      <td>0.3662</td>\n",
       "      <td>0.137921</td>\n",
       "      <td>3.3979</td>\n",
       "      <td>2.4380</td>\n",
       "    </tr>\n",
       "    <tr>\n",
       "      <th>4</th>\n",
       "      <td>0.202230</td>\n",
       "      <td>0.298065</td>\n",
       "      <td>0.772213</td>\n",
       "      <td>-1.4565</td>\n",
       "      <td>0.202230</td>\n",
       "      <td>3.9698</td>\n",
       "      <td>2.1953</td>\n",
       "    </tr>\n",
       "    <tr>\n",
       "      <th>1601</th>\n",
       "      <td>0.442332</td>\n",
       "      <td>0.120573</td>\n",
       "      <td>0.225497</td>\n",
       "      <td>0.1431</td>\n",
       "      <td>0.120573</td>\n",
       "      <td>4.7908</td>\n",
       "      <td>2.4713</td>\n",
       "    </tr>\n",
       "    <tr>\n",
       "      <th>1136</th>\n",
       "      <td>0.234100</td>\n",
       "      <td>0.434265</td>\n",
       "      <td>0.251538</td>\n",
       "      <td>-1.4730</td>\n",
       "      <td>0.234100</td>\n",
       "      <td>4.0340</td>\n",
       "      <td>2.2952</td>\n",
       "    </tr>\n",
       "    <tr>\n",
       "      <th>663</th>\n",
       "      <td>0.724453</td>\n",
       "      <td>0.829104</td>\n",
       "      <td>0.326656</td>\n",
       "      <td>-1.6869</td>\n",
       "      <td>0.326656</td>\n",
       "      <td>1.5613</td>\n",
       "      <td>5.2418</td>\n",
       "    </tr>\n",
       "  </tbody>\n",
       "</table>\n",
       "</div>"
      ],
      "text/plain": [
       "            LD        FD        RD      HA  Min Value     W_L     W_R\n",
       "1884  0.841218  0.266237  0.151667  0.9458   0.151667  2.3434  3.5622\n",
       "2201  0.161212  0.137921  0.157390  0.3662   0.137921  3.3979  2.4380\n",
       "4     0.202230  0.298065  0.772213 -1.4565   0.202230  3.9698  2.1953\n",
       "1601  0.442332  0.120573  0.225497  0.1431   0.120573  4.7908  2.4713\n",
       "1136  0.234100  0.434265  0.251538 -1.4730   0.234100  4.0340  2.2952\n",
       "663   0.724453  0.829104  0.326656 -1.6869   0.326656  1.5613  5.2418"
      ]
     },
     "execution_count": 14,
     "metadata": {},
     "output_type": "execute_result"
    }
   ],
   "source": [
    "def lw_eval(df):\n",
    "    if df['Min Value']== df['LD'] and df['HA']>0:\n",
    "        Sf=-1\n",
    "        odpf=df['LD']\n",
    "    elif df['Min Value']== df['LD'] and df['HA']<0:\n",
    "        Sf=0.5\n",
    "        odpf=df['LD']\n",
    "    elif df['Min Value']== df['RD'] and df['HA']>0:\n",
    "        Sf=0.5\n",
    "        odpf=df['RD']\n",
    "    elif df['Min Value']== df['RD'] and df['HA']<0:\n",
    "        Sf=-1\n",
    "        odpf=df['RD']\n",
    "    elif df['Min Value']== df['FD'] and df['HA']>0:\n",
    "        Sf=-1\n",
    "        odpf=df['FD']\n",
    "    elif df['Min Value']== df['FD'] and df['HA']<0:\n",
    "        Sf=-1\n",
    "        odpf=df['FD']\n",
    "    \n",
    "        \n",
    "      \n",
    "    if odpf==0:\n",
    "      odpf=0.001\n",
    "      \n",
    "    tethad=df['HA']\n",
    "    \n",
    "    if tethad>0 and tethad<0.3:\n",
    "        tethad*=10\n",
    "        \n",
    "    if tethad<0 and tethad>-0.3:\n",
    "        tethad=-0.3\n",
    "    \n",
    "    Lt_p=round((odpf*(Lt_max-Lt_min)+Lt_min),4)\n",
    "    V_p=round(((odpf)*(v_max-v_min)+v_min),4)\n",
    "\n",
    "    \n",
    "    return round((1-((LMr*tethad*Sf)/(2*Lt_p)))*(V_p/R),4)\n",
    "\n",
    "def rw_eval(df):\n",
    "    if df['Min Value']== df['LD'] and df['HA']>0:\n",
    "        Sf=-1\n",
    "        odpf=df['LD']\n",
    "    elif df['Min Value']== df['LD'] and df['HA']<0:\n",
    "        Sf=0.5\n",
    "        odpf=df['LD']\n",
    "    elif df['Min Value']== df['RD'] and df['HA']>0:\n",
    "        Sf=0.5\n",
    "        odpf=df['RD']\n",
    "    elif df['Min Value']== df['RD'] and df['HA']<0:\n",
    "        Sf=-1\n",
    "        odpf=df['RD']\n",
    "    elif df['Min Value']== df['FD'] and df['HA']>0:\n",
    "        Sf=-1\n",
    "        odpf=df['FD']\n",
    "    elif df['Min Value']== df['FD'] and df['HA']<0:\n",
    "        Sf=-1\n",
    "        odpf=df['FD']\n",
    "      \n",
    "      \n",
    "    if odpf==0:\n",
    "      odpf=0.001\n",
    "      \n",
    "    tethad=df['HA']\n",
    "   \n",
    "    if tethad>0 and tethad<0.3:\n",
    "        tethad=0.3\n",
    "        \n",
    "    if tethad<0 and tethad>-0.3:\n",
    "        tethad=-0.3\n",
    "    \n",
    "    Lt_p=round((odpf*(Lt_max-Lt_min)+Lt_min),4)\n",
    "    V_p=round(((odpf)*(v_max-v_min)+v_min),4)\n",
    "\n",
    "    \n",
    "    return round((1+((LMr*tethad*Sf)/(2*Lt_p)))*(V_p/R),4)\n",
    "        \n",
    "\n",
    "Df_C1=Df_C1.assign(W_L=Df_C1.apply(lw_eval,axis=1))\n",
    "\n",
    "Df_C1=Df_C1.assign(W_R=Df_C1.apply(rw_eval,axis=1))\n",
    "\n",
    "Df_C1.sample(6)\n",
    "\n",
    "\n",
    "\n",
    "        "
   ]
  },
  {
   "cell_type": "markdown",
   "metadata": {},
   "source": [
    "Extract WL to train "
   ]
  },
  {
   "cell_type": "code",
   "execution_count": 15,
   "metadata": {},
   "outputs": [
    {
     "data": {
      "text/html": [
       "<div>\n",
       "<style scoped>\n",
       "    .dataframe tbody tr th:only-of-type {\n",
       "        vertical-align: middle;\n",
       "    }\n",
       "\n",
       "    .dataframe tbody tr th {\n",
       "        vertical-align: top;\n",
       "    }\n",
       "\n",
       "    .dataframe thead th {\n",
       "        text-align: right;\n",
       "    }\n",
       "</style>\n",
       "<table border=\"1\" class=\"dataframe\">\n",
       "  <thead>\n",
       "    <tr style=\"text-align: right;\">\n",
       "      <th></th>\n",
       "      <th>LD</th>\n",
       "      <th>FD</th>\n",
       "      <th>RD</th>\n",
       "      <th>HA</th>\n",
       "      <th>W_L</th>\n",
       "    </tr>\n",
       "  </thead>\n",
       "  <tbody>\n",
       "    <tr>\n",
       "      <th>2754</th>\n",
       "      <td>0.830928</td>\n",
       "      <td>0.317276</td>\n",
       "      <td>0.586636</td>\n",
       "      <td>-0.1398</td>\n",
       "      <td>3.0478</td>\n",
       "    </tr>\n",
       "    <tr>\n",
       "      <th>2776</th>\n",
       "      <td>0.451765</td>\n",
       "      <td>0.016631</td>\n",
       "      <td>0.797682</td>\n",
       "      <td>2.1636</td>\n",
       "      <td>6.0174</td>\n",
       "    </tr>\n",
       "    <tr>\n",
       "      <th>2660</th>\n",
       "      <td>0.664856</td>\n",
       "      <td>0.982652</td>\n",
       "      <td>0.403348</td>\n",
       "      <td>-0.3176</td>\n",
       "      <td>3.2701</td>\n",
       "    </tr>\n",
       "    <tr>\n",
       "      <th>930</th>\n",
       "      <td>0.365442</td>\n",
       "      <td>0.012186</td>\n",
       "      <td>0.631707</td>\n",
       "      <td>-2.4257</td>\n",
       "      <td>-1.2609</td>\n",
       "    </tr>\n",
       "    <tr>\n",
       "      <th>1618</th>\n",
       "      <td>0.100472</td>\n",
       "      <td>0.154265</td>\n",
       "      <td>0.384032</td>\n",
       "      <td>-1.7861</td>\n",
       "      <td>4.0511</td>\n",
       "    </tr>\n",
       "    <tr>\n",
       "      <th>1759</th>\n",
       "      <td>0.364871</td>\n",
       "      <td>0.442437</td>\n",
       "      <td>0.429961</td>\n",
       "      <td>2.5544</td>\n",
       "      <td>6.2094</td>\n",
       "    </tr>\n",
       "  </tbody>\n",
       "</table>\n",
       "</div>"
      ],
      "text/plain": [
       "            LD        FD        RD      HA     W_L\n",
       "2754  0.830928  0.317276  0.586636 -0.1398  3.0478\n",
       "2776  0.451765  0.016631  0.797682  2.1636  6.0174\n",
       "2660  0.664856  0.982652  0.403348 -0.3176  3.2701\n",
       "930   0.365442  0.012186  0.631707 -2.4257 -1.2609\n",
       "1618  0.100472  0.154265  0.384032 -1.7861  4.0511\n",
       "1759  0.364871  0.442437  0.429961  2.5544  6.2094"
      ]
     },
     "execution_count": 15,
     "metadata": {},
     "output_type": "execute_result"
    }
   ],
   "source": [
    "Df_C1_Train=Df_C1[['LD','FD','RD','HA','W_L']]\n",
    "Df_C1_Train.sample(6)"
   ]
  },
  {
   "cell_type": "code",
   "execution_count": 16,
   "metadata": {},
   "outputs": [],
   "source": [
    "Df_C1_Train.to_csv('Df_C1_Train_L_2.csv',index=False)"
   ]
  },
  {
   "cell_type": "markdown",
   "metadata": {},
   "source": [
    "Extract WR to train "
   ]
  },
  {
   "cell_type": "code",
   "execution_count": 17,
   "metadata": {},
   "outputs": [
    {
     "data": {
      "text/html": [
       "<div>\n",
       "<style scoped>\n",
       "    .dataframe tbody tr th:only-of-type {\n",
       "        vertical-align: middle;\n",
       "    }\n",
       "\n",
       "    .dataframe tbody tr th {\n",
       "        vertical-align: top;\n",
       "    }\n",
       "\n",
       "    .dataframe thead th {\n",
       "        text-align: right;\n",
       "    }\n",
       "</style>\n",
       "<table border=\"1\" class=\"dataframe\">\n",
       "  <thead>\n",
       "    <tr style=\"text-align: right;\">\n",
       "      <th></th>\n",
       "      <th>LD</th>\n",
       "      <th>FD</th>\n",
       "      <th>RD</th>\n",
       "      <th>HA</th>\n",
       "      <th>W_R</th>\n",
       "    </tr>\n",
       "  </thead>\n",
       "  <tbody>\n",
       "    <tr>\n",
       "      <th>2290</th>\n",
       "      <td>0.932400</td>\n",
       "      <td>0.441290</td>\n",
       "      <td>0.089283</td>\n",
       "      <td>0.2832</td>\n",
       "      <td>3.0026</td>\n",
       "    </tr>\n",
       "    <tr>\n",
       "      <th>102</th>\n",
       "      <td>0.267543</td>\n",
       "      <td>0.016631</td>\n",
       "      <td>0.400343</td>\n",
       "      <td>2.9098</td>\n",
       "      <td>-1.9804</td>\n",
       "    </tr>\n",
       "    <tr>\n",
       "      <th>2462</th>\n",
       "      <td>0.450908</td>\n",
       "      <td>0.995125</td>\n",
       "      <td>0.992417</td>\n",
       "      <td>-0.6381</td>\n",
       "      <td>3.4001</td>\n",
       "    </tr>\n",
       "    <tr>\n",
       "      <th>1507</th>\n",
       "      <td>0.710161</td>\n",
       "      <td>0.391685</td>\n",
       "      <td>0.026041</td>\n",
       "      <td>0.1571</td>\n",
       "      <td>2.8632</td>\n",
       "    </tr>\n",
       "    <tr>\n",
       "      <th>1976</th>\n",
       "      <td>0.444476</td>\n",
       "      <td>0.665090</td>\n",
       "      <td>0.129632</td>\n",
       "      <td>0.6115</td>\n",
       "      <td>3.3013</td>\n",
       "    </tr>\n",
       "    <tr>\n",
       "      <th>1176</th>\n",
       "      <td>0.859940</td>\n",
       "      <td>0.081720</td>\n",
       "      <td>0.159107</td>\n",
       "      <td>-1.0377</td>\n",
       "      <td>4.2420</td>\n",
       "    </tr>\n",
       "  </tbody>\n",
       "</table>\n",
       "</div>"
      ],
      "text/plain": [
       "            LD        FD        RD      HA     W_R\n",
       "2290  0.932400  0.441290  0.089283  0.2832  3.0026\n",
       "102   0.267543  0.016631  0.400343  2.9098 -1.9804\n",
       "2462  0.450908  0.995125  0.992417 -0.6381  3.4001\n",
       "1507  0.710161  0.391685  0.026041  0.1571  2.8632\n",
       "1976  0.444476  0.665090  0.129632  0.6115  3.3013\n",
       "1176  0.859940  0.081720  0.159107 -1.0377  4.2420"
      ]
     },
     "execution_count": 17,
     "metadata": {},
     "output_type": "execute_result"
    }
   ],
   "source": [
    "Df_C1_TrainR=Df_C1[['LD','FD','RD','HA','W_R']]\n",
    "Df_C1_TrainR.sample(6)"
   ]
  },
  {
   "cell_type": "code",
   "execution_count": 18,
   "metadata": {},
   "outputs": [],
   "source": [
    "Df_C1_TrainR.to_csv('Df_C1_Train_R_2.csv',index=False)"
   ]
  },
  {
   "cell_type": "markdown",
   "metadata": {},
   "source": [
    "## No obstacle circle"
   ]
  },
  {
   "cell_type": "markdown",
   "metadata": {},
   "source": [
    "### Angle Data Generation"
   ]
  },
  {
   "cell_type": "code",
   "execution_count": 19,
   "metadata": {},
   "outputs": [
    {
     "name": "stdout",
     "output_type": "stream",
     "text": [
      "Angle data : [[-0.8852]\n",
      " [ 0.6788]]\n"
     ]
    }
   ],
   "source": [
    "HA_Data_2=[round(random.uniform(-math.pi, math.pi),4) for _ in range(3000)]\n",
    "HA_Data_2=np.array(HA_Data).reshape(3000,1)\n",
    "print('Angle data :',HA_Data_2[:2])"
   ]
  },
  {
   "cell_type": "code",
   "execution_count": 20,
   "metadata": {},
   "outputs": [
    {
     "data": {
      "text/html": [
       "<div>\n",
       "<style scoped>\n",
       "    .dataframe tbody tr th:only-of-type {\n",
       "        vertical-align: middle;\n",
       "    }\n",
       "\n",
       "    .dataframe tbody tr th {\n",
       "        vertical-align: top;\n",
       "    }\n",
       "\n",
       "    .dataframe thead tr th {\n",
       "        text-align: left;\n",
       "    }\n",
       "</style>\n",
       "<table border=\"1\" class=\"dataframe\">\n",
       "  <thead>\n",
       "    <tr>\n",
       "      <th></th>\n",
       "      <th>HA</th>\n",
       "    </tr>\n",
       "  </thead>\n",
       "  <tbody>\n",
       "    <tr>\n",
       "      <th>2802</th>\n",
       "      <td>-0.3352</td>\n",
       "    </tr>\n",
       "    <tr>\n",
       "      <th>1637</th>\n",
       "      <td>-1.9516</td>\n",
       "    </tr>\n",
       "    <tr>\n",
       "      <th>2238</th>\n",
       "      <td>0.4698</td>\n",
       "    </tr>\n",
       "    <tr>\n",
       "      <th>2842</th>\n",
       "      <td>-2.7153</td>\n",
       "    </tr>\n",
       "    <tr>\n",
       "      <th>1822</th>\n",
       "      <td>-1.8797</td>\n",
       "    </tr>\n",
       "    <tr>\n",
       "      <th>590</th>\n",
       "      <td>2.3653</td>\n",
       "    </tr>\n",
       "  </tbody>\n",
       "</table>\n",
       "</div>"
      ],
      "text/plain": [
       "          HA\n",
       "2802 -0.3352\n",
       "1637 -1.9516\n",
       "2238  0.4698\n",
       "2842 -2.7153\n",
       "1822 -1.8797\n",
       "590   2.3653"
      ]
     },
     "execution_count": 20,
     "metadata": {},
     "output_type": "execute_result"
    }
   ],
   "source": [
    "Df_C2=pd.DataFrame(HA_Data_2,columns=[['HA']])\n",
    "Df_C2.sample(6)"
   ]
  },
  {
   "cell_type": "markdown",
   "metadata": {},
   "source": [
    "### Evaluation   Right and Left Wheel"
   ]
  },
  {
   "cell_type": "code",
   "execution_count": 21,
   "metadata": {},
   "outputs": [
    {
     "data": {
      "text/html": [
       "<div>\n",
       "<style scoped>\n",
       "    .dataframe tbody tr th:only-of-type {\n",
       "        vertical-align: middle;\n",
       "    }\n",
       "\n",
       "    .dataframe tbody tr th {\n",
       "        vertical-align: top;\n",
       "    }\n",
       "\n",
       "    .dataframe thead tr th {\n",
       "        text-align: left;\n",
       "    }\n",
       "</style>\n",
       "<table border=\"1\" class=\"dataframe\">\n",
       "  <thead>\n",
       "    <tr>\n",
       "      <th></th>\n",
       "      <th>HA</th>\n",
       "      <th>W_L</th>\n",
       "      <th>W_R</th>\n",
       "    </tr>\n",
       "  </thead>\n",
       "  <tbody>\n",
       "    <tr>\n",
       "      <th>935</th>\n",
       "      <td>0.3304</td>\n",
       "      <td>5.3972</td>\n",
       "      <td>4.8592</td>\n",
       "    </tr>\n",
       "    <tr>\n",
       "      <th>2781</th>\n",
       "      <td>2.2059</td>\n",
       "      <td>6.9240</td>\n",
       "      <td>3.3324</td>\n",
       "    </tr>\n",
       "    <tr>\n",
       "      <th>416</th>\n",
       "      <td>2.0525</td>\n",
       "      <td>6.7992</td>\n",
       "      <td>3.4573</td>\n",
       "    </tr>\n",
       "    <tr>\n",
       "      <th>498</th>\n",
       "      <td>-0.0553</td>\n",
       "      <td>5.0832</td>\n",
       "      <td>5.1732</td>\n",
       "    </tr>\n",
       "    <tr>\n",
       "      <th>1997</th>\n",
       "      <td>1.3650</td>\n",
       "      <td>6.2395</td>\n",
       "      <td>4.0170</td>\n",
       "    </tr>\n",
       "    <tr>\n",
       "      <th>687</th>\n",
       "      <td>1.0109</td>\n",
       "      <td>5.9512</td>\n",
       "      <td>4.3052</td>\n",
       "    </tr>\n",
       "  </tbody>\n",
       "</table>\n",
       "</div>"
      ],
      "text/plain": [
       "          HA     W_L     W_R\n",
       "935   0.3304  5.3972  4.8592\n",
       "2781  2.2059  6.9240  3.3324\n",
       "416   2.0525  6.7992  3.4573\n",
       "498  -0.0553  5.0832  5.1732\n",
       "1997  1.3650  6.2395  4.0170\n",
       "687   1.0109  5.9512  4.3052"
      ]
     },
     "execution_count": 21,
     "metadata": {},
     "output_type": "execute_result"
    }
   ],
   "source": [
    "Lt_2=1.2\n",
    "v_max=1\n",
    "\n",
    "def lw_eval_NO(df):\n",
    "    Sf1=-1\n",
    "    haf=df['HA']\n",
    "    Lt_pf=round((Lt_2),4)\n",
    "    V_pf=round(v_max,4)\n",
    "    return round((1-((LMr*haf*Sf1)/(2*Lt_pf)))*(V_pf/R),4)\n",
    "\n",
    "def rw_eval_NO(df):\n",
    "    Sf1=-1\n",
    "    haf=df['HA']\n",
    "    Lt_pf=round((Lt_2),4)\n",
    "    V_pf=round(v_max,4)\n",
    "    return round((1+((LMr*haf*Sf1)/(2*Lt_pf)))*(V_pf/R),4)\n",
    "\n",
    "\n",
    "Df_C2=Df_C2.assign(W_L=Df_C2.apply(lw_eval_NO,axis=1))\n",
    "\n",
    "Df_C2=Df_C2.assign(W_R=Df_C2.apply(rw_eval_NO,axis=1))\n",
    "\n",
    "\n",
    "Df_C2.sample(6)\n",
    "\n"
   ]
  },
  {
   "cell_type": "markdown",
   "metadata": {},
   "source": [
    "Left Wheel Train NO"
   ]
  },
  {
   "cell_type": "code",
   "execution_count": 22,
   "metadata": {},
   "outputs": [
    {
     "data": {
      "text/html": [
       "<div>\n",
       "<style scoped>\n",
       "    .dataframe tbody tr th:only-of-type {\n",
       "        vertical-align: middle;\n",
       "    }\n",
       "\n",
       "    .dataframe tbody tr th {\n",
       "        vertical-align: top;\n",
       "    }\n",
       "\n",
       "    .dataframe thead tr th {\n",
       "        text-align: left;\n",
       "    }\n",
       "</style>\n",
       "<table border=\"1\" class=\"dataframe\">\n",
       "  <thead>\n",
       "    <tr>\n",
       "      <th></th>\n",
       "      <th>HA</th>\n",
       "      <th>W_L</th>\n",
       "    </tr>\n",
       "  </thead>\n",
       "  <tbody>\n",
       "    <tr>\n",
       "      <th>2571</th>\n",
       "      <td>-3.0514</td>\n",
       "      <td>2.6441</td>\n",
       "    </tr>\n",
       "    <tr>\n",
       "      <th>2000</th>\n",
       "      <td>2.9933</td>\n",
       "      <td>7.5651</td>\n",
       "    </tr>\n",
       "    <tr>\n",
       "      <th>780</th>\n",
       "      <td>-2.2501</td>\n",
       "      <td>3.2964</td>\n",
       "    </tr>\n",
       "    <tr>\n",
       "      <th>2375</th>\n",
       "      <td>-3.0593</td>\n",
       "      <td>2.6376</td>\n",
       "    </tr>\n",
       "    <tr>\n",
       "      <th>1762</th>\n",
       "      <td>3.0677</td>\n",
       "      <td>7.6256</td>\n",
       "    </tr>\n",
       "    <tr>\n",
       "      <th>2699</th>\n",
       "      <td>0.4179</td>\n",
       "      <td>5.4684</td>\n",
       "    </tr>\n",
       "  </tbody>\n",
       "</table>\n",
       "</div>"
      ],
      "text/plain": [
       "          HA     W_L\n",
       "2571 -3.0514  2.6441\n",
       "2000  2.9933  7.5651\n",
       "780  -2.2501  3.2964\n",
       "2375 -3.0593  2.6376\n",
       "1762  3.0677  7.6256\n",
       "2699  0.4179  5.4684"
      ]
     },
     "execution_count": 22,
     "metadata": {},
     "output_type": "execute_result"
    }
   ],
   "source": [
    "Df_C2_Train=Df_C2[['HA','W_L']]\n",
    "Df_C2_Train.sample(6)"
   ]
  },
  {
   "cell_type": "code",
   "execution_count": 23,
   "metadata": {},
   "outputs": [],
   "source": [
    "Df_C2_Train.to_csv('Df_C2_Train_L_2.csv',index=False)"
   ]
  },
  {
   "cell_type": "markdown",
   "metadata": {},
   "source": [
    "Right Wheel Train NO"
   ]
  },
  {
   "cell_type": "code",
   "execution_count": 24,
   "metadata": {},
   "outputs": [
    {
     "data": {
      "text/html": [
       "<div>\n",
       "<style scoped>\n",
       "    .dataframe tbody tr th:only-of-type {\n",
       "        vertical-align: middle;\n",
       "    }\n",
       "\n",
       "    .dataframe tbody tr th {\n",
       "        vertical-align: top;\n",
       "    }\n",
       "\n",
       "    .dataframe thead tr th {\n",
       "        text-align: left;\n",
       "    }\n",
       "</style>\n",
       "<table border=\"1\" class=\"dataframe\">\n",
       "  <thead>\n",
       "    <tr>\n",
       "      <th></th>\n",
       "      <th>HA</th>\n",
       "      <th>W_R</th>\n",
       "    </tr>\n",
       "  </thead>\n",
       "  <tbody>\n",
       "    <tr>\n",
       "      <th>0</th>\n",
       "      <td>-0.8852</td>\n",
       "      <td>5.8488</td>\n",
       "    </tr>\n",
       "    <tr>\n",
       "      <th>1</th>\n",
       "      <td>0.6788</td>\n",
       "      <td>4.5756</td>\n",
       "    </tr>\n",
       "    <tr>\n",
       "      <th>2</th>\n",
       "      <td>1.6664</td>\n",
       "      <td>3.7716</td>\n",
       "    </tr>\n",
       "    <tr>\n",
       "      <th>3</th>\n",
       "      <td>-2.0558</td>\n",
       "      <td>6.8018</td>\n",
       "    </tr>\n",
       "    <tr>\n",
       "      <th>4</th>\n",
       "      <td>-1.4565</td>\n",
       "      <td>6.3139</td>\n",
       "    </tr>\n",
       "    <tr>\n",
       "      <th>5</th>\n",
       "      <td>-2.3302</td>\n",
       "      <td>7.0252</td>\n",
       "    </tr>\n",
       "  </tbody>\n",
       "</table>\n",
       "</div>"
      ],
      "text/plain": [
       "       HA     W_R\n",
       "0 -0.8852  5.8488\n",
       "1  0.6788  4.5756\n",
       "2  1.6664  3.7716\n",
       "3 -2.0558  6.8018\n",
       "4 -1.4565  6.3139\n",
       "5 -2.3302  7.0252"
      ]
     },
     "execution_count": 24,
     "metadata": {},
     "output_type": "execute_result"
    }
   ],
   "source": [
    "Df_C2_Train_R=Df_C2[['HA','W_R']]\n",
    "Df_C2_Train_R.head(6)"
   ]
  },
  {
   "cell_type": "code",
   "execution_count": 25,
   "metadata": {},
   "outputs": [],
   "source": [
    "Df_C2_Train_R.to_csv('Df_C2_Train_R_2.csv',index=False)"
   ]
  }
 ],
 "metadata": {
  "kernelspec": {
   "display_name": "Python 3",
   "language": "python",
   "name": "python3"
  },
  "language_info": {
   "codemirror_mode": {
    "name": "ipython",
    "version": 3
   },
   "file_extension": ".py",
   "mimetype": "text/x-python",
   "name": "python",
   "nbconvert_exporter": "python",
   "pygments_lexer": "ipython3",
   "version": "3.12.4"
  }
 },
 "nbformat": 4,
 "nbformat_minor": 2
}
